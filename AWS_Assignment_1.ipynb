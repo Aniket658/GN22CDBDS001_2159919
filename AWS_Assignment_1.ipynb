{
 "cells": [
  {
   "cell_type": "markdown",
   "id": "e30c9246",
   "metadata": {
    "scrolled": true
   },
   "source": [
    "# Reading 4 files from S3 bucket"
   ]
  },
  {
   "cell_type": "code",
   "execution_count": 1,
   "id": "2a432c5a",
   "metadata": {},
   "outputs": [],
   "source": [
    "# Importing modules\n",
    "\n",
    "import boto3\n",
    "import pandas as pd\n",
    "import io\n",
    "import numpy as np\n",
    "import matplotlib.pyplot as plt"
   ]
  },
  {
   "cell_type": "code",
   "execution_count": 2,
   "id": "f1d7673c",
   "metadata": {},
   "outputs": [
    {
     "name": "stderr",
     "output_type": "stream",
     "text": [
      "/home/ec2-user/anaconda3/envs/python3/lib/python3.6/site-packages/boto3/compat.py:88: PythonDeprecationWarning: Boto3 will no longer support Python 3.6 starting May 30, 2022. To continue receiving service updates, bug fixes, and security updates please upgrade to Python 3.7 or later. More information can be found here: https://aws.amazon.com/blogs/developer/python-support-policy-updates-for-aws-sdks-and-tools/\n",
      "  warnings.warn(warning, PythonDeprecationWarning)\n"
     ]
    }
   ],
   "source": [
    "s3 = boto3.client('s3')"
   ]
  },
  {
   "cell_type": "code",
   "execution_count": 3,
   "id": "f8188e97",
   "metadata": {},
   "outputs": [],
   "source": [
    "# Reading 4 files from s3 bucket named 'myawsbucket658'\n",
    "\n",
    "data_lis = []\n",
    "for j in range(1, 5):\n",
    "    obj = s3.get_object(Bucket = 'myawsbucket658',Key = 'file'+str(j)+'.txt')\n",
    "    obj['Body']\n",
    "    data = ''\n",
    "    with io.FileIO('sample.txt', 'w') as file:\n",
    "        for i in obj['Body']:\n",
    "            file.write(i)\n",
    "    f = open(\"sample.txt\", \"r\")\n",
    "    data_lis.append(f.read())"
   ]
  },
  {
   "cell_type": "code",
   "execution_count": 4,
   "id": "24b93461",
   "metadata": {},
   "outputs": [
    {
     "data": {
      "text/plain": [
       "['A cryptocurrency is an encrypted data string that denotes a unit of currency. It is monitored and organized by a peer-to-peer network called a blockchain, which also serves as a secure ledger of transactions, e.g., buying, selling, and transferring. Unlike physical money, cryptocurrencies are decentralized, which means they are not issued by governments or other financial institutions. ',\n",
       " 'Cryptocurrencies are created (and secured) through cryptographic algorithms that are maintained and confirmed in a process called mining, where a network of computers or specialized hardware such as application-specific integrated circuits (ASICs) process and validate the transactions. The process incentivizes the miners who run the network with the cryptocurrency.',\n",
       " 'Over the last few years, cryptocurrency prices have risen and then fallen. Crypto marketplaces do not guarantee that an investor is completing a purchase or trade at the optimal price. As a result, many investors take advantage of this by using arbitrage to find the difference in price across several markets.',\n",
       " 'Decentralized cryptocurrency is produced by an entire cryptocurrency system collectively, at a rate which is defined when the system is created and which is publicly stated. In centralized banking and economic systems such as the US Federal Reserve System, corporate boards or governments control the supply of currency.[citation needed] In the case of decentralized cryptocurrency, companies or governments cannot produce new units, and have not so far provided backing for other firms, banks or corporate entities which hold asset value measured in it. The underlying technical system upon which decentralized cryptocurrencies are based was created by the group or individual known as Satoshi Nakamoto.']"
      ]
     },
     "execution_count": 4,
     "metadata": {},
     "output_type": "execute_result"
    }
   ],
   "source": [
    "data_lis "
   ]
  },
  {
   "cell_type": "code",
   "execution_count": 5,
   "id": "2fcb11fc",
   "metadata": {},
   "outputs": [
    {
     "data": {
      "text/plain": [
       "'A cryptocurrency is an encrypted data string that denotes a unit of currency. It is monitored and organized by a peer-to-peer network called a blockchain, which also serves as a secure ledger of transactions, e.g., buying, selling, and transferring. Unlike physical money, cryptocurrencies are decentralized, which means they are not issued by governments or other financial institutions. Cryptocurrencies are created (and secured) through cryptographic algorithms that are maintained and confirmed in a process called mining, where a network of computers or specialized hardware such as application-specific integrated circuits (ASICs) process and validate the transactions. The process incentivizes the miners who run the network with the cryptocurrency.Over the last few years, cryptocurrency prices have risen and then fallen. Crypto marketplaces do not guarantee that an investor is completing a purchase or trade at the optimal price. As a result, many investors take advantage of this by using arbitrage to find the difference in price across several markets.Decentralized cryptocurrency is produced by an entire cryptocurrency system collectively, at a rate which is defined when the system is created and which is publicly stated. In centralized banking and economic systems such as the US Federal Reserve System, corporate boards or governments control the supply of currency.[citation needed] In the case of decentralized cryptocurrency, companies or governments cannot produce new units, and have not so far provided backing for other firms, banks or corporate entities which hold asset value measured in it. The underlying technical system upon which decentralized cryptocurrencies are based was created by the group or individual known as Satoshi Nakamoto.'"
      ]
     },
     "execution_count": 5,
     "metadata": {},
     "output_type": "execute_result"
    }
   ],
   "source": [
    "# Storing data from different files in one string\n",
    "\n",
    "data = ''\n",
    "for s in data_lis:\n",
    "    data += s\n",
    "data"
   ]
  },
  {
   "cell_type": "markdown",
   "id": "4fba3ebc",
   "metadata": {},
   "source": [
    "# Preprocessing of text using NLP"
   ]
  },
  {
   "cell_type": "code",
   "execution_count": 6,
   "id": "d58e8ea0",
   "metadata": {},
   "outputs": [
    {
     "name": "stdout",
     "output_type": "stream",
     "text": [
      "Collecting spacy\n",
      "  Downloading spacy-3.3.0-cp36-cp36m-manylinux_2_17_x86_64.manylinux2014_x86_64.whl (6.2 MB)\n",
      "     |████████████████████████████████| 6.2 MB 6.3 MB/s            \n",
      "\u001b[?25hCollecting srsly<3.0.0,>=2.4.3\n",
      "  Downloading srsly-2.4.3-cp36-cp36m-manylinux_2_17_x86_64.manylinux2014_x86_64.whl (456 kB)\n",
      "     |████████████████████████████████| 456 kB 81.2 MB/s            \n",
      "\u001b[?25hCollecting wasabi<1.1.0,>=0.9.1\n",
      "  Downloading wasabi-0.9.1-py3-none-any.whl (26 kB)\n",
      "Collecting blis<0.8.0,>=0.4.0\n",
      "  Downloading blis-0.7.7-cp36-cp36m-manylinux_2_17_x86_64.manylinux2014_x86_64.whl (9.9 MB)\n",
      "     |████████████████████████████████| 9.9 MB 52.0 MB/s            \n",
      "\u001b[?25hCollecting pathy>=0.3.5\n",
      "  Downloading pathy-0.6.1-py3-none-any.whl (42 kB)\n",
      "     |████████████████████████████████| 42 kB 3.0 MB/s             \n",
      "\u001b[?25hCollecting langcodes<4.0.0,>=3.2.0\n",
      "  Downloading langcodes-3.3.0-py3-none-any.whl (181 kB)\n",
      "     |████████████████████████████████| 181 kB 84.4 MB/s            \n",
      "\u001b[?25hRequirement already satisfied: numpy>=1.15.0 in /home/ec2-user/anaconda3/envs/python3/lib/python3.6/site-packages (from spacy) (1.19.5)\n",
      "Requirement already satisfied: packaging>=20.0 in /home/ec2-user/anaconda3/envs/python3/lib/python3.6/site-packages (from spacy) (21.3)\n",
      "Collecting murmurhash<1.1.0,>=0.28.0\n",
      "  Downloading murmurhash-1.0.7-cp36-cp36m-manylinux_2_5_x86_64.manylinux1_x86_64.manylinux_2_17_x86_64.manylinux2014_x86_64.whl (21 kB)\n",
      "Requirement already satisfied: tqdm<5.0.0,>=4.38.0 in /home/ec2-user/anaconda3/envs/python3/lib/python3.6/site-packages (from spacy) (4.62.3)\n",
      "Collecting thinc<8.1.0,>=8.0.14\n",
      "  Downloading thinc-8.0.17-cp36-cp36m-manylinux_2_17_x86_64.manylinux2014_x86_64.whl (662 kB)\n",
      "     |████████████████████████████████| 662 kB 73.7 MB/s            \n",
      "\u001b[?25hCollecting preshed<3.1.0,>=3.0.2\n",
      "  Downloading preshed-3.0.6-cp36-cp36m-manylinux_2_5_x86_64.manylinux1_x86_64.manylinux_2_17_x86_64.manylinux2014_x86_64.whl (127 kB)\n",
      "     |████████████████████████████████| 127 kB 81.3 MB/s            \n",
      "\u001b[?25hCollecting typer<0.5.0,>=0.3.0\n",
      "  Downloading typer-0.4.1-py3-none-any.whl (27 kB)\n",
      "Requirement already satisfied: jinja2 in /home/ec2-user/anaconda3/envs/python3/lib/python3.6/site-packages (from spacy) (2.11.3)\n",
      "Collecting cymem<2.1.0,>=2.0.2\n",
      "  Downloading cymem-2.0.6-cp36-cp36m-manylinux_2_17_x86_64.manylinux2014_x86_64.whl (35 kB)\n",
      "Collecting pydantic!=1.8,!=1.8.1,<1.9.0,>=1.7.4\n",
      "  Downloading pydantic-1.8.2-cp36-cp36m-manylinux2014_x86_64.whl (10.2 MB)\n",
      "     |████████████████████████████████| 10.2 MB 47.6 MB/s            \n",
      "\u001b[?25hCollecting spacy-loggers<2.0.0,>=1.0.0\n",
      "  Downloading spacy_loggers-1.0.2-py3-none-any.whl (7.2 kB)\n",
      "Collecting typing-extensions<4.0.0.0,>=3.7.4\n",
      "  Downloading typing_extensions-3.10.0.2-py3-none-any.whl (26 kB)\n",
      "Collecting catalogue<2.1.0,>=2.0.6\n",
      "  Downloading catalogue-2.0.7-py3-none-any.whl (17 kB)\n",
      "Collecting spacy-legacy<3.1.0,>=3.0.9\n",
      "  Downloading spacy_legacy-3.0.9-py2.py3-none-any.whl (20 kB)\n",
      "Requirement already satisfied: requests<3.0.0,>=2.13.0 in /home/ec2-user/anaconda3/envs/python3/lib/python3.6/site-packages (from spacy) (2.26.0)\n",
      "Requirement already satisfied: setuptools in /home/ec2-user/anaconda3/envs/python3/lib/python3.6/site-packages (from spacy) (49.6.0.post20210108)\n",
      "Requirement already satisfied: zipp>=0.5 in /home/ec2-user/anaconda3/envs/python3/lib/python3.6/site-packages (from catalogue<2.1.0,>=2.0.6->spacy) (3.4.0)\n",
      "Requirement already satisfied: pyparsing!=3.0.5,>=2.0.2 in /home/ec2-user/anaconda3/envs/python3/lib/python3.6/site-packages (from packaging>=20.0->spacy) (2.4.7)\n",
      "Requirement already satisfied: dataclasses<1.0,>=0.6 in /home/ec2-user/anaconda3/envs/python3/lib/python3.6/site-packages (from pathy>=0.3.5->spacy) (0.8)\n",
      "Collecting smart-open<6.0.0,>=5.0.0\n",
      "  Downloading smart_open-5.2.1-py3-none-any.whl (58 kB)\n",
      "     |████████████████████████████████| 58 kB 11.2 MB/s            \n",
      "\u001b[?25hRequirement already satisfied: charset-normalizer~=2.0.0 in /home/ec2-user/anaconda3/envs/python3/lib/python3.6/site-packages (from requests<3.0.0,>=2.13.0->spacy) (2.0.9)\n",
      "Requirement already satisfied: idna<4,>=2.5 in /home/ec2-user/anaconda3/envs/python3/lib/python3.6/site-packages (from requests<3.0.0,>=2.13.0->spacy) (3.1)\n",
      "Requirement already satisfied: certifi>=2017.4.17 in /home/ec2-user/anaconda3/envs/python3/lib/python3.6/site-packages (from requests<3.0.0,>=2.13.0->spacy) (2021.5.30)\n",
      "Requirement already satisfied: urllib3<1.27,>=1.21.1 in /home/ec2-user/anaconda3/envs/python3/lib/python3.6/site-packages (from requests<3.0.0,>=2.13.0->spacy) (1.26.8)\n",
      "Requirement already satisfied: contextvars<3,>=2.4 in /home/ec2-user/anaconda3/envs/python3/lib/python3.6/site-packages (from thinc<8.1.0,>=8.0.14->spacy) (2.4)\n",
      "Requirement already satisfied: click<9.0.0,>=7.1.1 in /home/ec2-user/anaconda3/envs/python3/lib/python3.6/site-packages (from typer<0.5.0,>=0.3.0->spacy) (7.1.2)\n",
      "Requirement already satisfied: MarkupSafe>=0.23 in /home/ec2-user/anaconda3/envs/python3/lib/python3.6/site-packages (from jinja2->spacy) (1.1.1)\n",
      "Requirement already satisfied: immutables>=0.9 in /home/ec2-user/anaconda3/envs/python3/lib/python3.6/site-packages (from contextvars<3,>=2.4->thinc<8.1.0,>=8.0.14->spacy) (0.15)\n",
      "Installing collected packages: typing-extensions, murmurhash, cymem, catalogue, wasabi, typer, srsly, smart-open, pydantic, preshed, blis, thinc, spacy-loggers, spacy-legacy, pathy, langcodes, spacy\n",
      "  Attempting uninstall: typing-extensions\n",
      "    Found existing installation: typing-extensions 4.0.1\n",
      "    Uninstalling typing-extensions-4.0.1:\n",
      "      Successfully uninstalled typing-extensions-4.0.1\n",
      "\u001b[31mERROR: pip's dependency resolver does not currently take into account all the packages that are installed. This behaviour is the source of the following dependency conflicts.\n",
      "aiobotocore 1.3.0 requires botocore<1.20.50,>=1.20.49, but you have botocore 1.24.42 which is incompatible.\u001b[0m\n",
      "Successfully installed blis-0.7.7 catalogue-2.0.7 cymem-2.0.6 langcodes-3.3.0 murmurhash-1.0.7 pathy-0.6.1 preshed-3.0.6 pydantic-1.8.2 smart-open-5.2.1 spacy-3.3.0 spacy-legacy-3.0.9 spacy-loggers-1.0.2 srsly-2.4.3 thinc-8.0.17 typer-0.4.1 typing-extensions-3.10.0.2 wasabi-0.9.1\n",
      "Note: you may need to restart the kernel to use updated packages.\n"
     ]
    }
   ],
   "source": [
    "%pip install spacy"
   ]
  },
  {
   "cell_type": "code",
   "execution_count": 7,
   "id": "e20d7c49",
   "metadata": {},
   "outputs": [
    {
     "name": "stdout",
     "output_type": "stream",
     "text": [
      "Collecting en-core-web-sm==3.3.0\n",
      "  Downloading https://github.com/explosion/spacy-models/releases/download/en_core_web_sm-3.3.0/en_core_web_sm-3.3.0-py3-none-any.whl (12.8 MB)\n",
      "     |████████████████████████████████| 12.8 MB 5.7 MB/s            \n",
      "\u001b[?25hRequirement already satisfied: spacy<3.4.0,>=3.3.0.dev0 in /home/ec2-user/anaconda3/envs/python3/lib/python3.6/site-packages (from en-core-web-sm==3.3.0) (3.3.0)\n",
      "Requirement already satisfied: pydantic!=1.8,!=1.8.1,<1.9.0,>=1.7.4 in /home/ec2-user/anaconda3/envs/python3/lib/python3.6/site-packages (from spacy<3.4.0,>=3.3.0.dev0->en-core-web-sm==3.3.0) (1.8.2)\n",
      "Requirement already satisfied: requests<3.0.0,>=2.13.0 in /home/ec2-user/anaconda3/envs/python3/lib/python3.6/site-packages (from spacy<3.4.0,>=3.3.0.dev0->en-core-web-sm==3.3.0) (2.26.0)\n",
      "Requirement already satisfied: jinja2 in /home/ec2-user/anaconda3/envs/python3/lib/python3.6/site-packages (from spacy<3.4.0,>=3.3.0.dev0->en-core-web-sm==3.3.0) (2.11.3)\n",
      "Requirement already satisfied: catalogue<2.1.0,>=2.0.6 in /home/ec2-user/anaconda3/envs/python3/lib/python3.6/site-packages (from spacy<3.4.0,>=3.3.0.dev0->en-core-web-sm==3.3.0) (2.0.7)\n",
      "Requirement already satisfied: srsly<3.0.0,>=2.4.3 in /home/ec2-user/anaconda3/envs/python3/lib/python3.6/site-packages (from spacy<3.4.0,>=3.3.0.dev0->en-core-web-sm==3.3.0) (2.4.3)\n",
      "Requirement already satisfied: spacy-loggers<2.0.0,>=1.0.0 in /home/ec2-user/anaconda3/envs/python3/lib/python3.6/site-packages (from spacy<3.4.0,>=3.3.0.dev0->en-core-web-sm==3.3.0) (1.0.2)\n",
      "Requirement already satisfied: pathy>=0.3.5 in /home/ec2-user/anaconda3/envs/python3/lib/python3.6/site-packages (from spacy<3.4.0,>=3.3.0.dev0->en-core-web-sm==3.3.0) (0.6.1)\n",
      "Requirement already satisfied: numpy>=1.15.0 in /home/ec2-user/anaconda3/envs/python3/lib/python3.6/site-packages (from spacy<3.4.0,>=3.3.0.dev0->en-core-web-sm==3.3.0) (1.19.5)\n",
      "Requirement already satisfied: thinc<8.1.0,>=8.0.14 in /home/ec2-user/anaconda3/envs/python3/lib/python3.6/site-packages (from spacy<3.4.0,>=3.3.0.dev0->en-core-web-sm==3.3.0) (8.0.17)\n",
      "Requirement already satisfied: wasabi<1.1.0,>=0.9.1 in /home/ec2-user/anaconda3/envs/python3/lib/python3.6/site-packages (from spacy<3.4.0,>=3.3.0.dev0->en-core-web-sm==3.3.0) (0.9.1)\n",
      "Requirement already satisfied: tqdm<5.0.0,>=4.38.0 in /home/ec2-user/anaconda3/envs/python3/lib/python3.6/site-packages (from spacy<3.4.0,>=3.3.0.dev0->en-core-web-sm==3.3.0) (4.62.3)\n",
      "Requirement already satisfied: preshed<3.1.0,>=3.0.2 in /home/ec2-user/anaconda3/envs/python3/lib/python3.6/site-packages (from spacy<3.4.0,>=3.3.0.dev0->en-core-web-sm==3.3.0) (3.0.6)\n",
      "Requirement already satisfied: typing-extensions<4.0.0.0,>=3.7.4 in /home/ec2-user/anaconda3/envs/python3/lib/python3.6/site-packages (from spacy<3.4.0,>=3.3.0.dev0->en-core-web-sm==3.3.0) (3.10.0.2)\n",
      "Requirement already satisfied: langcodes<4.0.0,>=3.2.0 in /home/ec2-user/anaconda3/envs/python3/lib/python3.6/site-packages (from spacy<3.4.0,>=3.3.0.dev0->en-core-web-sm==3.3.0) (3.3.0)\n",
      "Requirement already satisfied: typer<0.5.0,>=0.3.0 in /home/ec2-user/anaconda3/envs/python3/lib/python3.6/site-packages (from spacy<3.4.0,>=3.3.0.dev0->en-core-web-sm==3.3.0) (0.4.1)\n",
      "Requirement already satisfied: murmurhash<1.1.0,>=0.28.0 in /home/ec2-user/anaconda3/envs/python3/lib/python3.6/site-packages (from spacy<3.4.0,>=3.3.0.dev0->en-core-web-sm==3.3.0) (1.0.7)\n",
      "Requirement already satisfied: setuptools in /home/ec2-user/anaconda3/envs/python3/lib/python3.6/site-packages (from spacy<3.4.0,>=3.3.0.dev0->en-core-web-sm==3.3.0) (49.6.0.post20210108)\n",
      "Requirement already satisfied: cymem<2.1.0,>=2.0.2 in /home/ec2-user/anaconda3/envs/python3/lib/python3.6/site-packages (from spacy<3.4.0,>=3.3.0.dev0->en-core-web-sm==3.3.0) (2.0.6)\n",
      "Requirement already satisfied: spacy-legacy<3.1.0,>=3.0.9 in /home/ec2-user/anaconda3/envs/python3/lib/python3.6/site-packages (from spacy<3.4.0,>=3.3.0.dev0->en-core-web-sm==3.3.0) (3.0.9)\n",
      "Requirement already satisfied: packaging>=20.0 in /home/ec2-user/anaconda3/envs/python3/lib/python3.6/site-packages (from spacy<3.4.0,>=3.3.0.dev0->en-core-web-sm==3.3.0) (21.3)\n",
      "Requirement already satisfied: blis<0.8.0,>=0.4.0 in /home/ec2-user/anaconda3/envs/python3/lib/python3.6/site-packages (from spacy<3.4.0,>=3.3.0.dev0->en-core-web-sm==3.3.0) (0.7.7)\n",
      "Requirement already satisfied: zipp>=0.5 in /home/ec2-user/anaconda3/envs/python3/lib/python3.6/site-packages (from catalogue<2.1.0,>=2.0.6->spacy<3.4.0,>=3.3.0.dev0->en-core-web-sm==3.3.0) (3.4.0)\n",
      "Requirement already satisfied: pyparsing!=3.0.5,>=2.0.2 in /home/ec2-user/anaconda3/envs/python3/lib/python3.6/site-packages (from packaging>=20.0->spacy<3.4.0,>=3.3.0.dev0->en-core-web-sm==3.3.0) (2.4.7)\n",
      "Requirement already satisfied: smart-open<6.0.0,>=5.0.0 in /home/ec2-user/anaconda3/envs/python3/lib/python3.6/site-packages (from pathy>=0.3.5->spacy<3.4.0,>=3.3.0.dev0->en-core-web-sm==3.3.0) (5.2.1)\n",
      "Requirement already satisfied: dataclasses<1.0,>=0.6 in /home/ec2-user/anaconda3/envs/python3/lib/python3.6/site-packages (from pathy>=0.3.5->spacy<3.4.0,>=3.3.0.dev0->en-core-web-sm==3.3.0) (0.8)\n",
      "Requirement already satisfied: idna<4,>=2.5 in /home/ec2-user/anaconda3/envs/python3/lib/python3.6/site-packages (from requests<3.0.0,>=2.13.0->spacy<3.4.0,>=3.3.0.dev0->en-core-web-sm==3.3.0) (3.1)\n",
      "Requirement already satisfied: charset-normalizer~=2.0.0 in /home/ec2-user/anaconda3/envs/python3/lib/python3.6/site-packages (from requests<3.0.0,>=2.13.0->spacy<3.4.0,>=3.3.0.dev0->en-core-web-sm==3.3.0) (2.0.9)\n",
      "Requirement already satisfied: urllib3<1.27,>=1.21.1 in /home/ec2-user/anaconda3/envs/python3/lib/python3.6/site-packages (from requests<3.0.0,>=2.13.0->spacy<3.4.0,>=3.3.0.dev0->en-core-web-sm==3.3.0) (1.26.8)\n",
      "Requirement already satisfied: certifi>=2017.4.17 in /home/ec2-user/anaconda3/envs/python3/lib/python3.6/site-packages (from requests<3.0.0,>=2.13.0->spacy<3.4.0,>=3.3.0.dev0->en-core-web-sm==3.3.0) (2021.5.30)\n",
      "Requirement already satisfied: contextvars<3,>=2.4 in /home/ec2-user/anaconda3/envs/python3/lib/python3.6/site-packages (from thinc<8.1.0,>=8.0.14->spacy<3.4.0,>=3.3.0.dev0->en-core-web-sm==3.3.0) (2.4)\n",
      "Requirement already satisfied: click<9.0.0,>=7.1.1 in /home/ec2-user/anaconda3/envs/python3/lib/python3.6/site-packages (from typer<0.5.0,>=0.3.0->spacy<3.4.0,>=3.3.0.dev0->en-core-web-sm==3.3.0) (7.1.2)\n",
      "Requirement already satisfied: MarkupSafe>=0.23 in /home/ec2-user/anaconda3/envs/python3/lib/python3.6/site-packages (from jinja2->spacy<3.4.0,>=3.3.0.dev0->en-core-web-sm==3.3.0) (1.1.1)\n",
      "Requirement already satisfied: immutables>=0.9 in /home/ec2-user/anaconda3/envs/python3/lib/python3.6/site-packages (from contextvars<3,>=2.4->thinc<8.1.0,>=8.0.14->spacy<3.4.0,>=3.3.0.dev0->en-core-web-sm==3.3.0) (0.15)\n",
      "Installing collected packages: en-core-web-sm\n",
      "Successfully installed en-core-web-sm-3.3.0\n",
      "\u001b[38;5;2m✔ Download and installation successful\u001b[0m\n",
      "You can now load the package via spacy.load('en_core_web_sm')\n"
     ]
    }
   ],
   "source": [
    "!python -m spacy download en_core_web_sm"
   ]
  },
  {
   "cell_type": "code",
   "execution_count": 8,
   "id": "38fdec23",
   "metadata": {},
   "outputs": [
    {
     "data": {
      "text/plain": [
       "['A cryptocurrency is an encrypted data string that denotes a unit of currency.',\n",
       " 'It is monitored and organized by a peer-to-peer network called a blockchain, which also serves as a secure ledger of transactions, e.g., buying, selling, and transferring.',\n",
       " 'Unlike physical money, cryptocurrencies are decentralized, which means they are not issued by governments or other financial institutions.',\n",
       " 'Cryptocurrencies are created (and secured) through cryptographic algorithms that are maintained and confirmed in a process called mining, where a network of computers or specialized hardware such as application-specific integrated circuits (ASICs) process and validate the transactions.',\n",
       " 'The process incentivizes the miners who run the network with the cryptocurrency.',\n",
       " 'Over the last few years, cryptocurrency prices have risen and then fallen.',\n",
       " 'Crypto marketplaces do not guarantee that an investor is completing a purchase or trade at the optimal price.',\n",
       " 'As a result, many investors take advantage of this by using arbitrage to find the difference in price across several markets.',\n",
       " 'Decentralized cryptocurrency is produced by an entire cryptocurrency system collectively, at a rate which is defined when the system is created and which is publicly stated.',\n",
       " 'In centralized banking and economic systems such as the US Federal Reserve System, corporate boards or governments control the supply of currency.[citation needed]',\n",
       " 'In the case of decentralized cryptocurrency, companies or governments cannot produce new units, and have not so far provided backing for other firms, banks or corporate entities which hold asset value measured in it.',\n",
       " 'The underlying technical system upon which decentralized cryptocurrencies are based was created by the group or individual known as Satoshi Nakamoto.']"
      ]
     },
     "execution_count": 8,
     "metadata": {},
     "output_type": "execute_result"
    }
   ],
   "source": [
    "# Sentence Segmentation\n",
    "\n",
    "import spacy\n",
    "  \n",
    "nlp = spacy.load(\"en_core_web_sm\")\n",
    "  \n",
    "doc = nlp(data)\n",
    "\n",
    "sentences = []\n",
    "for sent in doc.sents:\n",
    "    sentences.append(str(sent))\n",
    "sentences"
   ]
  },
  {
   "cell_type": "code",
   "execution_count": 9,
   "id": "6e0b3b93",
   "metadata": {},
   "outputs": [
    {
     "name": "stdout",
     "output_type": "stream",
     "text": [
      "Requirement already satisfied: nltk in /home/ec2-user/anaconda3/envs/python3/lib/python3.6/site-packages (3.4.4)\r\n",
      "Requirement already satisfied: six in /home/ec2-user/anaconda3/envs/python3/lib/python3.6/site-packages (from nltk) (1.15.0)\r\n"
     ]
    }
   ],
   "source": [
    "!pip install nltk"
   ]
  },
  {
   "cell_type": "code",
   "execution_count": 10,
   "id": "2fc43f1a",
   "metadata": {},
   "outputs": [
    {
     "name": "stderr",
     "output_type": "stream",
     "text": [
      "[nltk_data] Downloading package punkt to /home/ec2-user/nltk_data...\n",
      "[nltk_data]   Unzipping tokenizers/punkt.zip.\n",
      "[nltk_data] Downloading package stopwords to\n",
      "[nltk_data]     /home/ec2-user/nltk_data...\n",
      "[nltk_data]   Unzipping corpora/stopwords.zip.\n"
     ]
    },
    {
     "data": {
      "text/plain": [
       "['A',\n",
       " 'cryptocurrency',\n",
       " 'encrypted',\n",
       " 'data',\n",
       " 'string',\n",
       " 'denotes',\n",
       " 'unit',\n",
       " 'currency',\n",
       " '.',\n",
       " 'It',\n",
       " 'monitored',\n",
       " 'organized',\n",
       " 'peer-to-peer',\n",
       " 'network',\n",
       " 'called',\n",
       " 'blockchain',\n",
       " ',',\n",
       " 'serves',\n",
       " 'secure',\n",
       " 'ledger',\n",
       " 'transactions',\n",
       " ',',\n",
       " 'e.g.',\n",
       " ',',\n",
       " 'buying',\n",
       " ',',\n",
       " 'selling',\n",
       " ',',\n",
       " 'transferring',\n",
       " '.',\n",
       " 'Unlike',\n",
       " 'physical',\n",
       " 'money',\n",
       " ',',\n",
       " 'cryptocurrencies',\n",
       " 'decentralized',\n",
       " ',',\n",
       " 'means',\n",
       " 'issued',\n",
       " 'governments',\n",
       " 'financial',\n",
       " 'institutions',\n",
       " '.',\n",
       " 'Cryptocurrencies',\n",
       " 'created',\n",
       " '(',\n",
       " 'secured',\n",
       " ')',\n",
       " 'cryptographic',\n",
       " 'algorithms',\n",
       " 'maintained',\n",
       " 'confirmed',\n",
       " 'process',\n",
       " 'called',\n",
       " 'mining',\n",
       " ',',\n",
       " 'network',\n",
       " 'computers',\n",
       " 'specialized',\n",
       " 'hardware',\n",
       " 'application-specific',\n",
       " 'integrated',\n",
       " 'circuits',\n",
       " '(',\n",
       " 'ASICs',\n",
       " ')',\n",
       " 'process',\n",
       " 'validate',\n",
       " 'transactions',\n",
       " '.',\n",
       " 'The',\n",
       " 'process',\n",
       " 'incentivizes',\n",
       " 'miners',\n",
       " 'run',\n",
       " 'network',\n",
       " 'cryptocurrency',\n",
       " '.',\n",
       " 'Over',\n",
       " 'last',\n",
       " 'years',\n",
       " ',',\n",
       " 'cryptocurrency',\n",
       " 'prices',\n",
       " 'risen',\n",
       " 'fallen',\n",
       " '.',\n",
       " 'Crypto',\n",
       " 'marketplaces',\n",
       " 'guarantee',\n",
       " 'investor',\n",
       " 'completing',\n",
       " 'purchase',\n",
       " 'trade',\n",
       " 'optimal',\n",
       " 'price',\n",
       " '.',\n",
       " 'As',\n",
       " 'result',\n",
       " ',',\n",
       " 'many',\n",
       " 'investors',\n",
       " 'advantage',\n",
       " 'using',\n",
       " 'arbitrage',\n",
       " 'find',\n",
       " 'difference',\n",
       " 'price',\n",
       " 'across',\n",
       " 'several',\n",
       " 'markets',\n",
       " '.',\n",
       " 'Decentralized',\n",
       " 'cryptocurrency',\n",
       " 'produced',\n",
       " 'entire',\n",
       " 'cryptocurrency',\n",
       " 'system',\n",
       " 'collectively',\n",
       " ',',\n",
       " 'rate',\n",
       " 'defined',\n",
       " 'system',\n",
       " 'created',\n",
       " 'publicly',\n",
       " 'stated',\n",
       " '.',\n",
       " 'In',\n",
       " 'centralized',\n",
       " 'banking',\n",
       " 'economic',\n",
       " 'systems',\n",
       " 'US',\n",
       " 'Federal',\n",
       " 'Reserve',\n",
       " 'System',\n",
       " ',',\n",
       " 'corporate',\n",
       " 'boards',\n",
       " 'governments',\n",
       " 'control',\n",
       " 'supply',\n",
       " 'currency',\n",
       " '.',\n",
       " '[',\n",
       " 'citation',\n",
       " 'needed',\n",
       " ']',\n",
       " 'In',\n",
       " 'case',\n",
       " 'decentralized',\n",
       " 'cryptocurrency',\n",
       " ',',\n",
       " 'companies',\n",
       " 'governments',\n",
       " 'produce',\n",
       " 'new',\n",
       " 'units',\n",
       " ',',\n",
       " 'far',\n",
       " 'provided',\n",
       " 'backing',\n",
       " 'firms',\n",
       " ',',\n",
       " 'banks',\n",
       " 'corporate',\n",
       " 'entities',\n",
       " 'hold',\n",
       " 'asset',\n",
       " 'value',\n",
       " 'measured',\n",
       " '.',\n",
       " 'The',\n",
       " 'underlying',\n",
       " 'technical',\n",
       " 'system',\n",
       " 'upon',\n",
       " 'decentralized',\n",
       " 'cryptocurrencies',\n",
       " 'based',\n",
       " 'created',\n",
       " 'group',\n",
       " 'individual',\n",
       " 'known',\n",
       " 'Satoshi',\n",
       " 'Nakamoto',\n",
       " '.']"
      ]
     },
     "execution_count": 10,
     "metadata": {},
     "output_type": "execute_result"
    }
   ],
   "source": [
    "# Tokenizing sentences and removing stop words\n",
    "\n",
    "import nltk \n",
    "from nltk.corpus import stopwords\n",
    "nltk.download('punkt')\n",
    "nltk.download('stopwords')\n",
    "from nltk.tokenize import word_tokenize\n",
    "\n",
    "tokens = []\n",
    "for sent in sentences:\n",
    "    type(sent)\n",
    "    text_tokens = word_tokenize(sent)\n",
    "    for word in text_tokens:\n",
    "        if not word in stopwords.words():\n",
    "            tokens.append(word)\n",
    "\n",
    "tokens"
   ]
  },
  {
   "cell_type": "code",
   "execution_count": 11,
   "id": "b996fbf4",
   "metadata": {},
   "outputs": [
    {
     "name": "stdout",
     "output_type": "stream",
     "text": [
      "['A', 'cryptocurrency', 'encrypted', 'data', 'string', 'denotes', 'unit', 'currency', 'It', 'monitored', 'organized', 'peertopeer', 'network', 'called', 'blockchain', 'serves', 'secure', 'ledger', 'transactions', 'eg', 'buying', 'selling', 'transferring', 'Unlike', 'physical', 'money', 'cryptocurrencies', 'decentralized', 'means', 'issued', 'governments', 'financial', 'institutions', 'Cryptocurrencies', 'created', 'secured', 'cryptographic', 'algorithms', 'maintained', 'confirmed', 'process', 'called', 'mining', 'network', 'computers', 'specialized', 'hardware', 'applicationspecific', 'integrated', 'circuits', 'ASICs', 'process', 'validate', 'transactions', 'The', 'process', 'incentivizes', 'miners', 'run', 'network', 'cryptocurrency', 'Over', 'last', 'years', 'cryptocurrency', 'prices', 'risen', 'fallen', 'Crypto', 'marketplaces', 'guarantee', 'investor', 'completing', 'purchase', 'trade', 'optimal', 'price', 'As', 'result', 'many', 'investors', 'advantage', 'using', 'arbitrage', 'find', 'difference', 'price', 'across', 'several', 'markets', 'Decentralized', 'cryptocurrency', 'produced', 'entire', 'cryptocurrency', 'system', 'collectively', 'rate', 'defined', 'system', 'created', 'publicly', 'stated', 'In', 'centralized', 'banking', 'economic', 'systems', 'US', 'Federal', 'Reserve', 'System', 'corporate', 'boards', 'governments', 'control', 'supply', 'currency', 'citation', 'needed', 'In', 'case', 'decentralized', 'cryptocurrency', 'companies', 'governments', 'produce', 'new', 'units', 'far', 'provided', 'backing', 'firms', 'banks', 'corporate', 'entities', 'hold', 'asset', 'value', 'measured', 'The', 'underlying', 'technical', 'system', 'upon', 'decentralized', 'cryptocurrencies', 'based', 'created', 'group', 'individual', 'known', 'Satoshi', 'Nakamoto']\n"
     ]
    }
   ],
   "source": [
    "# Removing punctuation\n",
    "\n",
    "import string\n",
    "tokens = [''.join(c for c in s if c not in string.punctuation) for s in tokens]\n",
    "\n",
    "tokens = [s for s in tokens if s]\n",
    "print(tokens)"
   ]
  },
  {
   "cell_type": "code",
   "execution_count": 12,
   "id": "26345b76",
   "metadata": {},
   "outputs": [
    {
     "name": "stdout",
     "output_type": "stream",
     "text": [
      "['A', 'cryptocurr', 'encrypt', 'data', 'string', 'denot', 'unit', 'currenc', 'It', 'monitor', 'organ', 'peertop', 'network', 'call', 'blockchain', 'serv', 'secur', 'ledger', 'transact', 'eg', 'buy', 'sell', 'transfer', 'unlik', 'physic', 'money', 'cryptocurr', 'decentr', 'mean', 'issu', 'govern', 'financi', 'institut', 'cryptocurr', 'creat', 'secur', 'cryptograph', 'algorithm', 'maintain', 'confirm', 'process', 'call', 'mine', 'network', 'comput', 'special', 'hardwar', 'applicationspecif', 'integr', 'circuit', 'asic', 'process', 'valid', 'transact', 'the', 'process', 'incentiv', 'miner', 'run', 'network', 'cryptocurr', 'over', 'last', 'year', 'cryptocurr', 'price', 'risen', 'fallen', 'crypto', 'marketplac', 'guarante', 'investor', 'complet', 'purchas', 'trade', 'optim', 'price', 'As', 'result', 'mani', 'investor', 'advantag', 'use', 'arbitrag', 'find', 'differ', 'price', 'across', 'sever', 'market', 'decentr', 'cryptocurr', 'produc', 'entir', 'cryptocurr', 'system', 'collect', 'rate', 'defin', 'system', 'creat', 'publicli', 'state', 'In', 'central', 'bank', 'econom', 'system', 'US', 'feder', 'reserv', 'system', 'corpor', 'board', 'govern', 'control', 'suppli', 'currenc', 'citat', 'need', 'In', 'case', 'decentr', 'cryptocurr', 'compani', 'govern', 'produc', 'new', 'unit', 'far', 'provid', 'back', 'firm', 'bank', 'corpor', 'entiti', 'hold', 'asset', 'valu', 'measur', 'the', 'underli', 'technic', 'system', 'upon', 'decentr', 'cryptocurr', 'base', 'creat', 'group', 'individu', 'known', 'satoshi', 'nakamoto']\n"
     ]
    }
   ],
   "source": [
    "# Stemming words using PorterStemmer\n",
    "\n",
    "from nltk.stem import PorterStemmer\n",
    "from nltk.tokenize import word_tokenize\n",
    "   \n",
    "ps = PorterStemmer()\n",
    "  \n",
    "stem_tokens = []\n",
    "for w in tokens:\n",
    "    stem_tokens.append(ps.stem(w))\n",
    "print(stem_tokens)"
   ]
  },
  {
   "cell_type": "code",
   "execution_count": 13,
   "id": "a10843c1",
   "metadata": {},
   "outputs": [
    {
     "data": {
      "text/plain": [
       "'A cryptocurr encrypt data string denot unit currenc It monitor organ peertop network call blockchain serv secur ledger transact eg buy sell transfer unlik physic money cryptocurr decentr mean issu govern financi institut cryptocurr creat secur cryptograph algorithm maintain confirm process call mine network comput special hardwar applicationspecif integr circuit asic process valid transact the process incentiv miner run network cryptocurr over last year cryptocurr price risen fallen crypto marketplac guarante investor complet purchas trade optim price As result mani investor advantag use arbitrag find differ price across sever market decentr cryptocurr produc entir cryptocurr system collect rate defin system creat publicli state In central bank econom system US feder reserv system corpor board govern control suppli currenc citat need In case decentr cryptocurr compani govern produc new unit far provid back firm bank corpor entiti hold asset valu measur the underli technic system upon decentr cryptocurr base creat group individu known satoshi nakamoto'"
      ]
     },
     "execution_count": 13,
     "metadata": {},
     "output_type": "execute_result"
    }
   ],
   "source": [
    "# Joining tokens with space to store result in s3 bucket\n",
    "\n",
    "result = (\" \".join(stem_tokens))\n",
    "result"
   ]
  },
  {
   "cell_type": "code",
   "execution_count": 14,
   "id": "0adf779b",
   "metadata": {},
   "outputs": [
    {
     "data": {
      "text/plain": [
       "1066"
      ]
     },
     "execution_count": 14,
     "metadata": {},
     "output_type": "execute_result"
    }
   ],
   "source": [
    "# Storing data in results file\n",
    "\n",
    "f = open(\"results.txt\", \"a\")\n",
    "f.write(result)"
   ]
  },
  {
   "cell_type": "markdown",
   "id": "42e9d47a",
   "metadata": {},
   "source": [
    "# Storing 'results.txt' file in S3 bucket"
   ]
  },
  {
   "cell_type": "code",
   "execution_count": 15,
   "id": "f52fc0a9",
   "metadata": {},
   "outputs": [],
   "source": [
    "# Uploading file to s3 bucket\n",
    "\n",
    "import boto3, os\n",
    "boto3.Session().resource('s3').Bucket(\"myawsbucket658\").Object('results.txt').upload_file('results.txt')"
   ]
  },
  {
   "cell_type": "markdown",
   "id": "db22af6b",
   "metadata": {},
   "source": [
    "# Reading 'results.txt' file stored in S3 bucket"
   ]
  },
  {
   "cell_type": "code",
   "execution_count": 16,
   "id": "4dd8e909",
   "metadata": {},
   "outputs": [
    {
     "data": {
      "text/plain": [
       "'A cryptocurr encrypt data string denot unit currenc It monitor organ peertop network call blockchain serv secur ledger transact eg buy sell transfer unlik physic money cryptocurr decentr mean issu govern financi institut cryptocurr creat secur cryptograph algorithm maintain confirm process call mine network comput special hardwar applicationspecif integr circuit asic process valid transact the process incentiv miner run network cryptocurr over last year cryptocurr price risen fallen crypto marketplac guarante investor complet purchas trade optim price As result mani investor advantag use arbitrag find differ price across sever market decentr cryptocurr produc entir cryptocurr system collect rate defin system creat publicli state In central bank econom system US feder reserv system corpor board govern control suppli currenc citat need In case decentr cryptocurr compani govern produc new unit far provid back firm bank corpor entiti hold asset valu measur the underli technic system upon decentr cryptocurr base creat group individu known satoshi nakamoto'"
      ]
     },
     "execution_count": 16,
     "metadata": {},
     "output_type": "execute_result"
    }
   ],
   "source": [
    "# Reading results file from s3 bucket\n",
    "\n",
    "obj = s3.get_object(Bucket = 'myawsbucket658',Key = 'results.txt')\n",
    "with io.FileIO('sample.txt', 'w') as file:\n",
    "    for i in obj['Body']:\n",
    "        file.write(i)\n",
    "f = open(\"sample.txt\", \"r\")\n",
    "result_data = f.read()\n",
    "result_data"
   ]
  },
  {
   "cell_type": "markdown",
   "id": "1abb5b45",
   "metadata": {},
   "source": [
    "# Label Encoding of tokens"
   ]
  },
  {
   "cell_type": "code",
   "execution_count": 17,
   "id": "85589c05",
   "metadata": {},
   "outputs": [],
   "source": [
    "# Label Encoding of individual tokens \n",
    "\n",
    "from sklearn.preprocessing import LabelEncoder\n",
    "encoder = LabelEncoder()\n",
    "encoded_word = encoder.fit_transform(result_data.split(\" \"))"
   ]
  },
  {
   "cell_type": "code",
   "execution_count": 18,
   "id": "cdae8761",
   "metadata": {},
   "outputs": [],
   "source": [
    "data = encoded_word "
   ]
  },
  {
   "cell_type": "code",
   "execution_count": 19,
   "id": "b3209f26",
   "metadata": {},
   "outputs": [
    {
     "data": {
      "text/plain": [
       "array([  0,  32,  42,  35, 102,  38, 111,  34,   3,  74,  80,  82,  77,\n",
       "        18,  15,  98,  96,  64, 108,  41,  17,  97, 109, 112,  83,  73,\n",
       "        32,  36,  69,  61,  51,  48,  58,  32,  30,  96,  33,   7,  65,\n",
       "        27,  85,  18,  71,  77,  26, 100,  54,   8,  59,  21,  10,  85,\n",
       "       115, 108, 106,  85,  56,  72,  94,  77,  32,  81,  63, 117,  32,\n",
       "        84,  93,  45,  31,  68,  53,  60,  25,  89, 107,  79,  84,   1,\n",
       "        92,  66,  60,   6, 114,   9,  49,  39,  84,   5,  99,  67,  36,\n",
       "        32,  86,  43,  32, 104,  23,  90,  37, 104,  30,  88, 101,   2,\n",
       "        20,  13,  40, 104,   4,  47,  91, 104,  29,  16,  51,  28, 103,\n",
       "        34,  22,  76,   2,  19,  36,  32,  24,  51,  86,  78, 111,  46,\n",
       "        87,  12,  50,  13,  29,  44,  55,  11, 116,  70, 106, 110, 105,\n",
       "       104, 113,  36,  32,  14,  30,  52,  57,  62,  95,  75])"
      ]
     },
     "execution_count": 19,
     "metadata": {},
     "output_type": "execute_result"
    }
   ],
   "source": [
    "data"
   ]
  },
  {
   "cell_type": "markdown",
   "id": "0fe29244",
   "metadata": {},
   "source": [
    "# Implementing K-Means Clustering"
   ]
  },
  {
   "cell_type": "code",
   "execution_count": 20,
   "id": "fbdec002",
   "metadata": {},
   "outputs": [],
   "source": [
    "from sklearn.cluster import KMeans\n",
    "import numpy as np"
   ]
  },
  {
   "cell_type": "code",
   "execution_count": 21,
   "id": "d3cbf9de",
   "metadata": {},
   "outputs": [
    {
     "name": "stdout",
     "output_type": "stream",
     "text": [
      "[3 0 0 0 2 0 2 0 3 1 1 1 1 3 3 2 2 4 2 0 3 2 2 2 1 1 0 0 4 4 4 4 4 0 0 2 0\n",
      " 3 4 0 1 3 1 1 0 2 4 3 4 3 3 1 2 2 2 1 4 1 2 1 0 1 4 2 0 1 1 4 0 4 4 4 0 1\n",
      " 2 1 1 3 1 4 4 3 2 3 4 0 1 3 2 4 0 0 1 0 0 2 0 1 0 2 0 1 2 3 3 3 0 2 3 4 1\n",
      " 2 0 3 4 0 2 0 0 1 3 3 0 0 0 4 1 1 2 4 1 3 4 3 0 0 4 3 2 1 2 2 2 2 2 0 0 3\n",
      " 0 4 4 4 2 1]\n"
     ]
    }
   ],
   "source": [
    "x = data.reshape(-1,1)\n",
    "kmeans = KMeans(n_clusters=5, random_state = 42).fit(x)\n",
    "y = kmeans.predict(x)\n",
    "print(y)"
   ]
  },
  {
   "cell_type": "code",
   "execution_count": 22,
   "id": "7146814a",
   "metadata": {},
   "outputs": [
    {
     "name": "stdout",
     "output_type": "stream",
     "text": [
      "[[ 32.78947368]\n",
      " [ 81.74193548]\n",
      " [105.28125   ]\n",
      " [ 10.56      ]\n",
      " [ 56.67857143]]\n"
     ]
    }
   ],
   "source": [
    "print(kmeans.cluster_centers_)"
   ]
  },
  {
   "cell_type": "code",
   "execution_count": 25,
   "id": "8501602f",
   "metadata": {},
   "outputs": [
    {
     "data": {
      "image/png": "[encoded data removed]",
      "text/plain": [
       "<Figure size 432x432 with 1 Axes>"
      ]
     },
     "metadata": {
      "needs_background": "light"
     },
     "output_type": "display_data"
    }
   ],
   "source": [
    "plt.figure(figsize=(6,6))\n",
    "plt.scatter(y, [i for i in data], c=y, cmap='prism', marker='.', s=180, alpha=0.2)\n",
    "plt.scatter([0,1,2,3,4], kmeans.cluster_centers_,  color='black', marker='*', s=100)\n",
    "plt.xlabel('K (Cluster Number)')\n",
    "plt.ylabel('Points (Label Encodings of Token)')\n",
    "plt.title('K-Means on Label Encoded Text')\n",
    "plt.show()"
   ]
  },
  {
   "cell_type": "code",
   "execution_count": 29,
   "id": "d2ed433d",
   "metadata": {},
   "outputs": [
    {
     "name": "stdout",
     "output_type": "stream",
     "text": [
      "Point  0  -> Cluster  3\n",
      "Point  32  -> Cluster  0\n",
      "Point  42  -> Cluster  0\n",
      "Point  35  -> Cluster  0\n",
      "Point  102  -> Cluster  2\n",
      "Point  38  -> Cluster  0\n",
      "Point  111  -> Cluster  2\n",
      "Point  34  -> Cluster  0\n",
      "Point  3  -> Cluster  3\n",
      "Point  74  -> Cluster  1\n",
      "Point  80  -> Cluster  1\n",
      "Point  82  -> Cluster  1\n",
      "Point  77  -> Cluster  1\n",
      "Point  18  -> Cluster  3\n",
      "Point  15  -> Cluster  3\n",
      "Point  98  -> Cluster  2\n",
      "Point  96  -> Cluster  2\n",
      "Point  64  -> Cluster  4\n",
      "Point  108  -> Cluster  2\n",
      "Point  41  -> Cluster  0\n",
      "Point  17  -> Cluster  3\n",
      "Point  97  -> Cluster  2\n",
      "Point  109  -> Cluster  2\n",
      "Point  112  -> Cluster  2\n",
      "Point  83  -> Cluster  1\n",
      "Point  73  -> Cluster  1\n",
      "Point  32  -> Cluster  0\n",
      "Point  36  -> Cluster  0\n",
      "Point  69  -> Cluster  4\n",
      "Point  61  -> Cluster  4\n",
      "Point  51  -> Cluster  4\n",
      "Point  48  -> Cluster  4\n",
      "Point  58  -> Cluster  4\n",
      "Point  32  -> Cluster  0\n",
      "Point  30  -> Cluster  0\n",
      "Point  96  -> Cluster  2\n",
      "Point  33  -> Cluster  0\n",
      "Point  7  -> Cluster  3\n",
      "Point  65  -> Cluster  4\n",
      "Point  27  -> Cluster  0\n",
      "Point  85  -> Cluster  1\n",
      "Point  18  -> Cluster  3\n",
      "Point  71  -> Cluster  1\n",
      "Point  77  -> Cluster  1\n",
      "Point  26  -> Cluster  0\n",
      "Point  100  -> Cluster  2\n",
      "Point  54  -> Cluster  4\n",
      "Point  8  -> Cluster  3\n",
      "Point  59  -> Cluster  4\n",
      "Point  21  -> Cluster  3\n",
      "Point  10  -> Cluster  3\n",
      "Point  85  -> Cluster  1\n",
      "Point  115  -> Cluster  2\n",
      "Point  108  -> Cluster  2\n",
      "Point  106  -> Cluster  2\n",
      "Point  85  -> Cluster  1\n",
      "Point  56  -> Cluster  4\n",
      "Point  72  -> Cluster  1\n",
      "Point  94  -> Cluster  2\n",
      "Point  77  -> Cluster  1\n",
      "Point  32  -> Cluster  0\n",
      "Point  81  -> Cluster  1\n",
      "Point  63  -> Cluster  4\n",
      "Point  117  -> Cluster  2\n",
      "Point  32  -> Cluster  0\n",
      "Point  84  -> Cluster  1\n",
      "Point  93  -> Cluster  1\n",
      "Point  45  -> Cluster  4\n",
      "Point  31  -> Cluster  0\n",
      "Point  68  -> Cluster  4\n",
      "Point  53  -> Cluster  4\n",
      "Point  60  -> Cluster  4\n",
      "Point  25  -> Cluster  0\n",
      "Point  89  -> Cluster  1\n",
      "Point  107  -> Cluster  2\n",
      "Point  79  -> Cluster  1\n",
      "Point  84  -> Cluster  1\n",
      "Point  1  -> Cluster  3\n",
      "Point  92  -> Cluster  1\n",
      "Point  66  -> Cluster  4\n",
      "Point  60  -> Cluster  4\n",
      "Point  6  -> Cluster  3\n",
      "Point  114  -> Cluster  2\n",
      "Point  9  -> Cluster  3\n",
      "Point  49  -> Cluster  4\n",
      "Point  39  -> Cluster  0\n",
      "Point  84  -> Cluster  1\n",
      "Point  5  -> Cluster  3\n",
      "Point  99  -> Cluster  2\n",
      "Point  67  -> Cluster  4\n",
      "Point  36  -> Cluster  0\n",
      "Point  32  -> Cluster  0\n",
      "Point  86  -> Cluster  1\n",
      "Point  43  -> Cluster  0\n",
      "Point  32  -> Cluster  0\n",
      "Point  104  -> Cluster  2\n",
      "Point  23  -> Cluster  0\n",
      "Point  90  -> Cluster  1\n",
      "Point  37  -> Cluster  0\n",
      "Point  104  -> Cluster  2\n",
      "Point  30  -> Cluster  0\n",
      "Point  88  -> Cluster  1\n",
      "Point  101  -> Cluster  2\n",
      "Point  2  -> Cluster  3\n",
      "Point  20  -> Cluster  3\n",
      "Point  13  -> Cluster  3\n",
      "Point  40  -> Cluster  0\n",
      "Point  104  -> Cluster  2\n",
      "Point  4  -> Cluster  3\n",
      "Point  47  -> Cluster  4\n",
      "Point  91  -> Cluster  1\n",
      "Point  104  -> Cluster  2\n",
      "Point  29  -> Cluster  0\n",
      "Point  16  -> Cluster  3\n",
      "Point  51  -> Cluster  4\n",
      "Point  28  -> Cluster  0\n",
      "Point  103  -> Cluster  2\n",
      "Point  34  -> Cluster  0\n",
      "Point  22  -> Cluster  0\n",
      "Point  76  -> Cluster  1\n",
      "Point  2  -> Cluster  3\n",
      "Point  19  -> Cluster  3\n",
      "Point  36  -> Cluster  0\n",
      "Point  32  -> Cluster  0\n",
      "Point  24  -> Cluster  0\n",
      "Point  51  -> Cluster  4\n",
      "Point  86  -> Cluster  1\n",
      "Point  78  -> Cluster  1\n",
      "Point  111  -> Cluster  2\n",
      "Point  46  -> Cluster  4\n",
      "Point  87  -> Cluster  1\n",
      "Point  12  -> Cluster  3\n",
      "Point  50  -> Cluster  4\n",
      "Point  13  -> Cluster  3\n",
      "Point  29  -> Cluster  0\n",
      "Point  44  -> Cluster  0\n",
      "Point  55  -> Cluster  4\n",
      "Point  11  -> Cluster  3\n",
      "Point  116  -> Cluster  2\n",
      "Point  70  -> Cluster  1\n",
      "Point  106  -> Cluster  2\n",
      "Point  110  -> Cluster  2\n",
      "Point  105  -> Cluster  2\n",
      "Point  104  -> Cluster  2\n",
      "Point  113  -> Cluster  2\n",
      "Point  36  -> Cluster  0\n",
      "Point  32  -> Cluster  0\n",
      "Point  14  -> Cluster  3\n",
      "Point  30  -> Cluster  0\n",
      "Point  52  -> Cluster  4\n",
      "Point  57  -> Cluster  4\n",
      "Point  62  -> Cluster  4\n",
      "Point  95  -> Cluster  2\n",
      "Point  75  -> Cluster  1\n"
     ]
    }
   ],
   "source": [
    "for i in range(len(y)):\n",
    "    print(\"Point \",data[i], \" -> Cluster \", y[i])"
   ]
  },
  {
   "cell_type": "code",
   "execution_count": null,
   "id": "755e494f",
   "metadata": {},
   "outputs": [],
   "source": []
  }
 ],
 "metadata": {
  "kernelspec": {
   "display_name": "conda_python3",
   "language": "python",
   "name": "conda_python3"
  },
  "language_info": {
   "codemirror_mode": {
    "name": "ipython",
    "version": 3
   },
   "file_extension": ".py",
   "mimetype": "text/x-python",
   "name": "python",
   "nbconvert_exporter": "python",
   "pygments_lexer": "ipython3",
   "version": "3.6.13"
  }
 },
 "nbformat": 4,
 "nbformat_minor": 5
}
