{
  "nbformat": 4,
  "nbformat_minor": 0,
  "metadata": {
    "colab": {
      "name": "NLP_spacy.ipynb",
      "provenance": [],
      "collapsed_sections": [],
      "authorship_tag": "ABX9TyP7JgtzxwFVkR5SEIGyvzrC",
      "include_colab_link": true
    },
    "kernelspec": {
      "name": "python3",
      "display_name": "Python 3"
    },
    "language_info": {
      "name": "python"
    }
  },
  "cells": [
    {
      "cell_type": "markdown",
      "metadata": {
        "id": "view-in-github",
        "colab_type": "text"
      },
      "source": [
        "<a href=\"https://colab.research.google.com/github/Aniket658/GN22CDBDS001_2159919/blob/main/NLP_spacy.ipynb\" target=\"_parent\"><img src=\"https://colab.research.google.com/assets/colab-badge.svg\" alt=\"Open In Colab\"/></a>"
      ]
    },
    {
      "cell_type": "code",
      "execution_count": 1,
      "metadata": {
        "colab": {
          "base_uri": "https://localhost:8080/"
        },
        "id": "q6uW73wQhkTZ",
        "outputId": "e87f52ca-622a-4369-e58e-d96a343926bf"
      },
      "outputs": [
        {
          "output_type": "stream",
          "name": "stdout",
          "text": [
            "Collecting textacy\n",
            "  Downloading textacy-0.11.0-py3-none-any.whl (200 kB)\n",
            "\u001b[?25l\r\u001b[K     |█▋                              | 10 kB 20.4 MB/s eta 0:00:01\r\u001b[K     |███▎                            | 20 kB 25.3 MB/s eta 0:00:01\r\u001b[K     |█████                           | 30 kB 16.7 MB/s eta 0:00:01\r\u001b[K     |██████▌                         | 40 kB 6.9 MB/s eta 0:00:01\r\u001b[K     |████████▏                       | 51 kB 6.2 MB/s eta 0:00:01\r\u001b[K     |█████████▉                      | 61 kB 7.3 MB/s eta 0:00:01\r\u001b[K     |███████████▌                    | 71 kB 8.2 MB/s eta 0:00:01\r\u001b[K     |█████████████                   | 81 kB 7.7 MB/s eta 0:00:01\r\u001b[K     |██████████████▊                 | 92 kB 8.5 MB/s eta 0:00:01\r\u001b[K     |████████████████▍               | 102 kB 7.7 MB/s eta 0:00:01\r\u001b[K     |██████████████████              | 112 kB 7.7 MB/s eta 0:00:01\r\u001b[K     |███████████████████▋            | 122 kB 7.7 MB/s eta 0:00:01\r\u001b[K     |█████████████████████▎          | 133 kB 7.7 MB/s eta 0:00:01\r\u001b[K     |███████████████████████         | 143 kB 7.7 MB/s eta 0:00:01\r\u001b[K     |████████████████████████▌       | 153 kB 7.7 MB/s eta 0:00:01\r\u001b[K     |██████████████████████████▏     | 163 kB 7.7 MB/s eta 0:00:01\r\u001b[K     |███████████████████████████▉    | 174 kB 7.7 MB/s eta 0:00:01\r\u001b[K     |█████████████████████████████▍  | 184 kB 7.7 MB/s eta 0:00:01\r\u001b[K     |███████████████████████████████ | 194 kB 7.7 MB/s eta 0:00:01\r\u001b[K     |████████████████████████████████| 200 kB 7.7 MB/s \n",
            "\u001b[?25hRequirement already satisfied: numpy>=1.17.0 in /usr/local/lib/python3.7/dist-packages (from textacy) (1.21.5)\n",
            "Collecting spacy>=3.0.0\n",
            "  Downloading spacy-3.2.4-cp37-cp37m-manylinux_2_17_x86_64.manylinux2014_x86_64.whl (6.0 MB)\n",
            "\u001b[K     |████████████████████████████████| 6.0 MB 25.4 MB/s \n",
            "\u001b[?25hCollecting pyphen>=0.10.0\n",
            "  Downloading pyphen-0.12.0-py3-none-any.whl (2.0 MB)\n",
            "\u001b[K     |████████████████████████████████| 2.0 MB 44.4 MB/s \n",
            "\u001b[?25hCollecting cytoolz>=0.10.1\n",
            "  Downloading cytoolz-0.11.2.tar.gz (481 kB)\n",
            "\u001b[K     |████████████████████████████████| 481 kB 61.3 MB/s \n",
            "\u001b[?25hRequirement already satisfied: scikit-learn>=0.19.0 in /usr/local/lib/python3.7/dist-packages (from textacy) (1.0.2)\n",
            "Requirement already satisfied: networkx>=2.0 in /usr/local/lib/python3.7/dist-packages (from textacy) (2.6.3)\n",
            "Requirement already satisfied: scipy>=0.17.0 in /usr/local/lib/python3.7/dist-packages (from textacy) (1.4.1)\n",
            "Requirement already satisfied: joblib>=0.13.0 in /usr/local/lib/python3.7/dist-packages (from textacy) (1.1.0)\n",
            "Collecting jellyfish>=0.8.0\n",
            "  Downloading jellyfish-0.9.0.tar.gz (132 kB)\n",
            "\u001b[K     |████████████████████████████████| 132 kB 56.8 MB/s \n",
            "\u001b[?25hRequirement already satisfied: requests>=2.10.0 in /usr/local/lib/python3.7/dist-packages (from textacy) (2.23.0)\n",
            "Requirement already satisfied: tqdm>=4.19.6 in /usr/local/lib/python3.7/dist-packages (from textacy) (4.64.0)\n",
            "Requirement already satisfied: cachetools>=4.0.0 in /usr/local/lib/python3.7/dist-packages (from textacy) (4.2.4)\n",
            "Requirement already satisfied: toolz>=0.8.0 in /usr/local/lib/python3.7/dist-packages (from cytoolz>=0.10.1->textacy) (0.11.2)\n",
            "Requirement already satisfied: chardet<4,>=3.0.2 in /usr/local/lib/python3.7/dist-packages (from requests>=2.10.0->textacy) (3.0.4)\n",
            "Requirement already satisfied: urllib3!=1.25.0,!=1.25.1,<1.26,>=1.21.1 in /usr/local/lib/python3.7/dist-packages (from requests>=2.10.0->textacy) (1.24.3)\n",
            "Requirement already satisfied: certifi>=2017.4.17 in /usr/local/lib/python3.7/dist-packages (from requests>=2.10.0->textacy) (2021.10.8)\n",
            "Requirement already satisfied: idna<3,>=2.5 in /usr/local/lib/python3.7/dist-packages (from requests>=2.10.0->textacy) (2.10)\n",
            "Requirement already satisfied: threadpoolctl>=2.0.0 in /usr/local/lib/python3.7/dist-packages (from scikit-learn>=0.19.0->textacy) (3.1.0)\n",
            "Requirement already satisfied: blis<0.8.0,>=0.4.0 in /usr/local/lib/python3.7/dist-packages (from spacy>=3.0.0->textacy) (0.4.1)\n",
            "Collecting spacy-legacy<3.1.0,>=3.0.8\n",
            "  Downloading spacy_legacy-3.0.9-py2.py3-none-any.whl (20 kB)\n",
            "Collecting thinc<8.1.0,>=8.0.12\n",
            "  Downloading thinc-8.0.15-cp37-cp37m-manylinux_2_17_x86_64.manylinux2014_x86_64.whl (653 kB)\n",
            "\u001b[K     |████████████████████████████████| 653 kB 45.5 MB/s \n",
            "\u001b[?25hRequirement already satisfied: preshed<3.1.0,>=3.0.2 in /usr/local/lib/python3.7/dist-packages (from spacy>=3.0.0->textacy) (3.0.6)\n",
            "Collecting catalogue<2.1.0,>=2.0.6\n",
            "  Downloading catalogue-2.0.7-py3-none-any.whl (17 kB)\n",
            "Collecting langcodes<4.0.0,>=3.2.0\n",
            "  Downloading langcodes-3.3.0-py3-none-any.whl (181 kB)\n",
            "\u001b[K     |████████████████████████████████| 181 kB 46.4 MB/s \n",
            "\u001b[?25hCollecting spacy-loggers<2.0.0,>=1.0.0\n",
            "  Downloading spacy_loggers-1.0.2-py3-none-any.whl (7.2 kB)\n",
            "Collecting pathy>=0.3.5\n",
            "  Downloading pathy-0.6.1-py3-none-any.whl (42 kB)\n",
            "\u001b[K     |████████████████████████████████| 42 kB 1.4 MB/s \n",
            "\u001b[?25hCollecting typer<0.5.0,>=0.3.0\n",
            "  Downloading typer-0.4.1-py3-none-any.whl (27 kB)\n",
            "Requirement already satisfied: murmurhash<1.1.0,>=0.28.0 in /usr/local/lib/python3.7/dist-packages (from spacy>=3.0.0->textacy) (1.0.6)\n",
            "Requirement already satisfied: packaging>=20.0 in /usr/local/lib/python3.7/dist-packages (from spacy>=3.0.0->textacy) (21.3)\n",
            "Requirement already satisfied: jinja2 in /usr/local/lib/python3.7/dist-packages (from spacy>=3.0.0->textacy) (2.11.3)\n",
            "Collecting srsly<3.0.0,>=2.4.1\n",
            "  Downloading srsly-2.4.3-cp37-cp37m-manylinux_2_17_x86_64.manylinux2014_x86_64.whl (457 kB)\n",
            "\u001b[K     |████████████████████████████████| 457 kB 63.8 MB/s \n",
            "\u001b[?25hRequirement already satisfied: click<8.1.0 in /usr/local/lib/python3.7/dist-packages (from spacy>=3.0.0->textacy) (7.1.2)\n",
            "Requirement already satisfied: wasabi<1.1.0,>=0.8.1 in /usr/local/lib/python3.7/dist-packages (from spacy>=3.0.0->textacy) (0.9.1)\n",
            "Collecting pydantic!=1.8,!=1.8.1,<1.9.0,>=1.7.4\n",
            "  Downloading pydantic-1.8.2-cp37-cp37m-manylinux2014_x86_64.whl (10.1 MB)\n",
            "\u001b[K     |████████████████████████████████| 10.1 MB 27.2 MB/s \n",
            "\u001b[?25hRequirement already satisfied: setuptools in /usr/local/lib/python3.7/dist-packages (from spacy>=3.0.0->textacy) (57.4.0)\n",
            "Collecting typing-extensions<4.0.0.0,>=3.7.4\n",
            "  Downloading typing_extensions-3.10.0.2-py3-none-any.whl (26 kB)\n",
            "Requirement already satisfied: cymem<2.1.0,>=2.0.2 in /usr/local/lib/python3.7/dist-packages (from spacy>=3.0.0->textacy) (2.0.6)\n",
            "Requirement already satisfied: zipp>=0.5 in /usr/local/lib/python3.7/dist-packages (from catalogue<2.1.0,>=2.0.6->spacy>=3.0.0->textacy) (3.8.0)\n",
            "Requirement already satisfied: pyparsing!=3.0.5,>=2.0.2 in /usr/local/lib/python3.7/dist-packages (from packaging>=20.0->spacy>=3.0.0->textacy) (3.0.8)\n",
            "Requirement already satisfied: smart-open<6.0.0,>=5.0.0 in /usr/local/lib/python3.7/dist-packages (from pathy>=0.3.5->spacy>=3.0.0->textacy) (5.2.1)\n",
            "Requirement already satisfied: MarkupSafe>=0.23 in /usr/local/lib/python3.7/dist-packages (from jinja2->spacy>=3.0.0->textacy) (2.0.1)\n",
            "Building wheels for collected packages: cytoolz, jellyfish\n",
            "  Building wheel for cytoolz (setup.py) ... \u001b[?25l\u001b[?25hdone\n",
            "  Created wheel for cytoolz: filename=cytoolz-0.11.2-cp37-cp37m-linux_x86_64.whl size=1230852 sha256=c548d6fe179c35cfabf4c6bc58991db0b874cbec177bbc7300d756f83d9c847b\n",
            "  Stored in directory: /root/.cache/pip/wheels/38/70/71/ca13ea3d36ccd0b3d0ec7d7a4ca67522048d695b556bba4f59\n",
            "  Building wheel for jellyfish (setup.py) ... \u001b[?25l\u001b[?25hdone\n",
            "  Created wheel for jellyfish: filename=jellyfish-0.9.0-cp37-cp37m-linux_x86_64.whl size=73967 sha256=c51ce167c0527b025191c0d5eef585a04e45e0c8d21c5dfeb80aa3bd8e6517ac\n",
            "  Stored in directory: /root/.cache/pip/wheels/fe/99/4e/646ce766df0d070b0ef04db27aa11543e2767fda3075aec31b\n",
            "Successfully built cytoolz jellyfish\n",
            "Installing collected packages: typing-extensions, catalogue, typer, srsly, pydantic, thinc, spacy-loggers, spacy-legacy, pathy, langcodes, spacy, pyphen, jellyfish, cytoolz, textacy\n",
            "  Attempting uninstall: typing-extensions\n",
            "    Found existing installation: typing-extensions 4.1.1\n",
            "    Uninstalling typing-extensions-4.1.1:\n",
            "      Successfully uninstalled typing-extensions-4.1.1\n",
            "  Attempting uninstall: catalogue\n",
            "    Found existing installation: catalogue 1.0.0\n",
            "    Uninstalling catalogue-1.0.0:\n",
            "      Successfully uninstalled catalogue-1.0.0\n",
            "  Attempting uninstall: srsly\n",
            "    Found existing installation: srsly 1.0.5\n",
            "    Uninstalling srsly-1.0.5:\n",
            "      Successfully uninstalled srsly-1.0.5\n",
            "  Attempting uninstall: thinc\n",
            "    Found existing installation: thinc 7.4.0\n",
            "    Uninstalling thinc-7.4.0:\n",
            "      Successfully uninstalled thinc-7.4.0\n",
            "  Attempting uninstall: spacy\n",
            "    Found existing installation: spacy 2.2.4\n",
            "    Uninstalling spacy-2.2.4:\n",
            "      Successfully uninstalled spacy-2.2.4\n",
            "\u001b[31mERROR: pip's dependency resolver does not currently take into account all the packages that are installed. This behaviour is the source of the following dependency conflicts.\n",
            "tensorflow 2.8.0 requires tf-estimator-nightly==2.8.0.dev2021122109, which is not installed.\u001b[0m\n",
            "Successfully installed catalogue-2.0.7 cytoolz-0.11.2 jellyfish-0.9.0 langcodes-3.3.0 pathy-0.6.1 pydantic-1.8.2 pyphen-0.12.0 spacy-3.2.4 spacy-legacy-3.0.9 spacy-loggers-1.0.2 srsly-2.4.3 textacy-0.11.0 thinc-8.0.15 typer-0.4.1 typing-extensions-3.10.0.2\n",
            "Collecting en-core-web-lg==3.2.0\n",
            "  Downloading https://github.com/explosion/spacy-models/releases/download/en_core_web_lg-3.2.0/en_core_web_lg-3.2.0-py3-none-any.whl (777.4 MB)\n",
            "\u001b[K     |████████████████████████████████| 777.4 MB 6.3 kB/s \n",
            "\u001b[?25hRequirement already satisfied: spacy<3.3.0,>=3.2.0 in /usr/local/lib/python3.7/dist-packages (from en-core-web-lg==3.2.0) (3.2.4)\n",
            "Requirement already satisfied: blis<0.8.0,>=0.4.0 in /usr/local/lib/python3.7/dist-packages (from spacy<3.3.0,>=3.2.0->en-core-web-lg==3.2.0) (0.4.1)\n",
            "Requirement already satisfied: pathy>=0.3.5 in /usr/local/lib/python3.7/dist-packages (from spacy<3.3.0,>=3.2.0->en-core-web-lg==3.2.0) (0.6.1)\n",
            "Requirement already satisfied: setuptools in /usr/local/lib/python3.7/dist-packages (from spacy<3.3.0,>=3.2.0->en-core-web-lg==3.2.0) (57.4.0)\n",
            "Requirement already satisfied: spacy-legacy<3.1.0,>=3.0.8 in /usr/local/lib/python3.7/dist-packages (from spacy<3.3.0,>=3.2.0->en-core-web-lg==3.2.0) (3.0.9)\n",
            "Requirement already satisfied: requests<3.0.0,>=2.13.0 in /usr/local/lib/python3.7/dist-packages (from spacy<3.3.0,>=3.2.0->en-core-web-lg==3.2.0) (2.23.0)\n",
            "Requirement already satisfied: tqdm<5.0.0,>=4.38.0 in /usr/local/lib/python3.7/dist-packages (from spacy<3.3.0,>=3.2.0->en-core-web-lg==3.2.0) (4.64.0)\n",
            "Requirement already satisfied: cymem<2.1.0,>=2.0.2 in /usr/local/lib/python3.7/dist-packages (from spacy<3.3.0,>=3.2.0->en-core-web-lg==3.2.0) (2.0.6)\n",
            "Requirement already satisfied: click<8.1.0 in /usr/local/lib/python3.7/dist-packages (from spacy<3.3.0,>=3.2.0->en-core-web-lg==3.2.0) (7.1.2)\n",
            "Requirement already satisfied: pydantic!=1.8,!=1.8.1,<1.9.0,>=1.7.4 in /usr/local/lib/python3.7/dist-packages (from spacy<3.3.0,>=3.2.0->en-core-web-lg==3.2.0) (1.8.2)\n",
            "Requirement already satisfied: preshed<3.1.0,>=3.0.2 in /usr/local/lib/python3.7/dist-packages (from spacy<3.3.0,>=3.2.0->en-core-web-lg==3.2.0) (3.0.6)\n",
            "Requirement already satisfied: wasabi<1.1.0,>=0.8.1 in /usr/local/lib/python3.7/dist-packages (from spacy<3.3.0,>=3.2.0->en-core-web-lg==3.2.0) (0.9.1)\n",
            "Requirement already satisfied: numpy>=1.15.0 in /usr/local/lib/python3.7/dist-packages (from spacy<3.3.0,>=3.2.0->en-core-web-lg==3.2.0) (1.21.5)\n",
            "Requirement already satisfied: jinja2 in /usr/local/lib/python3.7/dist-packages (from spacy<3.3.0,>=3.2.0->en-core-web-lg==3.2.0) (2.11.3)\n",
            "Requirement already satisfied: langcodes<4.0.0,>=3.2.0 in /usr/local/lib/python3.7/dist-packages (from spacy<3.3.0,>=3.2.0->en-core-web-lg==3.2.0) (3.3.0)\n",
            "Requirement already satisfied: typing-extensions<4.0.0.0,>=3.7.4 in /usr/local/lib/python3.7/dist-packages (from spacy<3.3.0,>=3.2.0->en-core-web-lg==3.2.0) (3.10.0.2)\n",
            "Requirement already satisfied: murmurhash<1.1.0,>=0.28.0 in /usr/local/lib/python3.7/dist-packages (from spacy<3.3.0,>=3.2.0->en-core-web-lg==3.2.0) (1.0.6)\n",
            "Requirement already satisfied: packaging>=20.0 in /usr/local/lib/python3.7/dist-packages (from spacy<3.3.0,>=3.2.0->en-core-web-lg==3.2.0) (21.3)\n",
            "Requirement already satisfied: srsly<3.0.0,>=2.4.1 in /usr/local/lib/python3.7/dist-packages (from spacy<3.3.0,>=3.2.0->en-core-web-lg==3.2.0) (2.4.3)\n",
            "Requirement already satisfied: spacy-loggers<2.0.0,>=1.0.0 in /usr/local/lib/python3.7/dist-packages (from spacy<3.3.0,>=3.2.0->en-core-web-lg==3.2.0) (1.0.2)\n",
            "Requirement already satisfied: typer<0.5.0,>=0.3.0 in /usr/local/lib/python3.7/dist-packages (from spacy<3.3.0,>=3.2.0->en-core-web-lg==3.2.0) (0.4.1)\n",
            "Requirement already satisfied: thinc<8.1.0,>=8.0.12 in /usr/local/lib/python3.7/dist-packages (from spacy<3.3.0,>=3.2.0->en-core-web-lg==3.2.0) (8.0.15)\n",
            "Requirement already satisfied: catalogue<2.1.0,>=2.0.6 in /usr/local/lib/python3.7/dist-packages (from spacy<3.3.0,>=3.2.0->en-core-web-lg==3.2.0) (2.0.7)\n",
            "Requirement already satisfied: zipp>=0.5 in /usr/local/lib/python3.7/dist-packages (from catalogue<2.1.0,>=2.0.6->spacy<3.3.0,>=3.2.0->en-core-web-lg==3.2.0) (3.8.0)\n",
            "Requirement already satisfied: pyparsing!=3.0.5,>=2.0.2 in /usr/local/lib/python3.7/dist-packages (from packaging>=20.0->spacy<3.3.0,>=3.2.0->en-core-web-lg==3.2.0) (3.0.8)\n",
            "Requirement already satisfied: smart-open<6.0.0,>=5.0.0 in /usr/local/lib/python3.7/dist-packages (from pathy>=0.3.5->spacy<3.3.0,>=3.2.0->en-core-web-lg==3.2.0) (5.2.1)\n",
            "Requirement already satisfied: certifi>=2017.4.17 in /usr/local/lib/python3.7/dist-packages (from requests<3.0.0,>=2.13.0->spacy<3.3.0,>=3.2.0->en-core-web-lg==3.2.0) (2021.10.8)\n",
            "Requirement already satisfied: chardet<4,>=3.0.2 in /usr/local/lib/python3.7/dist-packages (from requests<3.0.0,>=2.13.0->spacy<3.3.0,>=3.2.0->en-core-web-lg==3.2.0) (3.0.4)\n",
            "Requirement already satisfied: idna<3,>=2.5 in /usr/local/lib/python3.7/dist-packages (from requests<3.0.0,>=2.13.0->spacy<3.3.0,>=3.2.0->en-core-web-lg==3.2.0) (2.10)\n",
            "Requirement already satisfied: urllib3!=1.25.0,!=1.25.1,<1.26,>=1.21.1 in /usr/local/lib/python3.7/dist-packages (from requests<3.0.0,>=2.13.0->spacy<3.3.0,>=3.2.0->en-core-web-lg==3.2.0) (1.24.3)\n",
            "Requirement already satisfied: MarkupSafe>=0.23 in /usr/local/lib/python3.7/dist-packages (from jinja2->spacy<3.3.0,>=3.2.0->en-core-web-lg==3.2.0) (2.0.1)\n",
            "Installing collected packages: en-core-web-lg\n",
            "Successfully installed en-core-web-lg-3.2.0\n",
            "\u001b[38;5;2m✔ Download and installation successful\u001b[0m\n",
            "You can now load the package via spacy.load('en_core_web_lg')\n"
          ]
        }
      ],
      "source": [
        "# Installing the necessary libraries\n",
        "!pip install textacy\n",
        "!python -m spacy download en_core_web_lg"
      ]
    },
    {
      "cell_type": "code",
      "source": [
        "# Reading the data from file and converting in into suitable form to apply text processing\n",
        "import spacy\n",
        "import textacy\n",
        "dictionary = spacy.load('en_core_web_lg')\n",
        "f = open('text.txt','rt')\n",
        "data = f.read()\n",
        "doc = dictionary(data)\n",
        "len(doc)"
      ],
      "metadata": {
        "colab": {
          "base_uri": "https://localhost:8080/"
        },
        "id": "4TG6hBUth3rH",
        "outputId": "63578a84-8d72-4e59-bf7d-ccba23b2ab1f"
      },
      "execution_count": 3,
      "outputs": [
        {
          "output_type": "execute_result",
          "data": {
            "text/plain": [
              "260"
            ]
          },
          "metadata": {},
          "execution_count": 3
        }
      ]
    },
    {
      "cell_type": "code",
      "source": [
        "# Senetence Segmentation\n",
        "for sentence in doc.sents:\n",
        "  print(sentence.text)"
      ],
      "metadata": {
        "colab": {
          "base_uri": "https://localhost:8080/"
        },
        "id": "tZOErV10ikJN",
        "outputId": "5043b321-74c8-43b9-9ddd-962867921880"
      },
      "execution_count": 4,
      "outputs": [
        {
          "output_type": "stream",
          "name": "stdout",
          "text": [
            "Mantis shrimp, or stomatopods, are carnivorous marine crustaceans of the order Stomatopoda, branching from other members of the class Malacostraca around 340 million years ago.\n",
            "Mantis shrimp typically grow to around 10 cm (3.9 in) in length, while a few can reach up to 38 cm (15 in).\n",
            "A mantis shrimp's carapace (the hard, thick shell that covers crustaceans and some other species) covers only the rear part of the head and the first four segments of the thorax.\n",
            "Varieties range in colour from shades of brown to vivid colours, with more than 450 species of mantis shrimp being known.\n",
            "They are among the most important predators in many shallow, tropical and subtropical marine habitats.\n",
            "However, despite being common, they are poorly understood, as many species spend most of their lives tucked away in burrows and holes.\n",
            "Called \"sea locusts\" by ancient Assyrians, \"prawn killers\" in Australia, and now sometimes referred to as \"thumb splitters\"—because of the animal's ability to inflict painful wounds if handled incautiously—mantis shrimp have powerful raptorials that are used to attack and kill prey either by spearing, stunning, or dismembering.\n",
            "Some mantis shrimp species have specialised calcified \"clubs\" that can strike with great power, while others have sharp forelimbs used to seize the prey (hence the term \"mantis\" in its common name).\n"
          ]
        }
      ]
    },
    {
      "cell_type": "code",
      "source": [
        "# Tokenization\n",
        "print([token.text for token in doc])"
      ],
      "metadata": {
        "colab": {
          "base_uri": "https://localhost:8080/"
        },
        "id": "rYRZhFQDjCAw",
        "outputId": "f5bf8543-c4da-4e29-b2e2-e2b75d351c95"
      },
      "execution_count": 7,
      "outputs": [
        {
          "output_type": "stream",
          "name": "stdout",
          "text": [
            "['Mantis', 'shrimp', ',', 'or', 'stomatopods', ',', 'are', 'carnivorous', 'marine', 'crustaceans', 'of', 'the', 'order', 'Stomatopoda', ',', 'branching', 'from', 'other', 'members', 'of', 'the', 'class', 'Malacostraca', 'around', '340', 'million', 'years', 'ago', '.', 'Mantis', 'shrimp', 'typically', 'grow', 'to', 'around', '10', 'cm', '(', '3.9', 'in', ')', 'in', 'length', ',', 'while', 'a', 'few', 'can', 'reach', 'up', 'to', '38', 'cm', '(', '15', 'in', ')', '.', 'A', 'mantis', 'shrimp', \"'s\", 'carapace', '(', 'the', 'hard', ',', 'thick', 'shell', 'that', 'covers', 'crustaceans', 'and', 'some', 'other', 'species', ')', 'covers', 'only', 'the', 'rear', 'part', 'of', 'the', 'head', 'and', 'the', 'first', 'four', 'segments', 'of', 'the', 'thorax', '.', 'Varieties', 'range', 'in', 'colour', 'from', 'shades', 'of', 'brown', 'to', 'vivid', 'colours', ',', 'with', 'more', 'than', '450', 'species', 'of', 'mantis', 'shrimp', 'being', 'known', '.', 'They', 'are', 'among', 'the', 'most', 'important', 'predators', 'in', 'many', 'shallow', ',', 'tropical', 'and', 'subtropical', 'marine', 'habitats', '.', 'However', ',', 'despite', 'being', 'common', ',', 'they', 'are', 'poorly', 'understood', ',', 'as', 'many', 'species', 'spend', 'most', 'of', 'their', 'lives', 'tucked', 'away', 'in', 'burrows', 'and', 'holes', '.', 'Called', '\"', 'sea', 'locusts', '\"', 'by', 'ancient', 'Assyrians', ',', '\"', 'prawn', 'killers', '\"', 'in', 'Australia', ',', 'and', 'now', 'sometimes', 'referred', 'to', 'as', '\"', 'thumb', 'splitters\"—because', 'of', 'the', 'animal', \"'s\", 'ability', 'to', 'inflict', 'painful', 'wounds', 'if', 'handled', 'incautiously', '—', 'mantis', 'shrimp', 'have', 'powerful', 'raptorials', 'that', 'are', 'used', 'to', 'attack', 'and', 'kill', 'prey', 'either', 'by', 'spearing', ',', 'stunning', ',', 'or', 'dismembering', '.', 'Some', 'mantis', 'shrimp', 'species', 'have', 'specialised', 'calcified', '\"', 'clubs', '\"', 'that', 'can', 'strike', 'with', 'great', 'power', ',', 'while', 'others', 'have', 'sharp', 'forelimbs', 'used', 'to', 'seize', 'the', 'prey', '(', 'hence', 'the', 'term', '\"', 'mantis', '\"', 'in', 'its', 'common', 'name', ')', '.']\n"
          ]
        }
      ]
    },
    {
      "cell_type": "code",
      "source": [
        "# Part of Speech Tagging\n",
        "print(f\"{'text':{8}} {'POS':{6}} {'TAG':{6}} {'Dep':{6}} {'POS explained':{20}} {'tag explained'} \")\n",
        "for token in doc:\n",
        "  print(f'{token.text:{8}} {token.pos_:{6}} {token.tag_:{6}} {token.dep_:{6}} {spacy.explain(token.pos_):{20}} {spacy.explain(token.tag_)}')"
      ],
      "metadata": {
        "colab": {
          "base_uri": "https://localhost:8080/"
        },
        "id": "xzIzNKHDjUkS",
        "outputId": "3b309039-cb9a-4564-9881-b01fc3010779"
      },
      "execution_count": 8,
      "outputs": [
        {
          "output_type": "stream",
          "name": "stdout",
          "text": [
            "text     POS    TAG    Dep    POS explained        tag explained \n",
            "Mantis   PROPN  NNP    compound proper noun          noun, proper singular\n",
            "shrimp   NOUN   NN     nsubj  noun                 noun, singular or mass\n",
            ",        PUNCT  ,      punct  punctuation          punctuation mark, comma\n",
            "or       CCONJ  CC     cc     coordinating conjunction conjunction, coordinating\n",
            "stomatopods NOUN   NNS    conj   noun                 noun, plural\n",
            ",        PUNCT  ,      punct  punctuation          punctuation mark, comma\n",
            "are      AUX    VBP    ROOT   auxiliary            verb, non-3rd person singular present\n",
            "carnivorous ADJ    JJ     amod   adjective            adjective (English), other noun-modifier (Chinese)\n",
            "marine   ADJ    JJ     amod   adjective            adjective (English), other noun-modifier (Chinese)\n",
            "crustaceans NOUN   NNS    attr   noun                 noun, plural\n",
            "of       ADP    IN     prep   adposition           conjunction, subordinating or preposition\n",
            "the      DET    DT     det    determiner           determiner\n",
            "order    NOUN   NN     pobj   noun                 noun, singular or mass\n",
            "Stomatopoda PROPN  NNP    appos  proper noun          noun, proper singular\n",
            ",        PUNCT  ,      punct  punctuation          punctuation mark, comma\n",
            "branching VERB   VBG    advcl  verb                 verb, gerund or present participle\n",
            "from     ADP    IN     prep   adposition           conjunction, subordinating or preposition\n",
            "other    ADJ    JJ     amod   adjective            adjective (English), other noun-modifier (Chinese)\n",
            "members  NOUN   NNS    pobj   noun                 noun, plural\n",
            "of       ADP    IN     prep   adposition           conjunction, subordinating or preposition\n",
            "the      DET    DT     det    determiner           determiner\n",
            "class    NOUN   NN     pobj   noun                 noun, singular or mass\n",
            "Malacostraca PROPN  NNP    dep    proper noun          noun, proper singular\n",
            "around   ADP    IN     quantmod adposition           conjunction, subordinating or preposition\n",
            "340      NUM    CD     compound numeral              cardinal number\n",
            "million  NUM    CD     nummod numeral              cardinal number\n",
            "years    NOUN   NNS    npadvmod noun                 noun, plural\n",
            "ago      ADV    RB     advmod adverb               adverb\n",
            ".        PUNCT  .      punct  punctuation          punctuation mark, sentence closer\n",
            "Mantis   PROPN  NNP    compound proper noun          noun, proper singular\n",
            "shrimp   NOUN   NN     nsubj  noun                 noun, singular or mass\n",
            "typically ADV    RB     advmod adverb               adverb\n",
            "grow     VERB   VBP    ROOT   verb                 verb, non-3rd person singular present\n",
            "to       ADP    IN     prep   adposition           conjunction, subordinating or preposition\n",
            "around   ADP    IN     quantmod adposition           conjunction, subordinating or preposition\n",
            "10       NUM    CD     nummod numeral              cardinal number\n",
            "cm       NOUN   NNS    pobj   noun                 noun, plural\n",
            "(        PUNCT  -LRB-  punct  punctuation          left round bracket\n",
            "3.9      NUM    CD     appos  numeral              cardinal number\n",
            "in       ADP    IN     prep   adposition           conjunction, subordinating or preposition\n",
            ")        PUNCT  -RRB-  punct  punctuation          right round bracket\n",
            "in       ADP    IN     prep   adposition           conjunction, subordinating or preposition\n",
            "length   NOUN   NN     pobj   noun                 noun, singular or mass\n",
            ",        PUNCT  ,      punct  punctuation          punctuation mark, comma\n",
            "while    SCONJ  IN     mark   subordinating conjunction conjunction, subordinating or preposition\n",
            "a        DET    DT     det    determiner           determiner\n",
            "few      ADJ    JJ     nsubj  adjective            adjective (English), other noun-modifier (Chinese)\n",
            "can      AUX    MD     aux    auxiliary            verb, modal auxiliary\n",
            "reach    VERB   VB     advcl  verb                 verb, base form\n",
            "up       ADP    IN     quantmod adposition           conjunction, subordinating or preposition\n",
            "to       PART   TO     quantmod particle             infinitival \"to\"\n",
            "38       NUM    CD     nummod numeral              cardinal number\n",
            "cm       NOUN   NNS    dobj   noun                 noun, plural\n",
            "(        PUNCT  -LRB-  punct  punctuation          left round bracket\n",
            "15       NUM    CD     appos  numeral              cardinal number\n",
            "in       ADV    RB     advmod adverb               adverb\n",
            ")        PUNCT  -RRB-  punct  punctuation          right round bracket\n",
            ".        PUNCT  .      punct  punctuation          punctuation mark, sentence closer\n",
            "A        DET    DT     det    determiner           determiner\n",
            "mantis   NOUN   NN     compound noun                 noun, singular or mass\n",
            "shrimp   NOUN   NN     poss   noun                 noun, singular or mass\n",
            "'s       PART   POS    case   particle             possessive ending\n",
            "carapace NOUN   NN     nsubj  noun                 noun, singular or mass\n",
            "(        PUNCT  -LRB-  punct  punctuation          left round bracket\n",
            "the      DET    DT     det    determiner           determiner\n",
            "hard     ADJ    JJ     amod   adjective            adjective (English), other noun-modifier (Chinese)\n",
            ",        PUNCT  ,      punct  punctuation          punctuation mark, comma\n",
            "thick    ADJ    JJ     amod   adjective            adjective (English), other noun-modifier (Chinese)\n",
            "shell    NOUN   NN     appos  noun                 noun, singular or mass\n",
            "that     PRON   WDT    nsubj  pronoun              wh-determiner\n",
            "covers   VERB   VBZ    relcl  verb                 verb, 3rd person singular present\n",
            "crustaceans NOUN   NNS    dobj   noun                 noun, plural\n",
            "and      CCONJ  CC     cc     coordinating conjunction conjunction, coordinating\n",
            "some     DET    DT     det    determiner           determiner\n",
            "other    ADJ    JJ     amod   adjective            adjective (English), other noun-modifier (Chinese)\n",
            "species  NOUN   NNS    conj   noun                 noun, plural\n",
            ")        PUNCT  -RRB-  punct  punctuation          right round bracket\n",
            "covers   VERB   VBZ    ROOT   verb                 verb, 3rd person singular present\n",
            "only     ADV    RB     advmod adverb               adverb\n",
            "the      DET    DT     det    determiner           determiner\n",
            "rear     ADJ    JJ     amod   adjective            adjective (English), other noun-modifier (Chinese)\n",
            "part     NOUN   NN     dobj   noun                 noun, singular or mass\n",
            "of       ADP    IN     prep   adposition           conjunction, subordinating or preposition\n",
            "the      DET    DT     det    determiner           determiner\n",
            "head     NOUN   NN     pobj   noun                 noun, singular or mass\n",
            "and      CCONJ  CC     cc     coordinating conjunction conjunction, coordinating\n",
            "the      DET    DT     det    determiner           determiner\n",
            "first    ADJ    JJ     amod   adjective            adjective (English), other noun-modifier (Chinese)\n",
            "four     NUM    CD     nummod numeral              cardinal number\n",
            "segments NOUN   NNS    conj   noun                 noun, plural\n",
            "of       ADP    IN     prep   adposition           conjunction, subordinating or preposition\n",
            "the      DET    DT     det    determiner           determiner\n",
            "thorax   NOUN   NN     pobj   noun                 noun, singular or mass\n",
            ".        PUNCT  .      punct  punctuation          punctuation mark, sentence closer\n",
            "Varieties NOUN   NNS    nsubj  noun                 noun, plural\n",
            "range    VERB   VBP    ROOT   verb                 verb, non-3rd person singular present\n",
            "in       ADP    IN     prep   adposition           conjunction, subordinating or preposition\n",
            "colour   NOUN   NN     pobj   noun                 noun, singular or mass\n",
            "from     ADP    IN     prep   adposition           conjunction, subordinating or preposition\n",
            "shades   NOUN   NNS    pobj   noun                 noun, plural\n",
            "of       ADP    IN     prep   adposition           conjunction, subordinating or preposition\n",
            "brown    NOUN   NN     pobj   noun                 noun, singular or mass\n",
            "to       ADP    IN     prep   adposition           conjunction, subordinating or preposition\n",
            "vivid    ADJ    JJ     amod   adjective            adjective (English), other noun-modifier (Chinese)\n",
            "colours  NOUN   NNS    pobj   noun                 noun, plural\n",
            ",        PUNCT  ,      punct  punctuation          punctuation mark, comma\n",
            "with     ADP    IN     prep   adposition           conjunction, subordinating or preposition\n",
            "more     ADJ    JJR    amod   adjective            adjective, comparative\n",
            "than     ADP    IN     quantmod adposition           conjunction, subordinating or preposition\n",
            "450      NUM    CD     nummod numeral              cardinal number\n",
            "species  NOUN   NNS    pobj   noun                 noun, plural\n",
            "of       ADP    IN     prep   adposition           conjunction, subordinating or preposition\n",
            "mantis   NOUN   NN     compound noun                 noun, singular or mass\n",
            "shrimp   NOUN   NN     pobj   noun                 noun, singular or mass\n",
            "being    AUX    VBG    auxpass auxiliary            verb, gerund or present participle\n",
            "known    VERB   VBN    ccomp  verb                 verb, past participle\n",
            ".        PUNCT  .      punct  punctuation          punctuation mark, sentence closer\n",
            "They     PRON   PRP    nsubj  pronoun              pronoun, personal\n",
            "are      AUX    VBP    ROOT   auxiliary            verb, non-3rd person singular present\n",
            "among    ADP    IN     prep   adposition           conjunction, subordinating or preposition\n",
            "the      DET    DT     det    determiner           determiner\n",
            "most     ADV    RBS    advmod adverb               adverb, superlative\n",
            "important ADJ    JJ     amod   adjective            adjective (English), other noun-modifier (Chinese)\n",
            "predators NOUN   NNS    pobj   noun                 noun, plural\n",
            "in       ADP    IN     prep   adposition           conjunction, subordinating or preposition\n",
            "many     ADJ    JJ     amod   adjective            adjective (English), other noun-modifier (Chinese)\n",
            "shallow  ADJ    JJ     amod   adjective            adjective (English), other noun-modifier (Chinese)\n",
            ",        PUNCT  ,      punct  punctuation          punctuation mark, comma\n",
            "tropical ADJ    JJ     conj   adjective            adjective (English), other noun-modifier (Chinese)\n",
            "and      CCONJ  CC     cc     coordinating conjunction conjunction, coordinating\n",
            "subtropical ADJ    JJ     conj   adjective            adjective (English), other noun-modifier (Chinese)\n",
            "marine   ADJ    JJ     amod   adjective            adjective (English), other noun-modifier (Chinese)\n",
            "habitats NOUN   NNS    pobj   noun                 noun, plural\n",
            ".        PUNCT  .      punct  punctuation          punctuation mark, sentence closer\n",
            "However  ADV    RB     advmod adverb               adverb\n",
            ",        PUNCT  ,      punct  punctuation          punctuation mark, comma\n",
            "despite  SCONJ  IN     prep   subordinating conjunction conjunction, subordinating or preposition\n",
            "being    AUX    VBG    pcomp  auxiliary            verb, gerund or present participle\n",
            "common   ADJ    JJ     acomp  adjective            adjective (English), other noun-modifier (Chinese)\n",
            ",        PUNCT  ,      punct  punctuation          punctuation mark, comma\n",
            "they     PRON   PRP    nsubjpass pronoun              pronoun, personal\n",
            "are      AUX    VBP    auxpass auxiliary            verb, non-3rd person singular present\n",
            "poorly   ADV    RB     advmod adverb               adverb\n",
            "understood VERB   VBN    ROOT   verb                 verb, past participle\n",
            ",        PUNCT  ,      punct  punctuation          punctuation mark, comma\n",
            "as       SCONJ  IN     mark   subordinating conjunction conjunction, subordinating or preposition\n",
            "many     ADJ    JJ     amod   adjective            adjective (English), other noun-modifier (Chinese)\n",
            "species  NOUN   NNS    nsubj  noun                 noun, plural\n",
            "spend    VERB   VBP    advcl  verb                 verb, non-3rd person singular present\n",
            "most     ADJ    JJS    dobj   adjective            adjective, superlative\n",
            "of       ADP    IN     prep   adposition           conjunction, subordinating or preposition\n",
            "their    PRON   PRP$   poss   pronoun              pronoun, possessive\n",
            "lives    NOUN   NNS    pobj   noun                 noun, plural\n",
            "tucked   VERB   VBN    advcl  verb                 verb, past participle\n",
            "away     ADV    RB     advmod adverb               adverb\n",
            "in       ADP    IN     prep   adposition           conjunction, subordinating or preposition\n",
            "burrows  NOUN   NNS    pobj   noun                 noun, plural\n",
            "and      CCONJ  CC     cc     coordinating conjunction conjunction, coordinating\n",
            "holes    NOUN   NNS    conj   noun                 noun, plural\n",
            ".        PUNCT  .      punct  punctuation          punctuation mark, sentence closer\n",
            "Called   VERB   VBN    ROOT   verb                 verb, past participle\n",
            "\"        PUNCT  ``     punct  punctuation          opening quotation mark\n",
            "sea      NOUN   NN     compound noun                 noun, singular or mass\n",
            "locusts  NOUN   NNS    oprd   noun                 noun, plural\n",
            "\"        PUNCT  ''     punct  punctuation          closing quotation mark\n",
            "by       ADP    IN     prep   adposition           conjunction, subordinating or preposition\n",
            "ancient  ADJ    JJ     amod   adjective            adjective (English), other noun-modifier (Chinese)\n",
            "Assyrians PROPN  NNPS   pobj   proper noun          noun, proper plural\n",
            ",        PUNCT  ,      punct  punctuation          punctuation mark, comma\n",
            "\"        PUNCT  ``     punct  punctuation          opening quotation mark\n",
            "prawn    NOUN   NN     compound noun                 noun, singular or mass\n",
            "killers  NOUN   NNS    appos  noun                 noun, plural\n",
            "\"        PUNCT  ''     punct  punctuation          closing quotation mark\n",
            "in       ADP    IN     prep   adposition           conjunction, subordinating or preposition\n",
            "Australia PROPN  NNP    pobj   proper noun          noun, proper singular\n",
            ",        PUNCT  ,      punct  punctuation          punctuation mark, comma\n",
            "and      CCONJ  CC     cc     coordinating conjunction conjunction, coordinating\n",
            "now      ADV    RB     advmod adverb               adverb\n",
            "sometimes ADV    RB     advmod adverb               adverb\n",
            "referred VERB   VBD    conj   verb                 verb, past tense\n",
            "to       ADP    IN     prep   adposition           conjunction, subordinating or preposition\n",
            "as       ADP    IN     prep   adposition           conjunction, subordinating or preposition\n",
            "\"        PUNCT  ``     punct  punctuation          opening quotation mark\n",
            "thumb    NOUN   NN     pobj   noun                 noun, singular or mass\n",
            "splitters\"—because NUM    CD     nummod numeral              cardinal number\n",
            "of       ADP    IN     prep   adposition           conjunction, subordinating or preposition\n",
            "the      DET    DT     det    determiner           determiner\n",
            "animal   NOUN   NN     poss   noun                 noun, singular or mass\n",
            "'s       PART   POS    case   particle             possessive ending\n",
            "ability  NOUN   NN     pobj   noun                 noun, singular or mass\n",
            "to       PART   TO     aux    particle             infinitival \"to\"\n",
            "inflict  VERB   VB     acl    verb                 verb, base form\n",
            "painful  ADJ    JJ     amod   adjective            adjective (English), other noun-modifier (Chinese)\n",
            "wounds   NOUN   NNS    dobj   noun                 noun, plural\n",
            "if       SCONJ  IN     mark   subordinating conjunction conjunction, subordinating or preposition\n",
            "handled  VERB   VBN    advcl  verb                 verb, past participle\n",
            "incautiously ADV    RB     advmod adverb               adverb\n",
            "—        PUNCT  :      punct  punctuation          punctuation mark, colon or ellipsis\n",
            "mantis   NOUN   NN     compound noun                 noun, singular or mass\n",
            "shrimp   NOUN   NN     nsubj  noun                 noun, singular or mass\n",
            "have     VERB   VBP    conj   verb                 verb, non-3rd person singular present\n",
            "powerful ADJ    JJ     amod   adjective            adjective (English), other noun-modifier (Chinese)\n",
            "raptorials NOUN   NNS    dobj   noun                 noun, plural\n",
            "that     PRON   WDT    nsubjpass pronoun              wh-determiner\n",
            "are      AUX    VBP    auxpass auxiliary            verb, non-3rd person singular present\n",
            "used     VERB   VBN    relcl  verb                 verb, past participle\n",
            "to       PART   TO     aux    particle             infinitival \"to\"\n",
            "attack   VERB   VB     xcomp  verb                 verb, base form\n",
            "and      CCONJ  CC     cc     coordinating conjunction conjunction, coordinating\n",
            "kill     VERB   VB     conj   verb                 verb, base form\n",
            "prey     NOUN   NN     dobj   noun                 noun, singular or mass\n",
            "either   CCONJ  CC     preconj coordinating conjunction conjunction, coordinating\n",
            "by       ADP    IN     prep   adposition           conjunction, subordinating or preposition\n",
            "spearing VERB   VBG    pcomp  verb                 verb, gerund or present participle\n",
            ",        PUNCT  ,      punct  punctuation          punctuation mark, comma\n",
            "stunning ADJ    JJ     conj   adjective            adjective (English), other noun-modifier (Chinese)\n",
            ",        PUNCT  ,      punct  punctuation          punctuation mark, comma\n",
            "or       CCONJ  CC     cc     coordinating conjunction conjunction, coordinating\n",
            "dismembering VERB   VBG    conj   verb                 verb, gerund or present participle\n",
            ".        PUNCT  .      punct  punctuation          punctuation mark, sentence closer\n",
            "Some     DET    DT     det    determiner           determiner\n",
            "mantis   NOUN   NN     compound noun                 noun, singular or mass\n",
            "shrimp   NOUN   NN     compound noun                 noun, singular or mass\n",
            "species  NOUN   NNS    nsubj  noun                 noun, plural\n",
            "have     AUX    VBP    aux    auxiliary            verb, non-3rd person singular present\n",
            "specialised VERB   VBN    ROOT   verb                 verb, past participle\n",
            "calcified ADJ    JJ     amod   adjective            adjective (English), other noun-modifier (Chinese)\n",
            "\"        PUNCT  ``     punct  punctuation          opening quotation mark\n",
            "clubs    NOUN   NNS    dobj   noun                 noun, plural\n",
            "\"        PUNCT  ''     punct  punctuation          closing quotation mark\n",
            "that     PRON   WDT    nsubj  pronoun              wh-determiner\n",
            "can      AUX    MD     aux    auxiliary            verb, modal auxiliary\n",
            "strike   VERB   VB     relcl  verb                 verb, base form\n",
            "with     ADP    IN     prep   adposition           conjunction, subordinating or preposition\n",
            "great    ADJ    JJ     amod   adjective            adjective (English), other noun-modifier (Chinese)\n",
            "power    NOUN   NN     pobj   noun                 noun, singular or mass\n",
            ",        PUNCT  ,      punct  punctuation          punctuation mark, comma\n",
            "while    SCONJ  IN     mark   subordinating conjunction conjunction, subordinating or preposition\n",
            "others   NOUN   NNS    nsubj  noun                 noun, plural\n",
            "have     VERB   VBP    advcl  verb                 verb, non-3rd person singular present\n",
            "sharp    ADJ    JJ     amod   adjective            adjective (English), other noun-modifier (Chinese)\n",
            "forelimbs NOUN   NNS    dobj   noun                 noun, plural\n",
            "used     VERB   VBN    acl    verb                 verb, past participle\n",
            "to       PART   TO     aux    particle             infinitival \"to\"\n",
            "seize    VERB   VB     xcomp  verb                 verb, base form\n",
            "the      DET    DT     det    determiner           determiner\n",
            "prey     NOUN   NN     dobj   noun                 noun, singular or mass\n",
            "(        PUNCT  -LRB-  punct  punctuation          left round bracket\n",
            "hence    ADV    RB     advmod adverb               adverb\n",
            "the      DET    DT     det    determiner           determiner\n",
            "term     NOUN   NN     npadvmod noun                 noun, singular or mass\n",
            "\"        PUNCT  ``     punct  punctuation          opening quotation mark\n",
            "mantis   NOUN   NN     appos  noun                 noun, singular or mass\n",
            "\"        PUNCT  ''     punct  punctuation          closing quotation mark\n",
            "in       ADP    IN     prep   adposition           conjunction, subordinating or preposition\n",
            "its      PRON   PRP$   poss   pronoun              pronoun, possessive\n",
            "common   ADJ    JJ     amod   adjective            adjective (English), other noun-modifier (Chinese)\n",
            "name     NOUN   NN     pobj   noun                 noun, singular or mass\n",
            ")        PUNCT  -RRB-  punct  punctuation          right round bracket\n",
            ".        PUNCT  .      punct  punctuation          punctuation mark, sentence closer\n"
          ]
        }
      ]
    },
    {
      "cell_type": "code",
      "source": [
        "# Lemmatization\n",
        "for token in doc:\n",
        "    print(token, token.lemma, token.lemma_)"
      ],
      "metadata": {
        "colab": {
          "base_uri": "https://localhost:8080/"
        },
        "id": "4u2zmmuKHw3Q",
        "outputId": "b8308893-927f-4aea-b4ba-fa5bfc350bb2"
      },
      "execution_count": 9,
      "outputs": [
        {
          "output_type": "stream",
          "name": "stdout",
          "text": [
            "Mantis 17872690070537057250 Mantis\n",
            "shrimp 7279186528289035635 shrimp\n",
            ", 2593208677638477497 ,\n",
            "or 3740602843040177340 or\n",
            "stomatopods 14931173630925551662 stomatopod\n",
            ", 2593208677638477497 ,\n",
            "are 10382539506755952630 be\n",
            "carnivorous 1329629273164243324 carnivorous\n",
            "marine 4557849690716340921 marine\n",
            "crustaceans 14459078568133061236 crustacean\n",
            "of 886050111519832510 of\n",
            "the 7425985699627899538 the\n",
            "order 13136985495629980461 order\n",
            "Stomatopoda 15565312192122433615 Stomatopoda\n",
            ", 2593208677638477497 ,\n",
            "branching 2226102314660457424 branch\n",
            "from 7831658034963690409 from\n",
            "other 1176656782636220709 other\n",
            "members 14721843519903598875 member\n",
            "of 886050111519832510 of\n",
            "the 7425985699627899538 the\n",
            "class 12859657019542931961 class\n",
            "Malacostraca 5917047581570531788 Malacostraca\n",
            "around 3194226484742107227 around\n",
            "340 11373247860870193643 340\n",
            "million 17365054503653917826 million\n",
            "years 14889849580704678361 year\n",
            "ago 18432988265768819336 ago\n",
            ". 12646065887601541794 .\n",
            "Mantis 17872690070537057250 Mantis\n",
            "shrimp 7279186528289035635 shrimp\n",
            "typically 4127424922989833796 typically\n",
            "grow 17623831665190758874 grow\n",
            "to 3791531372978436496 to\n",
            "around 3194226484742107227 around\n",
            "10 6572986864102252890 10\n",
            "cm 11920786500560237949 cm\n",
            "( 12638816674900267446 (\n",
            "3.9 12362212966897280259 3.9\n",
            "in 3002984154512732771 in\n",
            ") 3842344029291005339 )\n",
            "in 3002984154512732771 in\n",
            "length 493173492801391902 length\n",
            ", 2593208677638477497 ,\n",
            "while 1039541750886098100 while\n",
            "a 11901859001352538922 a\n",
            "few 11866476999679706272 few\n",
            "can 6635067063807956629 can\n",
            "reach 16043492340495565256 reach\n",
            "up 2199259611705938403 up\n",
            "to 3791531372978436496 to\n",
            "38 15934455504154567743 38\n",
            "cm 11920786500560237949 cm\n",
            "( 12638816674900267446 (\n",
            "15 13771760024209633521 15\n",
            "in 3002984154512732771 in\n",
            ") 3842344029291005339 )\n",
            ". 12646065887601541794 .\n",
            "A 11901859001352538922 a\n",
            "mantis 14582085738087320934 mantis\n",
            "shrimp 7279186528289035635 shrimp\n",
            "'s 16428057658620181782 's\n",
            "carapace 8689088201036803505 carapace\n",
            "( 12638816674900267446 (\n",
            "the 7425985699627899538 the\n",
            "hard 5791351258821946298 hard\n",
            ", 2593208677638477497 ,\n",
            "thick 13035274108665038098 thick\n",
            "shell 9176892150852730065 shell\n",
            "that 4380130941430378203 that\n",
            "covers 17049112108365442227 cover\n",
            "crustaceans 14459078568133061236 crustacean\n",
            "and 2283656566040971221 and\n",
            "some 7000492816108906599 some\n",
            "other 1176656782636220709 other\n",
            "species 4195255386792275921 specie\n",
            ") 3842344029291005339 )\n",
            "covers 17049112108365442227 cover\n",
            "only 13398675276606405380 only\n",
            "the 7425985699627899538 the\n",
            "rear 17801096755655281483 rear\n",
            "part 4485934323942657167 part\n",
            "of 886050111519832510 of\n",
            "the 7425985699627899538 the\n",
            "head 8419699711262724776 head\n",
            "and 2283656566040971221 and\n",
            "the 7425985699627899538 the\n",
            "first 11860158879560853892 first\n",
            "four 13283271314760746512 four\n",
            "segments 6184502641974542471 segment\n",
            "of 886050111519832510 of\n",
            "the 7425985699627899538 the\n",
            "thorax 10089562792392318751 thorax\n",
            ". 12646065887601541794 .\n",
            "Varieties 7783866297634694112 variety\n",
            "range 9780120844974374175 range\n",
            "in 3002984154512732771 in\n",
            "colour 2579953423244470672 colour\n",
            "from 7831658034963690409 from\n",
            "shades 9379627131333742167 shade\n",
            "of 886050111519832510 of\n",
            "brown 15566893785393968193 brown\n",
            "to 3791531372978436496 to\n",
            "vivid 11902563842823209542 vivid\n",
            "colours 2579953423244470672 colour\n",
            ", 2593208677638477497 ,\n",
            "with 12510949447758279278 with\n",
            "more 2160362229054775535 more\n",
            "than 10794458019344880855 than\n",
            "450 15294695684907896269 450\n",
            "species 4195255386792275921 specie\n",
            "of 886050111519832510 of\n",
            "mantis 14582085738087320934 mantis\n",
            "shrimp 7279186528289035635 shrimp\n",
            "being 10382539506755952630 be\n",
            "known 7743033266031195906 know\n",
            ". 12646065887601541794 .\n",
            "They 16875582379069451158 they\n",
            "are 10382539506755952630 be\n",
            "among 1786834733449005920 among\n",
            "the 7425985699627899538 the\n",
            "most 11104729984170784471 most\n",
            "important 5951875591235763184 important\n",
            "predators 17005137511431327725 predator\n",
            "in 3002984154512732771 in\n",
            "many 9720044723474553187 many\n",
            "shallow 15559781648567571259 shallow\n",
            ", 2593208677638477497 ,\n",
            "tropical 4942172922769702417 tropical\n",
            "and 2283656566040971221 and\n",
            "subtropical 10878801734259698312 subtropical\n",
            "marine 4557849690716340921 marine\n",
            "habitats 3966550813095738393 habitat\n",
            ". 12646065887601541794 .\n",
            "However 17682826258315136684 however\n",
            ", 2593208677638477497 ,\n",
            "despite 8506246198145385850 despite\n",
            "being 10382539506755952630 be\n",
            "common 12010910475078340588 common\n",
            ", 2593208677638477497 ,\n",
            "they 16875582379069451158 they\n",
            "are 10382539506755952630 be\n",
            "poorly 5170545882746339110 poorly\n",
            "understood 2256871070683278179 understand\n",
            ", 2593208677638477497 ,\n",
            "as 7437575085468336610 as\n",
            "many 9720044723474553187 many\n",
            "species 4195255386792275921 specie\n",
            "spend 4002794779261404727 spend\n",
            "most 11104729984170784471 most\n",
            "of 886050111519832510 of\n",
            "their 4244585616942201722 their\n",
            "lives 16477424308483498569 life\n",
            "tucked 7015696110822919022 tuck\n",
            "away 15726112966383307120 away\n",
            "in 3002984154512732771 in\n",
            "burrows 2309267118503641996 burrow\n",
            "and 2283656566040971221 and\n",
            "holes 14655998238452687108 hole\n",
            ". 12646065887601541794 .\n",
            "Called 14229572451745258962 call\n",
            "\" 15884554869126768810 \"\n",
            "sea 3315219263181363146 sea\n",
            "locusts 17119302362286117578 locust\n",
            "\" 15884554869126768810 \"\n",
            "by 16764210730586636600 by\n",
            "ancient 17760228687901742862 ancient\n",
            "Assyrians 3194083574671254434 Assyrians\n",
            ", 2593208677638477497 ,\n",
            "\" 15884554869126768810 \"\n",
            "prawn 12843644971177101129 prawn\n",
            "killers 18170778864428242089 killer\n",
            "\" 15884554869126768810 \"\n",
            "in 3002984154512732771 in\n",
            "Australia 17234646626012525202 Australia\n",
            ", 2593208677638477497 ,\n",
            "and 2283656566040971221 and\n",
            "now 17157488710739566268 now\n",
            "sometimes 2982782142620708162 sometimes\n",
            "referred 1199249557754039115 refer\n",
            "to 3791531372978436496 to\n",
            "as 7437575085468336610 as\n",
            "\" 15884554869126768810 \"\n",
            "thumb 8325025019598013067 thumb\n",
            "splitters\"—because 12342773151133280450 splitters\"—because\n",
            "of 886050111519832510 of\n",
            "the 7425985699627899538 the\n",
            "animal 10614196251517862244 animal\n",
            "'s 16428057658620181782 's\n",
            "ability 11565809527369121409 ability\n",
            "to 3791531372978436496 to\n",
            "inflict 17064905330851880520 inflict\n",
            "painful 3688728440189570542 painful\n",
            "wounds 11207056063976617992 wound\n",
            "if 12446819118446800910 if\n",
            "handled 8691213008739214150 handle\n",
            "incautiously 5609321917878478076 incautiously\n",
            "— 13657828488461764581 —\n",
            "mantis 14582085738087320934 mantis\n",
            "shrimp 7279186528289035635 shrimp\n",
            "have 14692702688101715474 have\n",
            "powerful 12699150645881488834 powerful\n",
            "raptorials 14600087584708926245 raptorial\n",
            "that 4380130941430378203 that\n",
            "are 10382539506755952630 be\n",
            "used 6873750497785110593 use\n",
            "to 3791531372978436496 to\n",
            "attack 9652614884489271923 attack\n",
            "and 2283656566040971221 and\n",
            "kill 3883960749573218104 kill\n",
            "prey 4113129802016781543 prey\n",
            "either 7000860569167321224 either\n",
            "by 16764210730586636600 by\n",
            "spearing 5016539362934494379 spear\n",
            ", 2593208677638477497 ,\n",
            "stunning 16996624066894335260 stunning\n",
            ", 2593208677638477497 ,\n",
            "or 3740602843040177340 or\n",
            "dismembering 13943289096925140995 dismember\n",
            ". 12646065887601541794 .\n",
            "Some 7000492816108906599 some\n",
            "mantis 14582085738087320934 mantis\n",
            "shrimp 7279186528289035635 shrimp\n",
            "species 4195255386792275921 specie\n",
            "have 14692702688101715474 have\n",
            "specialised 40961832433329648 specialise\n",
            "calcified 17906523157073691821 calcified\n",
            "\" 15884554869126768810 \"\n",
            "clubs 167118723697882553 club\n",
            "\" 15884554869126768810 \"\n",
            "that 4380130941430378203 that\n",
            "can 6635067063807956629 can\n",
            "strike 6550969985881060417 strike\n",
            "with 12510949447758279278 with\n",
            "great 8881679497796027013 great\n",
            "power 10405720708504167118 power\n",
            ", 2593208677638477497 ,\n",
            "while 1039541750886098100 while\n",
            "others 1176656782636220709 other\n",
            "have 14692702688101715474 have\n",
            "sharp 13576413927922403324 sharp\n",
            "forelimbs 566641445478048701 forelimb\n",
            "used 6873750497785110593 use\n",
            "to 3791531372978436496 to\n",
            "seize 18315927512881224608 seize\n",
            "the 7425985699627899538 the\n",
            "prey 4113129802016781543 prey\n",
            "( 12638816674900267446 (\n",
            "hence 54921097738583766 hence\n",
            "the 7425985699627899538 the\n",
            "term 4519742297340331040 term\n",
            "\" 15884554869126768810 \"\n",
            "mantis 14582085738087320934 mantis\n",
            "\" 15884554869126768810 \"\n",
            "in 3002984154512732771 in\n",
            "its 12513610393978129441 its\n",
            "common 12010910475078340588 common\n",
            "name 18309932012808971453 name\n",
            ") 3842344029291005339 )\n",
            ". 12646065887601541794 .\n"
          ]
        }
      ]
    },
    {
      "cell_type": "code",
      "source": [
        "# Stop Words\n",
        "stopwords = dictionary.Defaults.stop_words\n",
        "\n",
        "print(len(stopwords))\n",
        "print(stopwords)\n",
        "\n",
        "# remove or cleanse my text - stop words\n",
        "mytokens = []\n",
        "mywords = []\n",
        "for token in doc:\n",
        "  if(token.is_stop == False):\n",
        "    mytokens.append(token)\n",
        "    mywords.append(token.text)\n",
        "doc = dictionary((\" \".join(mywords))[:100])\n",
        "\n",
        "doc"
      ],
      "metadata": {
        "colab": {
          "base_uri": "https://localhost:8080/"
        },
        "id": "OzDf-eFzk7Y1",
        "outputId": "e4e2e2f9-37ed-414c-f045-ed9ff386df8b"
      },
      "execution_count": 11,
      "outputs": [
        {
          "output_type": "stream",
          "name": "stdout",
          "text": [
            "326\n",
            "{'last', 'however', 'at', 'call', 'therein', 'thru', 'unless', 'can', 'several', 'here', 'seeming', 'before', 'during', 'behind', 'make', 'yourself', 'becoming', '‘s', 'two', 'moreover', 'ours', 'former', 'in', 'because', 'her', 'beforehand', 'being', '‘ll', 'anything', 'sixty', 'any', 'mostly', 'same', 'every', 'what', 'the', 'otherwise', 'empty', 'else', 'their', 'just', 'not', 'ever', 'further', 'hereupon', 'across', 'whoever', 'besides', 'above', 'latter', 'either', 'throughout', 'really', 'did', 'through', 'more', 'three', 'everything', 'hers', 'mine', 'within', 'they', 'keep', 'there', 'and', 'i', 'could', 'this', 'beside', 'regarding', \"'re\", 'yet', 'eight', 'after', 'it', 'to', '’s', 'became', 'four', 'take', 'whereas', 'whether', 'she', 'thus', 'nowhere', 'bottom', 'somehow', 'done', 'anyone', 'latterly', 'show', 'also', 'should', 'noone', 'quite', 'perhaps', 'together', 'anyhow', 'onto', 'first', 'hereby', 'so', 'under', 'full', 'whither', 'anywhere', 'thereupon', 'me', 'who', 'does', 'an', 'still', 'yours', 'where', '‘m', 'which', 'beyond', 'say', 'thereby', 'already', 'out', 'whole', 'with', 'why', 'into', 'though', 'those', 'often', 'made', 'rather', 'ca', '’ll', 'n’t', 'will', 'own', 'only', 'these', 'seems', 'neither', 'along', 'for', 'hence', 'nothing', 'as', 'although', 'off', 'no', 'over', 'nine', 'whereafter', 'may', 'indeed', 'must', 'almost', 'you', 'various', 'eleven', 'part', 'he', 'too', 'be', 'both', 'many', 'five', 'was', 'themselves', 'myself', 'by', 'please', 'some', 'from', 'were', 'against', 'fifteen', 'them', \"'ve\", 'of', 'its', 'fifty', 'ten', 'elsewhere', 'seem', 'that', 'becomes', 'us', 'wherein', 'someone', '’d', 'nobody', 'ourselves', 'top', 'his', 'how', 'nevertheless', 'next', 'n‘t', 'put', 'via', 'hundred', 'whatever', 'herself', 'everywhere', 'herein', 'afterwards', '’m', 'about', 'thence', 'between', 'formerly', 'back', 'since', 'whereby', 'upon', 'even', 'towards', 'whose', 'down', 'well', \"'s\", 'sometimes', 'yourselves', 'least', 'sometime', 'six', 'again', 'but', 'have', 'would', 'most', 'amount', 'something', 'such', '’ve', '‘ve', 'am', 'somewhere', 'is', 'whom', 'up', 'meanwhile', 'on', 'itself', \"'ll\", \"n't\", 'my', 'while', 'among', 'your', '’re', 'never', 'become', 'few', 'do', 'everyone', 'per', 'none', 'doing', 'himself', 'therefore', 'one', '‘d', 'much', 'are', 'twelve', 'cannot', 'namely', 'toward', 'nor', 'around', 'we', 'whence', \"'m\", 'amongst', 'another', 'give', 'has', 'see', 'using', 'or', 'below', 'due', 'always', 'might', 'move', 'all', 'now', 'front', 'hereafter', 'thereafter', 'wherever', 'him', 'our', 'had', 'go', 'if', 'used', 'whereupon', 'get', 'without', 'serious', 'until', 'less', 'than', 'when', 'third', 'alone', 'except', 'name', 'others', 'seemed', 'a', 'whenever', 'other', 'forty', 'been', 'side', \"'d\", 'each', 'anyway', '‘re', 'very', 'once', 'twenty', 're', 'enough', 'then'}\n"
          ]
        },
        {
          "output_type": "execute_result",
          "data": {
            "text/plain": [
              "Mantis shrimp , stomatopods , carnivorous marine crustaceans order Stomatopoda , branching members c"
            ]
          },
          "metadata": {},
          "execution_count": 11
        }
      ]
    },
    {
      "cell_type": "code",
      "source": [
        "# Dependency Parsing\n",
        "from spacy import displacy\n",
        "\n",
        "displacy.render(doc,jupyter=True)\n"
      ],
      "metadata": {
        "colab": {
          "base_uri": "https://localhost:8080/",
          "height": 703
        },
        "id": "JKsKQvxWmgxL",
        "outputId": "f2b78363-0fc5-46a2-a452-4fffc914080e"
      },
      "execution_count": 12,
      "outputs": [
        {
          "output_type": "display_data",
          "data": {
            "text/plain": [
              "<IPython.core.display.HTML object>"
            ],
            "text/html": [
              "<span class=\"tex2jax_ignore\"><svg xmlns=\"http://www.w3.org/2000/svg\" xmlns:xlink=\"http://www.w3.org/1999/xlink\" xml:lang=\"en\" id=\"05c63b4e4fb34d0bb70e2788dd322a67-0\" class=\"displacy\" width=\"1975\" height=\"662.0\" direction=\"ltr\" style=\"max-width: none; height: 662.0px; color: #000000; background: #ffffff; font-family: Arial; direction: ltr\">\n",
              "<text class=\"displacy-token\" fill=\"currentColor\" text-anchor=\"middle\" y=\"572.0\">\n",
              "    <tspan class=\"displacy-word\" fill=\"currentColor\" x=\"50\">Mantis</tspan>\n",
              "    <tspan class=\"displacy-tag\" dy=\"2em\" fill=\"currentColor\" x=\"50\">PROPN</tspan>\n",
              "</text>\n",
              "\n",
              "<text class=\"displacy-token\" fill=\"currentColor\" text-anchor=\"middle\" y=\"572.0\">\n",
              "    <tspan class=\"displacy-word\" fill=\"currentColor\" x=\"225\">shrimp ,</tspan>\n",
              "    <tspan class=\"displacy-tag\" dy=\"2em\" fill=\"currentColor\" x=\"225\">NOUN</tspan>\n",
              "</text>\n",
              "\n",
              "<text class=\"displacy-token\" fill=\"currentColor\" text-anchor=\"middle\" y=\"572.0\">\n",
              "    <tspan class=\"displacy-word\" fill=\"currentColor\" x=\"400\">stomatopods ,</tspan>\n",
              "    <tspan class=\"displacy-tag\" dy=\"2em\" fill=\"currentColor\" x=\"400\">NOUN</tspan>\n",
              "</text>\n",
              "\n",
              "<text class=\"displacy-token\" fill=\"currentColor\" text-anchor=\"middle\" y=\"572.0\">\n",
              "    <tspan class=\"displacy-word\" fill=\"currentColor\" x=\"575\">carnivorous</tspan>\n",
              "    <tspan class=\"displacy-tag\" dy=\"2em\" fill=\"currentColor\" x=\"575\">ADJ</tspan>\n",
              "</text>\n",
              "\n",
              "<text class=\"displacy-token\" fill=\"currentColor\" text-anchor=\"middle\" y=\"572.0\">\n",
              "    <tspan class=\"displacy-word\" fill=\"currentColor\" x=\"750\">marine</tspan>\n",
              "    <tspan class=\"displacy-tag\" dy=\"2em\" fill=\"currentColor\" x=\"750\">ADJ</tspan>\n",
              "</text>\n",
              "\n",
              "<text class=\"displacy-token\" fill=\"currentColor\" text-anchor=\"middle\" y=\"572.0\">\n",
              "    <tspan class=\"displacy-word\" fill=\"currentColor\" x=\"925\">crustaceans</tspan>\n",
              "    <tspan class=\"displacy-tag\" dy=\"2em\" fill=\"currentColor\" x=\"925\">NOUN</tspan>\n",
              "</text>\n",
              "\n",
              "<text class=\"displacy-token\" fill=\"currentColor\" text-anchor=\"middle\" y=\"572.0\">\n",
              "    <tspan class=\"displacy-word\" fill=\"currentColor\" x=\"1100\">order</tspan>\n",
              "    <tspan class=\"displacy-tag\" dy=\"2em\" fill=\"currentColor\" x=\"1100\">NOUN</tspan>\n",
              "</text>\n",
              "\n",
              "<text class=\"displacy-token\" fill=\"currentColor\" text-anchor=\"middle\" y=\"572.0\">\n",
              "    <tspan class=\"displacy-word\" fill=\"currentColor\" x=\"1275\">Stomatopoda ,</tspan>\n",
              "    <tspan class=\"displacy-tag\" dy=\"2em\" fill=\"currentColor\" x=\"1275\">PROPN</tspan>\n",
              "</text>\n",
              "\n",
              "<text class=\"displacy-token\" fill=\"currentColor\" text-anchor=\"middle\" y=\"572.0\">\n",
              "    <tspan class=\"displacy-word\" fill=\"currentColor\" x=\"1450\">branching</tspan>\n",
              "    <tspan class=\"displacy-tag\" dy=\"2em\" fill=\"currentColor\" x=\"1450\">VERB</tspan>\n",
              "</text>\n",
              "\n",
              "<text class=\"displacy-token\" fill=\"currentColor\" text-anchor=\"middle\" y=\"572.0\">\n",
              "    <tspan class=\"displacy-word\" fill=\"currentColor\" x=\"1625\">members</tspan>\n",
              "    <tspan class=\"displacy-tag\" dy=\"2em\" fill=\"currentColor\" x=\"1625\">NOUN</tspan>\n",
              "</text>\n",
              "\n",
              "<text class=\"displacy-token\" fill=\"currentColor\" text-anchor=\"middle\" y=\"572.0\">\n",
              "    <tspan class=\"displacy-word\" fill=\"currentColor\" x=\"1800\">c</tspan>\n",
              "    <tspan class=\"displacy-tag\" dy=\"2em\" fill=\"currentColor\" x=\"1800\">NOUN</tspan>\n",
              "</text>\n",
              "\n",
              "<g class=\"displacy-arrow\">\n",
              "    <path class=\"displacy-arc\" id=\"arrow-05c63b4e4fb34d0bb70e2788dd322a67-0-0\" stroke-width=\"2px\" d=\"M70,527.0 C70,439.5 200.0,439.5 200.0,527.0\" fill=\"none\" stroke=\"currentColor\"/>\n",
              "    <text dy=\"1.25em\" style=\"font-size: 0.8em; letter-spacing: 1px\">\n",
              "        <textPath xlink:href=\"#arrow-05c63b4e4fb34d0bb70e2788dd322a67-0-0\" class=\"displacy-label\" startOffset=\"50%\" side=\"left\" fill=\"currentColor\" text-anchor=\"middle\">compound</textPath>\n",
              "    </text>\n",
              "    <path class=\"displacy-arrowhead\" d=\"M70,529.0 L62,517.0 78,517.0\" fill=\"currentColor\"/>\n",
              "</g>\n",
              "\n",
              "<g class=\"displacy-arrow\">\n",
              "    <path class=\"displacy-arc\" id=\"arrow-05c63b4e4fb34d0bb70e2788dd322a67-0-1\" stroke-width=\"2px\" d=\"M245,527.0 C245,2.0 1800.0,2.0 1800.0,527.0\" fill=\"none\" stroke=\"currentColor\"/>\n",
              "    <text dy=\"1.25em\" style=\"font-size: 0.8em; letter-spacing: 1px\">\n",
              "        <textPath xlink:href=\"#arrow-05c63b4e4fb34d0bb70e2788dd322a67-0-1\" class=\"displacy-label\" startOffset=\"50%\" side=\"left\" fill=\"currentColor\" text-anchor=\"middle\">nsubj</textPath>\n",
              "    </text>\n",
              "    <path class=\"displacy-arrowhead\" d=\"M245,529.0 L237,517.0 253,517.0\" fill=\"currentColor\"/>\n",
              "</g>\n",
              "\n",
              "<g class=\"displacy-arrow\">\n",
              "    <path class=\"displacy-arc\" id=\"arrow-05c63b4e4fb34d0bb70e2788dd322a67-0-2\" stroke-width=\"2px\" d=\"M245,527.0 C245,439.5 375.0,439.5 375.0,527.0\" fill=\"none\" stroke=\"currentColor\"/>\n",
              "    <text dy=\"1.25em\" style=\"font-size: 0.8em; letter-spacing: 1px\">\n",
              "        <textPath xlink:href=\"#arrow-05c63b4e4fb34d0bb70e2788dd322a67-0-2\" class=\"displacy-label\" startOffset=\"50%\" side=\"left\" fill=\"currentColor\" text-anchor=\"middle\">conj</textPath>\n",
              "    </text>\n",
              "    <path class=\"displacy-arrowhead\" d=\"M375.0,529.0 L383.0,517.0 367.0,517.0\" fill=\"currentColor\"/>\n",
              "</g>\n",
              "\n",
              "<g class=\"displacy-arrow\">\n",
              "    <path class=\"displacy-arc\" id=\"arrow-05c63b4e4fb34d0bb70e2788dd322a67-0-3\" stroke-width=\"2px\" d=\"M595,527.0 C595,352.0 905.0,352.0 905.0,527.0\" fill=\"none\" stroke=\"currentColor\"/>\n",
              "    <text dy=\"1.25em\" style=\"font-size: 0.8em; letter-spacing: 1px\">\n",
              "        <textPath xlink:href=\"#arrow-05c63b4e4fb34d0bb70e2788dd322a67-0-3\" class=\"displacy-label\" startOffset=\"50%\" side=\"left\" fill=\"currentColor\" text-anchor=\"middle\">amod</textPath>\n",
              "    </text>\n",
              "    <path class=\"displacy-arrowhead\" d=\"M595,529.0 L587,517.0 603,517.0\" fill=\"currentColor\"/>\n",
              "</g>\n",
              "\n",
              "<g class=\"displacy-arrow\">\n",
              "    <path class=\"displacy-arc\" id=\"arrow-05c63b4e4fb34d0bb70e2788dd322a67-0-4\" stroke-width=\"2px\" d=\"M770,527.0 C770,439.5 900.0,439.5 900.0,527.0\" fill=\"none\" stroke=\"currentColor\"/>\n",
              "    <text dy=\"1.25em\" style=\"font-size: 0.8em; letter-spacing: 1px\">\n",
              "        <textPath xlink:href=\"#arrow-05c63b4e4fb34d0bb70e2788dd322a67-0-4\" class=\"displacy-label\" startOffset=\"50%\" side=\"left\" fill=\"currentColor\" text-anchor=\"middle\">amod</textPath>\n",
              "    </text>\n",
              "    <path class=\"displacy-arrowhead\" d=\"M770,529.0 L762,517.0 778,517.0\" fill=\"currentColor\"/>\n",
              "</g>\n",
              "\n",
              "<g class=\"displacy-arrow\">\n",
              "    <path class=\"displacy-arc\" id=\"arrow-05c63b4e4fb34d0bb70e2788dd322a67-0-5\" stroke-width=\"2px\" d=\"M945,527.0 C945,439.5 1075.0,439.5 1075.0,527.0\" fill=\"none\" stroke=\"currentColor\"/>\n",
              "    <text dy=\"1.25em\" style=\"font-size: 0.8em; letter-spacing: 1px\">\n",
              "        <textPath xlink:href=\"#arrow-05c63b4e4fb34d0bb70e2788dd322a67-0-5\" class=\"displacy-label\" startOffset=\"50%\" side=\"left\" fill=\"currentColor\" text-anchor=\"middle\">compound</textPath>\n",
              "    </text>\n",
              "    <path class=\"displacy-arrowhead\" d=\"M945,529.0 L937,517.0 953,517.0\" fill=\"currentColor\"/>\n",
              "</g>\n",
              "\n",
              "<g class=\"displacy-arrow\">\n",
              "    <path class=\"displacy-arc\" id=\"arrow-05c63b4e4fb34d0bb70e2788dd322a67-0-6\" stroke-width=\"2px\" d=\"M245,527.0 C245,264.5 1085.0,264.5 1085.0,527.0\" fill=\"none\" stroke=\"currentColor\"/>\n",
              "    <text dy=\"1.25em\" style=\"font-size: 0.8em; letter-spacing: 1px\">\n",
              "        <textPath xlink:href=\"#arrow-05c63b4e4fb34d0bb70e2788dd322a67-0-6\" class=\"displacy-label\" startOffset=\"50%\" side=\"left\" fill=\"currentColor\" text-anchor=\"middle\">appos</textPath>\n",
              "    </text>\n",
              "    <path class=\"displacy-arrowhead\" d=\"M1085.0,529.0 L1093.0,517.0 1077.0,517.0\" fill=\"currentColor\"/>\n",
              "</g>\n",
              "\n",
              "<g class=\"displacy-arrow\">\n",
              "    <path class=\"displacy-arc\" id=\"arrow-05c63b4e4fb34d0bb70e2788dd322a67-0-7\" stroke-width=\"2px\" d=\"M245,527.0 C245,177.0 1265.0,177.0 1265.0,527.0\" fill=\"none\" stroke=\"currentColor\"/>\n",
              "    <text dy=\"1.25em\" style=\"font-size: 0.8em; letter-spacing: 1px\">\n",
              "        <textPath xlink:href=\"#arrow-05c63b4e4fb34d0bb70e2788dd322a67-0-7\" class=\"displacy-label\" startOffset=\"50%\" side=\"left\" fill=\"currentColor\" text-anchor=\"middle\">appos</textPath>\n",
              "    </text>\n",
              "    <path class=\"displacy-arrowhead\" d=\"M1265.0,529.0 L1273.0,517.0 1257.0,517.0\" fill=\"currentColor\"/>\n",
              "</g>\n",
              "\n",
              "<g class=\"displacy-arrow\">\n",
              "    <path class=\"displacy-arc\" id=\"arrow-05c63b4e4fb34d0bb70e2788dd322a67-0-8\" stroke-width=\"2px\" d=\"M245,527.0 C245,89.5 1445.0,89.5 1445.0,527.0\" fill=\"none\" stroke=\"currentColor\"/>\n",
              "    <text dy=\"1.25em\" style=\"font-size: 0.8em; letter-spacing: 1px\">\n",
              "        <textPath xlink:href=\"#arrow-05c63b4e4fb34d0bb70e2788dd322a67-0-8\" class=\"displacy-label\" startOffset=\"50%\" side=\"left\" fill=\"currentColor\" text-anchor=\"middle\">advcl</textPath>\n",
              "    </text>\n",
              "    <path class=\"displacy-arrowhead\" d=\"M1445.0,529.0 L1453.0,517.0 1437.0,517.0\" fill=\"currentColor\"/>\n",
              "</g>\n",
              "\n",
              "<g class=\"displacy-arrow\">\n",
              "    <path class=\"displacy-arc\" id=\"arrow-05c63b4e4fb34d0bb70e2788dd322a67-0-9\" stroke-width=\"2px\" d=\"M1470,527.0 C1470,439.5 1600.0,439.5 1600.0,527.0\" fill=\"none\" stroke=\"currentColor\"/>\n",
              "    <text dy=\"1.25em\" style=\"font-size: 0.8em; letter-spacing: 1px\">\n",
              "        <textPath xlink:href=\"#arrow-05c63b4e4fb34d0bb70e2788dd322a67-0-9\" class=\"displacy-label\" startOffset=\"50%\" side=\"left\" fill=\"currentColor\" text-anchor=\"middle\">dobj</textPath>\n",
              "    </text>\n",
              "    <path class=\"displacy-arrowhead\" d=\"M1600.0,529.0 L1608.0,517.0 1592.0,517.0\" fill=\"currentColor\"/>\n",
              "</g>\n",
              "</svg></span>"
            ]
          },
          "metadata": {}
        }
      ]
    },
    {
      "cell_type": "code",
      "source": [
        "# Noun Phrases\n",
        "\n",
        "chunkOfNouns = textacy.extract.noun_chunks(doc, min_freq=3) # no. of times noun chunks occur in dataset\n",
        "allnounchunks = []\n",
        "chunkOfNouns = map(str, chunkOfNouns)  # TYPE CASTING! str(chunkOfNoun[:])\n",
        "chunkOfNouns = map(str.lower, chunkOfNouns)\n",
        "for chunk in chunkOfNouns:\n",
        "  if len(chunk.split(' ')) > 1: # how long should a noun chunk be\n",
        "    #print(chunk)\n",
        "    allnounchunks.append(chunk)\n",
        "uniquenounchunks = set(allnounchunks)\n",
        "uniquenounchunks\n",
        "# Since I truncated data to just 100 words hence it doesn't have any noun chunks"
      ],
      "metadata": {
        "colab": {
          "base_uri": "https://localhost:8080/"
        },
        "id": "yzdCZs0zn1Dx",
        "outputId": "b56a719a-10ae-4c4c-eac2-f35de745e573"
      },
      "execution_count": 13,
      "outputs": [
        {
          "output_type": "execute_result",
          "data": {
            "text/plain": [
              "set()"
            ]
          },
          "metadata": {},
          "execution_count": 13
        }
      ]
    },
    {
      "cell_type": "code",
      "source": [
        "# Named Entity Recognition\n",
        "\n",
        "def show_ents(doc):\n",
        "  if doc.ents: \n",
        "    for ent in doc.ents: \n",
        "      print(ent.text+' - ' +str(ent.start_char) +' - '+ str(ent.end_char) +' - '+ent.label_+ ' - '+str(spacy.explain(ent.label_))) \n",
        "  else: \n",
        "    print('No named entities found.')\n",
        "    \n",
        "show_ents(doc)"
      ],
      "metadata": {
        "colab": {
          "base_uri": "https://localhost:8080/"
        },
        "id": "jV_yPWswoULJ",
        "outputId": "dcc7c823-e8bc-4f34-9260-3618d9463396"
      },
      "execution_count": 14,
      "outputs": [
        {
          "output_type": "stream",
          "name": "stdout",
          "text": [
            "Stomatopoda - 67 - 78 - NORP - Nationalities or religious or political groups\n"
          ]
        }
      ]
    },
    {
      "cell_type": "markdown",
      "source": [
        "**Conference Resolution requires latest version of spacy and NeuralCoref. Hence installing following dependencies : **"
      ],
      "metadata": {
        "id": "9ZLFSH2QLHzT"
      }
    },
    {
      "cell_type": "code",
      "source": [
        "%mkdir new_temp"
      ],
      "metadata": {
        "id": "6zEJ7-NA71RF"
      },
      "execution_count": 1,
      "outputs": []
    },
    {
      "cell_type": "code",
      "source": [
        "ls"
      ],
      "metadata": {
        "colab": {
          "base_uri": "https://localhost:8080/"
        },
        "id": "1exR_U4W78tb",
        "outputId": "b22e8e1b-7364-4123-8d8f-ce368e6a3f58"
      },
      "execution_count": 2,
      "outputs": [
        {
          "output_type": "stream",
          "name": "stdout",
          "text": [
            "\u001b[0m\u001b[01;34mnew_temp\u001b[0m/  \u001b[01;34msample_data\u001b[0m/  \u001b[01;34mtemp\u001b[0m/  \u001b[01;34mtemp_new\u001b[0m/  text.txt\n"
          ]
        }
      ]
    },
    {
      "cell_type": "code",
      "source": [
        "%cd new_temp"
      ],
      "metadata": {
        "colab": {
          "base_uri": "https://localhost:8080/"
        },
        "id": "PwIKpXPg8CBd",
        "outputId": "20a61614-78a5-4973-dff9-f52a38ace13d"
      },
      "execution_count": 6,
      "outputs": [
        {
          "output_type": "stream",
          "name": "stdout",
          "text": [
            "/content/new_temp\n"
          ]
        }
      ]
    },
    {
      "cell_type": "code",
      "source": [
        "!git clone https://github.com/huggingface/neuralcoref.git"
      ],
      "metadata": {
        "colab": {
          "base_uri": "https://localhost:8080/"
        },
        "id": "YsBeiUJs8GXW",
        "outputId": "53b8a1a4-bef8-4287-e7ff-5a60de63eb6e"
      },
      "execution_count": 7,
      "outputs": [
        {
          "output_type": "stream",
          "name": "stdout",
          "text": [
            "Cloning into 'neuralcoref'...\n",
            "remote: Enumerating objects: 772, done.\u001b[K\n",
            "remote: Counting objects: 100% (24/24), done.\u001b[K\n",
            "remote: Compressing objects: 100% (22/22), done.\u001b[K\n",
            "remote: Total 772 (delta 10), reused 5 (delta 1), pack-reused 748\u001b[K\n",
            "Receiving objects: 100% (772/772), 67.85 MiB | 25.13 MiB/s, done.\n",
            "Resolving deltas: 100% (407/407), done.\n"
          ]
        }
      ]
    },
    {
      "cell_type": "code",
      "source": [
        "!pip install -U spacy\n"
      ],
      "metadata": {
        "colab": {
          "base_uri": "https://localhost:8080/"
        },
        "id": "TguCU3i68KAY",
        "outputId": "089c5caf-ebb2-495f-c332-70a394f9987c"
      },
      "execution_count": 8,
      "outputs": [
        {
          "output_type": "stream",
          "name": "stdout",
          "text": [
            "Requirement already satisfied: spacy in /usr/local/lib/python3.7/dist-packages (2.3.7)\n",
            "Collecting spacy\n",
            "  Using cached spacy-3.2.4-cp37-cp37m-manylinux_2_17_x86_64.manylinux2014_x86_64.whl (6.0 MB)\n",
            "Requirement already satisfied: setuptools in /usr/local/lib/python3.7/dist-packages (from spacy) (57.4.0)\n",
            "Requirement already satisfied: langcodes<4.0.0,>=3.2.0 in /usr/local/lib/python3.7/dist-packages (from spacy) (3.3.0)\n",
            "Requirement already satisfied: numpy>=1.15.0 in /usr/local/lib/python3.7/dist-packages (from spacy) (1.21.5)\n",
            "Requirement already satisfied: click<8.1.0 in /usr/local/lib/python3.7/dist-packages (from spacy) (7.1.2)\n",
            "Collecting srsly<3.0.0,>=2.4.1\n",
            "  Using cached srsly-2.4.3-cp37-cp37m-manylinux_2_17_x86_64.manylinux2014_x86_64.whl (457 kB)\n",
            "Requirement already satisfied: blis<0.8.0,>=0.4.0 in /usr/local/lib/python3.7/dist-packages (from spacy) (0.4.1)\n",
            "Collecting thinc<8.1.0,>=8.0.12\n",
            "  Using cached thinc-8.0.15-cp37-cp37m-manylinux_2_17_x86_64.manylinux2014_x86_64.whl (653 kB)\n",
            "Requirement already satisfied: typing-extensions<4.0.0.0,>=3.7.4 in /usr/local/lib/python3.7/dist-packages (from spacy) (3.10.0.2)\n",
            "Requirement already satisfied: spacy-loggers<2.0.0,>=1.0.0 in /usr/local/lib/python3.7/dist-packages (from spacy) (1.0.2)\n",
            "Requirement already satisfied: typer<0.5.0,>=0.3.0 in /usr/local/lib/python3.7/dist-packages (from spacy) (0.4.1)\n",
            "Requirement already satisfied: spacy-legacy<3.1.0,>=3.0.8 in /usr/local/lib/python3.7/dist-packages (from spacy) (3.0.9)\n",
            "Collecting catalogue<2.1.0,>=2.0.6\n",
            "  Using cached catalogue-2.0.7-py3-none-any.whl (17 kB)\n",
            "Requirement already satisfied: packaging>=20.0 in /usr/local/lib/python3.7/dist-packages (from spacy) (21.3)\n",
            "Requirement already satisfied: wasabi<1.1.0,>=0.8.1 in /usr/local/lib/python3.7/dist-packages (from spacy) (0.9.1)\n",
            "Requirement already satisfied: tqdm<5.0.0,>=4.38.0 in /usr/local/lib/python3.7/dist-packages (from spacy) (4.64.0)\n",
            "Requirement already satisfied: murmurhash<1.1.0,>=0.28.0 in /usr/local/lib/python3.7/dist-packages (from spacy) (1.0.6)\n",
            "Requirement already satisfied: requests<3.0.0,>=2.13.0 in /usr/local/lib/python3.7/dist-packages (from spacy) (2.23.0)\n",
            "Requirement already satisfied: jinja2 in /usr/local/lib/python3.7/dist-packages (from spacy) (2.11.3)\n",
            "Requirement already satisfied: pydantic!=1.8,!=1.8.1,<1.9.0,>=1.7.4 in /usr/local/lib/python3.7/dist-packages (from spacy) (1.8.2)\n",
            "Requirement already satisfied: preshed<3.1.0,>=3.0.2 in /usr/local/lib/python3.7/dist-packages (from spacy) (3.0.6)\n",
            "Requirement already satisfied: cymem<2.1.0,>=2.0.2 in /usr/local/lib/python3.7/dist-packages (from spacy) (2.0.6)\n",
            "Requirement already satisfied: pathy>=0.3.5 in /usr/local/lib/python3.7/dist-packages (from spacy) (0.6.1)\n",
            "Requirement already satisfied: zipp>=0.5 in /usr/local/lib/python3.7/dist-packages (from catalogue<2.1.0,>=2.0.6->spacy) (3.8.0)\n",
            "Requirement already satisfied: pyparsing!=3.0.5,>=2.0.2 in /usr/local/lib/python3.7/dist-packages (from packaging>=20.0->spacy) (3.0.8)\n",
            "Requirement already satisfied: smart-open<6.0.0,>=5.0.0 in /usr/local/lib/python3.7/dist-packages (from pathy>=0.3.5->spacy) (5.2.1)\n",
            "Requirement already satisfied: certifi>=2017.4.17 in /usr/local/lib/python3.7/dist-packages (from requests<3.0.0,>=2.13.0->spacy) (2021.10.8)\n",
            "Requirement already satisfied: urllib3!=1.25.0,!=1.25.1,<1.26,>=1.21.1 in /usr/local/lib/python3.7/dist-packages (from requests<3.0.0,>=2.13.0->spacy) (1.24.3)\n",
            "Requirement already satisfied: chardet<4,>=3.0.2 in /usr/local/lib/python3.7/dist-packages (from requests<3.0.0,>=2.13.0->spacy) (3.0.4)\n",
            "Requirement already satisfied: idna<3,>=2.5 in /usr/local/lib/python3.7/dist-packages (from requests<3.0.0,>=2.13.0->spacy) (2.10)\n",
            "Requirement already satisfied: MarkupSafe>=0.23 in /usr/local/lib/python3.7/dist-packages (from jinja2->spacy) (2.0.1)\n",
            "Installing collected packages: catalogue, srsly, thinc, spacy\n",
            "  Attempting uninstall: catalogue\n",
            "    Found existing installation: catalogue 1.0.0\n",
            "    Uninstalling catalogue-1.0.0:\n",
            "      Successfully uninstalled catalogue-1.0.0\n",
            "  Attempting uninstall: srsly\n",
            "    Found existing installation: srsly 1.0.5\n",
            "    Uninstalling srsly-1.0.5:\n",
            "      Successfully uninstalled srsly-1.0.5\n",
            "  Attempting uninstall: thinc\n",
            "    Found existing installation: thinc 7.4.5\n",
            "    Uninstalling thinc-7.4.5:\n",
            "      Successfully uninstalled thinc-7.4.5\n",
            "  Attempting uninstall: spacy\n",
            "    Found existing installation: spacy 2.3.7\n",
            "    Uninstalling spacy-2.3.7:\n",
            "      Successfully uninstalled spacy-2.3.7\n",
            "\u001b[31mERROR: pip's dependency resolver does not currently take into account all the packages that are installed. This behaviour is the source of the following dependency conflicts.\n",
            "en-core-web-sm 2.3.1 requires spacy<2.4.0,>=2.3.0, but you have spacy 3.2.4 which is incompatible.\u001b[0m\n",
            "Successfully installed catalogue-2.0.7 spacy-3.2.4 srsly-2.4.3 thinc-8.0.15\n"
          ]
        }
      ]
    },
    {
      "cell_type": "code",
      "source": [
        "!python -m spacy download en\n"
      ],
      "metadata": {
        "colab": {
          "base_uri": "https://localhost:8080/"
        },
        "id": "vNZPhw3f8NFj",
        "outputId": "97ba8a34-24d7-4b00-b6ed-5ee38188997d"
      },
      "execution_count": 9,
      "outputs": [
        {
          "output_type": "stream",
          "name": "stdout",
          "text": [
            "\u001b[38;5;3m⚠ As of spaCy v3.0, shortcuts like 'en' are deprecated. Please use the\n",
            "full pipeline package name 'en_core_web_sm' instead.\u001b[0m\n",
            "Collecting en-core-web-sm==3.2.0\n",
            "  Downloading https://github.com/explosion/spacy-models/releases/download/en_core_web_sm-3.2.0/en_core_web_sm-3.2.0-py3-none-any.whl (13.9 MB)\n",
            "\u001b[K     |████████████████████████████████| 13.9 MB 8.1 MB/s \n",
            "\u001b[?25hRequirement already satisfied: spacy<3.3.0,>=3.2.0 in /usr/local/lib/python3.7/dist-packages (from en-core-web-sm==3.2.0) (3.2.4)\n",
            "Requirement already satisfied: preshed<3.1.0,>=3.0.2 in /usr/local/lib/python3.7/dist-packages (from spacy<3.3.0,>=3.2.0->en-core-web-sm==3.2.0) (3.0.6)\n",
            "Requirement already satisfied: pydantic!=1.8,!=1.8.1,<1.9.0,>=1.7.4 in /usr/local/lib/python3.7/dist-packages (from spacy<3.3.0,>=3.2.0->en-core-web-sm==3.2.0) (1.8.2)\n",
            "Requirement already satisfied: tqdm<5.0.0,>=4.38.0 in /usr/local/lib/python3.7/dist-packages (from spacy<3.3.0,>=3.2.0->en-core-web-sm==3.2.0) (4.64.0)\n",
            "Requirement already satisfied: click<8.1.0 in /usr/local/lib/python3.7/dist-packages (from spacy<3.3.0,>=3.2.0->en-core-web-sm==3.2.0) (7.1.2)\n",
            "Requirement already satisfied: packaging>=20.0 in /usr/local/lib/python3.7/dist-packages (from spacy<3.3.0,>=3.2.0->en-core-web-sm==3.2.0) (21.3)\n",
            "Requirement already satisfied: blis<0.8.0,>=0.4.0 in /usr/local/lib/python3.7/dist-packages (from spacy<3.3.0,>=3.2.0->en-core-web-sm==3.2.0) (0.4.1)\n",
            "Requirement already satisfied: wasabi<1.1.0,>=0.8.1 in /usr/local/lib/python3.7/dist-packages (from spacy<3.3.0,>=3.2.0->en-core-web-sm==3.2.0) (0.9.1)\n",
            "Requirement already satisfied: setuptools in /usr/local/lib/python3.7/dist-packages (from spacy<3.3.0,>=3.2.0->en-core-web-sm==3.2.0) (57.4.0)\n",
            "Requirement already satisfied: pathy>=0.3.5 in /usr/local/lib/python3.7/dist-packages (from spacy<3.3.0,>=3.2.0->en-core-web-sm==3.2.0) (0.6.1)\n",
            "Requirement already satisfied: numpy>=1.15.0 in /usr/local/lib/python3.7/dist-packages (from spacy<3.3.0,>=3.2.0->en-core-web-sm==3.2.0) (1.21.5)\n",
            "Requirement already satisfied: requests<3.0.0,>=2.13.0 in /usr/local/lib/python3.7/dist-packages (from spacy<3.3.0,>=3.2.0->en-core-web-sm==3.2.0) (2.23.0)\n",
            "Requirement already satisfied: srsly<3.0.0,>=2.4.1 in /usr/local/lib/python3.7/dist-packages (from spacy<3.3.0,>=3.2.0->en-core-web-sm==3.2.0) (2.4.3)\n",
            "Requirement already satisfied: typing-extensions<4.0.0.0,>=3.7.4 in /usr/local/lib/python3.7/dist-packages (from spacy<3.3.0,>=3.2.0->en-core-web-sm==3.2.0) (3.10.0.2)\n",
            "Requirement already satisfied: jinja2 in /usr/local/lib/python3.7/dist-packages (from spacy<3.3.0,>=3.2.0->en-core-web-sm==3.2.0) (2.11.3)\n",
            "Requirement already satisfied: cymem<2.1.0,>=2.0.2 in /usr/local/lib/python3.7/dist-packages (from spacy<3.3.0,>=3.2.0->en-core-web-sm==3.2.0) (2.0.6)\n",
            "Requirement already satisfied: spacy-legacy<3.1.0,>=3.0.8 in /usr/local/lib/python3.7/dist-packages (from spacy<3.3.0,>=3.2.0->en-core-web-sm==3.2.0) (3.0.9)\n",
            "Requirement already satisfied: langcodes<4.0.0,>=3.2.0 in /usr/local/lib/python3.7/dist-packages (from spacy<3.3.0,>=3.2.0->en-core-web-sm==3.2.0) (3.3.0)\n",
            "Requirement already satisfied: typer<0.5.0,>=0.3.0 in /usr/local/lib/python3.7/dist-packages (from spacy<3.3.0,>=3.2.0->en-core-web-sm==3.2.0) (0.4.1)\n",
            "Requirement already satisfied: murmurhash<1.1.0,>=0.28.0 in /usr/local/lib/python3.7/dist-packages (from spacy<3.3.0,>=3.2.0->en-core-web-sm==3.2.0) (1.0.6)\n",
            "Requirement already satisfied: thinc<8.1.0,>=8.0.12 in /usr/local/lib/python3.7/dist-packages (from spacy<3.3.0,>=3.2.0->en-core-web-sm==3.2.0) (8.0.15)\n",
            "Requirement already satisfied: spacy-loggers<2.0.0,>=1.0.0 in /usr/local/lib/python3.7/dist-packages (from spacy<3.3.0,>=3.2.0->en-core-web-sm==3.2.0) (1.0.2)\n",
            "Requirement already satisfied: catalogue<2.1.0,>=2.0.6 in /usr/local/lib/python3.7/dist-packages (from spacy<3.3.0,>=3.2.0->en-core-web-sm==3.2.0) (2.0.7)\n",
            "Requirement already satisfied: zipp>=0.5 in /usr/local/lib/python3.7/dist-packages (from catalogue<2.1.0,>=2.0.6->spacy<3.3.0,>=3.2.0->en-core-web-sm==3.2.0) (3.8.0)\n",
            "Requirement already satisfied: pyparsing!=3.0.5,>=2.0.2 in /usr/local/lib/python3.7/dist-packages (from packaging>=20.0->spacy<3.3.0,>=3.2.0->en-core-web-sm==3.2.0) (3.0.8)\n",
            "Requirement already satisfied: smart-open<6.0.0,>=5.0.0 in /usr/local/lib/python3.7/dist-packages (from pathy>=0.3.5->spacy<3.3.0,>=3.2.0->en-core-web-sm==3.2.0) (5.2.1)\n",
            "Requirement already satisfied: certifi>=2017.4.17 in /usr/local/lib/python3.7/dist-packages (from requests<3.0.0,>=2.13.0->spacy<3.3.0,>=3.2.0->en-core-web-sm==3.2.0) (2021.10.8)\n",
            "Requirement already satisfied: urllib3!=1.25.0,!=1.25.1,<1.26,>=1.21.1 in /usr/local/lib/python3.7/dist-packages (from requests<3.0.0,>=2.13.0->spacy<3.3.0,>=3.2.0->en-core-web-sm==3.2.0) (1.24.3)\n",
            "Requirement already satisfied: idna<3,>=2.5 in /usr/local/lib/python3.7/dist-packages (from requests<3.0.0,>=2.13.0->spacy<3.3.0,>=3.2.0->en-core-web-sm==3.2.0) (2.10)\n",
            "Requirement already satisfied: chardet<4,>=3.0.2 in /usr/local/lib/python3.7/dist-packages (from requests<3.0.0,>=2.13.0->spacy<3.3.0,>=3.2.0->en-core-web-sm==3.2.0) (3.0.4)\n",
            "Requirement already satisfied: MarkupSafe>=0.23 in /usr/local/lib/python3.7/dist-packages (from jinja2->spacy<3.3.0,>=3.2.0->en-core-web-sm==3.2.0) (2.0.1)\n",
            "Installing collected packages: en-core-web-sm\n",
            "  Attempting uninstall: en-core-web-sm\n",
            "    Found existing installation: en-core-web-sm 2.3.1\n",
            "    Uninstalling en-core-web-sm-2.3.1:\n",
            "      Successfully uninstalled en-core-web-sm-2.3.1\n",
            "Successfully installed en-core-web-sm-3.2.0\n",
            "\u001b[38;5;2m✔ Download and installation successful\u001b[0m\n",
            "You can now load the package via spacy.load('en_core_web_sm')\n"
          ]
        }
      ]
    },
    {
      "cell_type": "code",
      "source": [
        "%cd neuralcoref"
      ],
      "metadata": {
        "colab": {
          "base_uri": "https://localhost:8080/"
        },
        "id": "VLKQXy-38Ubn",
        "outputId": "b770bc76-3e3d-4435-e99f-988d6c33015e"
      },
      "execution_count": 10,
      "outputs": [
        {
          "output_type": "stream",
          "name": "stdout",
          "text": [
            "/content/new_temp/neuralcoref\n"
          ]
        }
      ]
    },
    {
      "cell_type": "code",
      "source": [
        "!pip install -r requirements.txt"
      ],
      "metadata": {
        "colab": {
          "base_uri": "https://localhost:8080/"
        },
        "id": "YlOD8eVM8XVm",
        "outputId": "c91fed15-2322-4899-aaa8-579d758c61f6"
      },
      "execution_count": 11,
      "outputs": [
        {
          "output_type": "stream",
          "name": "stdout",
          "text": [
            "Collecting spacy<3.0.0,>=2.1.0\n",
            "  Using cached spacy-2.3.7-cp37-cp37m-manylinux_2_17_x86_64.manylinux2014_x86_64.whl (10.4 MB)\n",
            "Requirement already satisfied: cython>=0.25 in /usr/local/lib/python3.7/dist-packages (from -r requirements.txt (line 2)) (0.29.28)\n",
            "Requirement already satisfied: pytest in /usr/local/lib/python3.7/dist-packages (from -r requirements.txt (line 3)) (3.6.4)\n",
            "Requirement already satisfied: wasabi<1.1.0,>=0.4.0 in /usr/local/lib/python3.7/dist-packages (from spacy<3.0.0,>=2.1.0->-r requirements.txt (line 1)) (0.9.1)\n",
            "Requirement already satisfied: murmurhash<1.1.0,>=0.28.0 in /usr/local/lib/python3.7/dist-packages (from spacy<3.0.0,>=2.1.0->-r requirements.txt (line 1)) (1.0.6)\n",
            "Requirement already satisfied: blis<0.8.0,>=0.4.0 in /usr/local/lib/python3.7/dist-packages (from spacy<3.0.0,>=2.1.0->-r requirements.txt (line 1)) (0.4.1)\n",
            "Requirement already satisfied: preshed<3.1.0,>=3.0.2 in /usr/local/lib/python3.7/dist-packages (from spacy<3.0.0,>=2.1.0->-r requirements.txt (line 1)) (3.0.6)\n",
            "Collecting thinc<7.5.0,>=7.4.1\n",
            "  Using cached thinc-7.4.5-cp37-cp37m-manylinux2014_x86_64.whl (1.0 MB)\n",
            "Requirement already satisfied: tqdm<5.0.0,>=4.38.0 in /usr/local/lib/python3.7/dist-packages (from spacy<3.0.0,>=2.1.0->-r requirements.txt (line 1)) (4.64.0)\n",
            "Requirement already satisfied: setuptools in /usr/local/lib/python3.7/dist-packages (from spacy<3.0.0,>=2.1.0->-r requirements.txt (line 1)) (57.4.0)\n",
            "Requirement already satisfied: numpy>=1.15.0 in /usr/local/lib/python3.7/dist-packages (from spacy<3.0.0,>=2.1.0->-r requirements.txt (line 1)) (1.21.5)\n",
            "Requirement already satisfied: plac<1.2.0,>=0.9.6 in /usr/local/lib/python3.7/dist-packages (from spacy<3.0.0,>=2.1.0->-r requirements.txt (line 1)) (1.1.3)\n",
            "Requirement already satisfied: cymem<2.1.0,>=2.0.2 in /usr/local/lib/python3.7/dist-packages (from spacy<3.0.0,>=2.1.0->-r requirements.txt (line 1)) (2.0.6)\n",
            "Requirement already satisfied: requests<3.0.0,>=2.13.0 in /usr/local/lib/python3.7/dist-packages (from spacy<3.0.0,>=2.1.0->-r requirements.txt (line 1)) (2.23.0)\n",
            "Collecting srsly<1.1.0,>=1.0.2\n",
            "  Using cached srsly-1.0.5-cp37-cp37m-manylinux2014_x86_64.whl (184 kB)\n",
            "Collecting catalogue<1.1.0,>=0.0.7\n",
            "  Using cached catalogue-1.0.0-py2.py3-none-any.whl (7.7 kB)\n",
            "Requirement already satisfied: importlib-metadata>=0.20 in /usr/local/lib/python3.7/dist-packages (from catalogue<1.1.0,>=0.0.7->spacy<3.0.0,>=2.1.0->-r requirements.txt (line 1)) (4.11.3)\n",
            "Requirement already satisfied: zipp>=0.5 in /usr/local/lib/python3.7/dist-packages (from importlib-metadata>=0.20->catalogue<1.1.0,>=0.0.7->spacy<3.0.0,>=2.1.0->-r requirements.txt (line 1)) (3.8.0)\n",
            "Requirement already satisfied: typing-extensions>=3.6.4 in /usr/local/lib/python3.7/dist-packages (from importlib-metadata>=0.20->catalogue<1.1.0,>=0.0.7->spacy<3.0.0,>=2.1.0->-r requirements.txt (line 1)) (3.10.0.2)\n",
            "Requirement already satisfied: chardet<4,>=3.0.2 in /usr/local/lib/python3.7/dist-packages (from requests<3.0.0,>=2.13.0->spacy<3.0.0,>=2.1.0->-r requirements.txt (line 1)) (3.0.4)\n",
            "Requirement already satisfied: idna<3,>=2.5 in /usr/local/lib/python3.7/dist-packages (from requests<3.0.0,>=2.13.0->spacy<3.0.0,>=2.1.0->-r requirements.txt (line 1)) (2.10)\n",
            "Requirement already satisfied: certifi>=2017.4.17 in /usr/local/lib/python3.7/dist-packages (from requests<3.0.0,>=2.13.0->spacy<3.0.0,>=2.1.0->-r requirements.txt (line 1)) (2021.10.8)\n",
            "Requirement already satisfied: urllib3!=1.25.0,!=1.25.1,<1.26,>=1.21.1 in /usr/local/lib/python3.7/dist-packages (from requests<3.0.0,>=2.13.0->spacy<3.0.0,>=2.1.0->-r requirements.txt (line 1)) (1.24.3)\n",
            "Requirement already satisfied: more-itertools>=4.0.0 in /usr/local/lib/python3.7/dist-packages (from pytest->-r requirements.txt (line 3)) (8.12.0)\n",
            "Requirement already satisfied: py>=1.5.0 in /usr/local/lib/python3.7/dist-packages (from pytest->-r requirements.txt (line 3)) (1.11.0)\n",
            "Requirement already satisfied: pluggy<0.8,>=0.5 in /usr/local/lib/python3.7/dist-packages (from pytest->-r requirements.txt (line 3)) (0.7.1)\n",
            "Requirement already satisfied: six>=1.10.0 in /usr/local/lib/python3.7/dist-packages (from pytest->-r requirements.txt (line 3)) (1.15.0)\n",
            "Requirement already satisfied: attrs>=17.4.0 in /usr/local/lib/python3.7/dist-packages (from pytest->-r requirements.txt (line 3)) (21.4.0)\n",
            "Requirement already satisfied: atomicwrites>=1.0 in /usr/local/lib/python3.7/dist-packages (from pytest->-r requirements.txt (line 3)) (1.4.0)\n",
            "Installing collected packages: srsly, catalogue, thinc, spacy\n",
            "  Attempting uninstall: srsly\n",
            "    Found existing installation: srsly 2.4.3\n",
            "    Uninstalling srsly-2.4.3:\n",
            "      Successfully uninstalled srsly-2.4.3\n",
            "  Attempting uninstall: catalogue\n",
            "    Found existing installation: catalogue 2.0.7\n",
            "    Uninstalling catalogue-2.0.7:\n",
            "      Successfully uninstalled catalogue-2.0.7\n",
            "  Attempting uninstall: thinc\n",
            "    Found existing installation: thinc 8.0.15\n",
            "    Uninstalling thinc-8.0.15:\n",
            "      Successfully uninstalled thinc-8.0.15\n",
            "  Attempting uninstall: spacy\n",
            "    Found existing installation: spacy 3.2.4\n",
            "    Uninstalling spacy-3.2.4:\n",
            "      Successfully uninstalled spacy-3.2.4\n",
            "\u001b[31mERROR: pip's dependency resolver does not currently take into account all the packages that are installed. This behaviour is the source of the following dependency conflicts.\n",
            "textacy 0.11.0 requires spacy>=3.0.0, but you have spacy 2.3.7 which is incompatible.\n",
            "en-core-web-sm 3.2.0 requires spacy<3.3.0,>=3.2.0, but you have spacy 2.3.7 which is incompatible.\n",
            "en-core-web-lg 3.2.0 requires spacy<3.3.0,>=3.2.0, but you have spacy 2.3.7 which is incompatible.\u001b[0m\n",
            "Successfully installed catalogue-1.0.0 spacy-2.3.7 srsly-1.0.5 thinc-7.4.5\n"
          ]
        }
      ]
    },
    {
      "cell_type": "code",
      "source": [
        "!pip install -e ."
      ],
      "metadata": {
        "colab": {
          "base_uri": "https://localhost:8080/",
          "height": 939
        },
        "id": "30k5MMq88bb1",
        "outputId": "124b4625-a745-42f7-cd2c-cf245d25ee63"
      },
      "execution_count": 12,
      "outputs": [
        {
          "output_type": "stream",
          "name": "stdout",
          "text": [
            "Obtaining file:///content/new_temp/neuralcoref\n",
            "Requirement already satisfied: numpy>=1.15.0 in /usr/local/lib/python3.7/dist-packages (from neuralcoref==4.0) (1.21.5)\n",
            "Collecting boto3\n",
            "  Downloading boto3-1.21.40-py3-none-any.whl (132 kB)\n",
            "\u001b[K     |████████████████████████████████| 132 kB 7.6 MB/s \n",
            "\u001b[?25hRequirement already satisfied: requests<3.0.0,>=2.13.0 in /usr/local/lib/python3.7/dist-packages (from neuralcoref==4.0) (2.23.0)\n",
            "Requirement already satisfied: spacy<3.0.0,>=2.1.0 in /usr/local/lib/python3.7/dist-packages (from neuralcoref==4.0) (2.3.7)\n",
            "Requirement already satisfied: certifi>=2017.4.17 in /usr/local/lib/python3.7/dist-packages (from requests<3.0.0,>=2.13.0->neuralcoref==4.0) (2021.10.8)\n",
            "Requirement already satisfied: urllib3!=1.25.0,!=1.25.1,<1.26,>=1.21.1 in /usr/local/lib/python3.7/dist-packages (from requests<3.0.0,>=2.13.0->neuralcoref==4.0) (1.24.3)\n",
            "Requirement already satisfied: chardet<4,>=3.0.2 in /usr/local/lib/python3.7/dist-packages (from requests<3.0.0,>=2.13.0->neuralcoref==4.0) (3.0.4)\n",
            "Requirement already satisfied: idna<3,>=2.5 in /usr/local/lib/python3.7/dist-packages (from requests<3.0.0,>=2.13.0->neuralcoref==4.0) (2.10)\n",
            "Requirement already satisfied: wasabi<1.1.0,>=0.4.0 in /usr/local/lib/python3.7/dist-packages (from spacy<3.0.0,>=2.1.0->neuralcoref==4.0) (0.9.1)\n",
            "Requirement already satisfied: tqdm<5.0.0,>=4.38.0 in /usr/local/lib/python3.7/dist-packages (from spacy<3.0.0,>=2.1.0->neuralcoref==4.0) (4.64.0)\n",
            "Requirement already satisfied: blis<0.8.0,>=0.4.0 in /usr/local/lib/python3.7/dist-packages (from spacy<3.0.0,>=2.1.0->neuralcoref==4.0) (0.4.1)\n",
            "Requirement already satisfied: murmurhash<1.1.0,>=0.28.0 in /usr/local/lib/python3.7/dist-packages (from spacy<3.0.0,>=2.1.0->neuralcoref==4.0) (1.0.6)\n",
            "Requirement already satisfied: catalogue<1.1.0,>=0.0.7 in /usr/local/lib/python3.7/dist-packages (from spacy<3.0.0,>=2.1.0->neuralcoref==4.0) (1.0.0)\n",
            "Requirement already satisfied: cymem<2.1.0,>=2.0.2 in /usr/local/lib/python3.7/dist-packages (from spacy<3.0.0,>=2.1.0->neuralcoref==4.0) (2.0.6)\n",
            "Requirement already satisfied: preshed<3.1.0,>=3.0.2 in /usr/local/lib/python3.7/dist-packages (from spacy<3.0.0,>=2.1.0->neuralcoref==4.0) (3.0.6)\n",
            "Requirement already satisfied: srsly<1.1.0,>=1.0.2 in /usr/local/lib/python3.7/dist-packages (from spacy<3.0.0,>=2.1.0->neuralcoref==4.0) (1.0.5)\n",
            "Requirement already satisfied: thinc<7.5.0,>=7.4.1 in /usr/local/lib/python3.7/dist-packages (from spacy<3.0.0,>=2.1.0->neuralcoref==4.0) (7.4.5)\n",
            "Requirement already satisfied: plac<1.2.0,>=0.9.6 in /usr/local/lib/python3.7/dist-packages (from spacy<3.0.0,>=2.1.0->neuralcoref==4.0) (1.1.3)\n",
            "Requirement already satisfied: setuptools in /usr/local/lib/python3.7/dist-packages (from spacy<3.0.0,>=2.1.0->neuralcoref==4.0) (57.4.0)\n",
            "Requirement already satisfied: importlib-metadata>=0.20 in /usr/local/lib/python3.7/dist-packages (from catalogue<1.1.0,>=0.0.7->spacy<3.0.0,>=2.1.0->neuralcoref==4.0) (4.11.3)\n",
            "Requirement already satisfied: typing-extensions>=3.6.4 in /usr/local/lib/python3.7/dist-packages (from importlib-metadata>=0.20->catalogue<1.1.0,>=0.0.7->spacy<3.0.0,>=2.1.0->neuralcoref==4.0) (3.10.0.2)\n",
            "Requirement already satisfied: zipp>=0.5 in /usr/local/lib/python3.7/dist-packages (from importlib-metadata>=0.20->catalogue<1.1.0,>=0.0.7->spacy<3.0.0,>=2.1.0->neuralcoref==4.0) (3.8.0)\n",
            "Collecting s3transfer<0.6.0,>=0.5.0\n",
            "  Downloading s3transfer-0.5.2-py3-none-any.whl (79 kB)\n",
            "\u001b[K     |████████████████████████████████| 79 kB 7.1 MB/s \n",
            "\u001b[?25hCollecting botocore<1.25.0,>=1.24.40\n",
            "  Downloading botocore-1.24.40-py3-none-any.whl (8.7 MB)\n",
            "\u001b[K     |████████████████████████████████| 8.7 MB 8.2 MB/s \n",
            "\u001b[?25hCollecting jmespath<2.0.0,>=0.7.1\n",
            "  Downloading jmespath-1.0.0-py3-none-any.whl (23 kB)\n",
            "Collecting urllib3!=1.25.0,!=1.25.1,<1.26,>=1.21.1\n",
            "  Downloading urllib3-1.25.11-py2.py3-none-any.whl (127 kB)\n",
            "\u001b[K     |████████████████████████████████| 127 kB 56.7 MB/s \n",
            "\u001b[?25hRequirement already satisfied: python-dateutil<3.0.0,>=2.1 in /usr/local/lib/python3.7/dist-packages (from botocore<1.25.0,>=1.24.40->boto3->neuralcoref==4.0) (2.8.2)\n",
            "Requirement already satisfied: six>=1.5 in /usr/local/lib/python3.7/dist-packages (from python-dateutil<3.0.0,>=2.1->botocore<1.25.0,>=1.24.40->boto3->neuralcoref==4.0) (1.15.0)\n",
            "Installing collected packages: urllib3, jmespath, botocore, s3transfer, boto3, neuralcoref\n",
            "  Attempting uninstall: urllib3\n",
            "    Found existing installation: urllib3 1.24.3\n",
            "    Uninstalling urllib3-1.24.3:\n",
            "      Successfully uninstalled urllib3-1.24.3\n",
            "  Running setup.py develop for neuralcoref\n",
            "\u001b[31mERROR: pip's dependency resolver does not currently take into account all the packages that are installed. This behaviour is the source of the following dependency conflicts.\n",
            "datascience 0.10.6 requires folium==0.2.1, but you have folium 0.8.3 which is incompatible.\u001b[0m\n",
            "Successfully installed boto3-1.21.40 botocore-1.24.40 jmespath-1.0.0 neuralcoref-4.0 s3transfer-0.5.2 urllib3-1.25.11\n"
          ]
        },
        {
          "output_type": "display_data",
          "data": {
            "application/vnd.colab-display-data+json": {
              "pip_warning": {
                "packages": [
                  "urllib3"
                ]
              }
            }
          },
          "metadata": {}
        }
      ]
    },
    {
      "cell_type": "code",
      "source": [
        "!python -m spacy download en"
      ],
      "metadata": {
        "colab": {
          "base_uri": "https://localhost:8080/"
        },
        "id": "OdmD3di5-IoI",
        "outputId": "8fb62430-27c8-4f9f-99bc-ac97ee5ac98c"
      },
      "execution_count": 1,
      "outputs": [
        {
          "output_type": "stream",
          "name": "stdout",
          "text": [
            "Collecting en_core_web_sm==2.3.1\n",
            "  Using cached en_core_web_sm-2.3.1-py3-none-any.whl\n",
            "Requirement already satisfied: spacy<2.4.0,>=2.3.0 in /usr/local/lib/python3.7/dist-packages (from en_core_web_sm==2.3.1) (2.3.7)\n",
            "Requirement already satisfied: blis<0.8.0,>=0.4.0 in /usr/local/lib/python3.7/dist-packages (from spacy<2.4.0,>=2.3.0->en_core_web_sm==2.3.1) (0.4.1)\n",
            "Requirement already satisfied: catalogue<1.1.0,>=0.0.7 in /usr/local/lib/python3.7/dist-packages (from spacy<2.4.0,>=2.3.0->en_core_web_sm==2.3.1) (1.0.0)\n",
            "Requirement already satisfied: srsly<1.1.0,>=1.0.2 in /usr/local/lib/python3.7/dist-packages (from spacy<2.4.0,>=2.3.0->en_core_web_sm==2.3.1) (1.0.5)\n",
            "Requirement already satisfied: thinc<7.5.0,>=7.4.1 in /usr/local/lib/python3.7/dist-packages (from spacy<2.4.0,>=2.3.0->en_core_web_sm==2.3.1) (7.4.5)\n",
            "Requirement already satisfied: preshed<3.1.0,>=3.0.2 in /usr/local/lib/python3.7/dist-packages (from spacy<2.4.0,>=2.3.0->en_core_web_sm==2.3.1) (3.0.6)\n",
            "Requirement already satisfied: numpy>=1.15.0 in /usr/local/lib/python3.7/dist-packages (from spacy<2.4.0,>=2.3.0->en_core_web_sm==2.3.1) (1.21.5)\n",
            "Requirement already satisfied: setuptools in /usr/local/lib/python3.7/dist-packages (from spacy<2.4.0,>=2.3.0->en_core_web_sm==2.3.1) (57.4.0)\n",
            "Requirement already satisfied: requests<3.0.0,>=2.13.0 in /usr/local/lib/python3.7/dist-packages (from spacy<2.4.0,>=2.3.0->en_core_web_sm==2.3.1) (2.23.0)\n",
            "Requirement already satisfied: wasabi<1.1.0,>=0.4.0 in /usr/local/lib/python3.7/dist-packages (from spacy<2.4.0,>=2.3.0->en_core_web_sm==2.3.1) (0.9.1)\n",
            "Requirement already satisfied: murmurhash<1.1.0,>=0.28.0 in /usr/local/lib/python3.7/dist-packages (from spacy<2.4.0,>=2.3.0->en_core_web_sm==2.3.1) (1.0.6)\n",
            "Requirement already satisfied: plac<1.2.0,>=0.9.6 in /usr/local/lib/python3.7/dist-packages (from spacy<2.4.0,>=2.3.0->en_core_web_sm==2.3.1) (1.1.3)\n",
            "Requirement already satisfied: cymem<2.1.0,>=2.0.2 in /usr/local/lib/python3.7/dist-packages (from spacy<2.4.0,>=2.3.0->en_core_web_sm==2.3.1) (2.0.6)\n",
            "Requirement already satisfied: tqdm<5.0.0,>=4.38.0 in /usr/local/lib/python3.7/dist-packages (from spacy<2.4.0,>=2.3.0->en_core_web_sm==2.3.1) (4.64.0)\n",
            "Requirement already satisfied: importlib-metadata>=0.20 in /usr/local/lib/python3.7/dist-packages (from catalogue<1.1.0,>=0.0.7->spacy<2.4.0,>=2.3.0->en_core_web_sm==2.3.1) (4.11.3)\n",
            "Requirement already satisfied: zipp>=0.5 in /usr/local/lib/python3.7/dist-packages (from importlib-metadata>=0.20->catalogue<1.1.0,>=0.0.7->spacy<2.4.0,>=2.3.0->en_core_web_sm==2.3.1) (3.8.0)\n",
            "Requirement already satisfied: typing-extensions>=3.6.4 in /usr/local/lib/python3.7/dist-packages (from importlib-metadata>=0.20->catalogue<1.1.0,>=0.0.7->spacy<2.4.0,>=2.3.0->en_core_web_sm==2.3.1) (3.10.0.2)\n",
            "Requirement already satisfied: idna<3,>=2.5 in /usr/local/lib/python3.7/dist-packages (from requests<3.0.0,>=2.13.0->spacy<2.4.0,>=2.3.0->en_core_web_sm==2.3.1) (2.10)\n",
            "Requirement already satisfied: certifi>=2017.4.17 in /usr/local/lib/python3.7/dist-packages (from requests<3.0.0,>=2.13.0->spacy<2.4.0,>=2.3.0->en_core_web_sm==2.3.1) (2021.10.8)\n",
            "Requirement already satisfied: chardet<4,>=3.0.2 in /usr/local/lib/python3.7/dist-packages (from requests<3.0.0,>=2.13.0->spacy<2.4.0,>=2.3.0->en_core_web_sm==2.3.1) (3.0.4)\n",
            "Requirement already satisfied: urllib3!=1.25.0,!=1.25.1,<1.26,>=1.21.1 in /usr/local/lib/python3.7/dist-packages (from requests<3.0.0,>=2.13.0->spacy<2.4.0,>=2.3.0->en_core_web_sm==2.3.1) (1.25.11)\n",
            "Installing collected packages: en-core-web-sm\n",
            "  Attempting uninstall: en-core-web-sm\n",
            "    Found existing installation: en-core-web-sm 3.2.0\n",
            "    Uninstalling en-core-web-sm-3.2.0:\n",
            "      Successfully uninstalled en-core-web-sm-3.2.0\n",
            "Successfully installed en-core-web-sm-2.3.1\n",
            "\u001b[38;5;2m✔ Download and installation successful\u001b[0m\n",
            "You can now load the model via spacy.load('en_core_web_sm')\n",
            "\u001b[38;5;2m✔ Linking successful\u001b[0m\n",
            "/usr/local/lib/python3.7/dist-packages/en_core_web_sm -->\n",
            "/usr/local/lib/python3.7/dist-packages/spacy/data/en\n",
            "You can now load the model via spacy.load('en')\n"
          ]
        }
      ]
    },
    {
      "cell_type": "code",
      "source": [
        "# Conference Resolution\n",
        "\n",
        "import neuralcoref\n",
        "import spacy\n",
        "\n",
        "nlp = spacy.load('en')\n",
        "neuralcoref.add_to_pipe(nlp)\n",
        "\n",
        "f = open('text.txt','rt')\n",
        "data = f.read()\n",
        "doc = nlp(data)\n",
        "\n",
        "def printMentions(doc):\n",
        "  print('\\nAll the mentions in the given text:')\n",
        "  for cluster in doc._.coref_clusters:\n",
        "    print(cluster.mentions)\n",
        "\n",
        "def printPronounReferences(doc):\n",
        "  print(\"\\nPronuoun and their references\")\n",
        "  for token in doc:\n",
        "    if token.pos_ == 'PRON' and token._.in_coref:\n",
        "      for cluster in token._.coref_clusters:\n",
        "        print(token.text,\" -> \",cluster.main.text) \n",
        "\n",
        "printMentions(doc)\n",
        "printPronounReferences(doc)"
      ],
      "metadata": {
        "colab": {
          "base_uri": "https://localhost:8080/"
        },
        "id": "re7T-swx8fAo",
        "outputId": "52c3ff9e-775c-4b8a-92d2-debd41e8f4c7"
      },
      "execution_count": 4,
      "outputs": [
        {
          "output_type": "stream",
          "name": "stdout",
          "text": [
            "\n",
            "All the mentions in the given text:\n",
            "[more than 450 species of mantis shrimp being known, They, they, their]\n",
            "\n",
            "Pronuoun and their references\n",
            "They  ->  more than 450 species of mantis shrimp being known\n",
            "they  ->  more than 450 species of mantis shrimp being known\n"
          ]
        }
      ]
    }
  ]
}