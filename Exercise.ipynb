{
  "nbformat": 4,
  "nbformat_minor": 0,
  "metadata": {
    "colab": {
      "name": "Exercise.ipynb",
      "provenance": [],
      "authorship_tag": "ABX9TyOX8xsuDyRR5l9WJRXFOsng",
      "include_colab_link": true
    },
    "kernelspec": {
      "name": "python3",
      "display_name": "Python 3"
    },
    "language_info": {
      "name": "python"
    }
  },
  "cells": [
    {
      "cell_type": "markdown",
      "metadata": {
        "id": "view-in-github",
        "colab_type": "text"
      },
      "source": [
        "<a href=\"https://colab.research.google.com/github/Aniket658/GN22CDBDS001_2159919/blob/main/Exercise.ipynb\" target=\"_parent\"><img src=\"https://colab.research.google.com/assets/colab-badge.svg\" alt=\"Open In Colab\"/></a>"
      ]
    },
    {
      "cell_type": "code",
      "execution_count": 11,
      "metadata": {
        "colab": {
          "base_uri": "https://localhost:8080/"
        },
        "id": "1SzKh-kfm3QU",
        "outputId": "ac6e27cf-6561-46af-dc92-2fe88254822c"
      },
      "outputs": [
        {
          "output_type": "stream",
          "name": "stdout",
          "text": [
            "Enter a Number : 3\n",
            "3\n",
            "000\n",
            "001\n",
            "010\n",
            "011\n",
            "100\n",
            "101\n",
            "110\n",
            "111\n"
          ]
        }
      ],
      "source": [
        "def decimaltobinary(n, k):\n",
        "  ans = \"\"\n",
        "  while n != 0:\n",
        "    rem = n % 2\n",
        "    ans = ans + str(rem)\n",
        "    n = int(n/2)\n",
        "  for i in range(len(ans), k):\n",
        "    ans = ans + \"0\"\n",
        "  return ans[::-1]\n",
        "\n",
        "n = int(input(\"Enter a Number : \"))\n",
        "for i in range(0, 2**n):\n",
        "  print(decimaltobinary(i, n))"
      ]
    },
    {
      "cell_type": "code",
      "source": [
        ""
      ],
      "metadata": {
        "id": "i9cgInQVny5z"
      },
      "execution_count": null,
      "outputs": []
    }
  ]
}