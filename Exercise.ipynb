{
  "nbformat": 4,
  "nbformat_minor": 0,
  "metadata": {
    "colab": {
      "name": "Exercise5.ipynb",
      "provenance": [],
      "authorship_tag": "ABX9TyP4CTgJlCr5akI8OtrN8WuQ",
      "include_colab_link": true
    },
    "kernelspec": {
      "name": "python3",
      "display_name": "Python 3"
    },
    "language_info": {
      "name": "python"
    }
  },
  "cells": [
    {
      "cell_type": "markdown",
      "metadata": {
        "id": "view-in-github",
        "colab_type": "text"
      },
      "source": [
        "<a href=\"https://colab.research.google.com/github/Aniket658/GN22CDBDS001_2159919/blob/main/Exercise.ipynb\" target=\"_parent\"><img src=\"https://colab.research.google.com/assets/colab-badge.svg\" alt=\"Open In Colab\"/></a>"
      ]
    },
    {
      "cell_type": "code",
      "execution_count": 12,
      "metadata": {
        "colab": {
          "base_uri": "https://localhost:8080/"
        },
        "id": "1SzKh-kfm3QU",
        "outputId": "54918a4c-5823-40d6-9bbe-b488384520bd"
      },
      "outputs": [
        {
          "output_type": "stream",
          "name": "stdout",
          "text": [
            "Writing exercise.py\n"
          ]
        }
      ],
      "source": [
        "%%writefile -a exercise.py\n",
        "\n",
        "def decimaltobinary(n, k):\n",
        "  ans = \"\"\n",
        "  while n != 0:\n",
        "    rem = n % 2\n",
        "    ans = ans + str(rem)\n",
        "    n = int(n/2)\n",
        "  for i in range(len(ans), k):\n",
        "    ans = ans + \"0\"\n",
        "  return ans[::-1]\n",
        "\n",
        "n = int(input(\"Enter a Number : \"))\n",
        "for i in range(0, 2**n):\n",
        "  print(decimaltobinary(i, n))"
      ]
    },
    {
      "cell_type": "code",
      "source": [
        "!cat exercise.py"
      ],
      "metadata": {
        "colab": {
          "base_uri": "https://localhost:8080/"
        },
        "id": "i9cgInQVny5z",
        "outputId": "020a9e85-98c8-41c6-c497-7ea7dd8c0269"
      },
      "execution_count": 13,
      "outputs": [
        {
          "output_type": "stream",
          "name": "stdout",
          "text": [
            "\n",
            "def decimaltobinary(n, k):\n",
            "  ans = \"\"\n",
            "  while n != 0:\n",
            "    rem = n % 2\n",
            "    ans = ans + str(rem)\n",
            "    n = int(n/2)\n",
            "  for i in range(len(ans), k):\n",
            "    ans = ans + \"0\"\n",
            "  return ans[::-1]\n",
            "\n",
            "n = int(input(\"Enter a Number : \"))\n",
            "for i in range(0, 2**n):\n",
            "  print(decimaltobinary(i, n))"
          ]
        }
      ]
    },
    {
      "cell_type": "code",
      "source": [
        ""
      ],
      "metadata": {
        "id": "XOmOl0fcubqS"
      },
      "execution_count": null,
      "outputs": []
    }
  ]
}