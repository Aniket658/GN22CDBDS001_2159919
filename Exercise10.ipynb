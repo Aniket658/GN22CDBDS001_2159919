{
  "nbformat": 4,
  "nbformat_minor": 0,
  "metadata": {
    "colab": {
      "name": "Exercise10.ipynb",
      "provenance": [],
      "authorship_tag": "ABX9TyMxc0lIXrds0FmBxrYFz0Tn",
      "include_colab_link": true
    },
    "kernelspec": {
      "name": "python3",
      "display_name": "Python 3"
    },
    "language_info": {
      "name": "python"
    }
  },
  "cells": [
    {
      "cell_type": "markdown",
      "metadata": {
        "id": "view-in-github",
        "colab_type": "text"
      },
      "source": [
        "<a href=\"https://colab.research.google.com/github/Aniket658/GN22CDBDS001_2159919/blob/main/Exercise10.ipynb\" target=\"_parent\"><img src=\"https://colab.research.google.com/assets/colab-badge.svg\" alt=\"Open In Colab\"/></a>"
      ]
    },
    {
      "cell_type": "code",
      "execution_count": null,
      "metadata": {
        "colab": {
          "base_uri": "https://localhost:8080/"
        },
        "id": "LUWKwBbO3mXn",
        "outputId": "3bb6abc0-03da-48df-9421-3bead05bb6d0"
      },
      "outputs": [
        {
          "output_type": "stream",
          "name": "stdout",
          "text": [
            "Enter a Base : 18\n",
            "N can't be greater than 16\n",
            "0\n"
          ]
        }
      ],
      "source": [
        "class CustomError(Exception):\n",
        "  pass \n",
        "\n",
        "def helper(n, k):\n",
        "  try:\n",
        "    ans = \"\"\n",
        "    while n != 0:\n",
        "      rem = n % k\n",
        "      if rem >= 10 :\n",
        "        rem = 'A' + rem - 10\n",
        "      ans = ans + str(rem)\n",
        "    if ans == \"\":\n",
        "      ans = \"0\"\n",
        "    return ans[::-1]\n",
        "  except:\n",
        "    return \"Error has occurred!!!\"\n",
        "\n",
        "try:\n",
        "  n = int(input(\"Enter a Base : \"))\n",
        "  if n >= 17:\n",
        "    raise CustomError\n",
        "except CustomError:\n",
        "  print(\"N can't be greater than 16\")\n",
        "  quit()\n",
        "\n",
        "for i in range(0, 50):\n",
        "  print(helper(i, n))"
      ]
    },
    {
      "cell_type": "code",
      "source": [
        ""
      ],
      "metadata": {
        "id": "wy9CMSfc3m59"
      },
      "execution_count": null,
      "outputs": []
    }
  ]
}