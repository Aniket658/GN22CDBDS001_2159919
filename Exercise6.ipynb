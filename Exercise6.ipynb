{
  "nbformat": 4,
  "nbformat_minor": 0,
  "metadata": {
    "colab": {
      "name": "Exercise5.ipynb",
      "provenance": [],
      "authorship_tag": "ABX9TyMY+oWQH6JAYR5NKfK34QIZ",
      "include_colab_link": true
    },
    "kernelspec": {
      "name": "python3",
      "display_name": "Python 3"
    },
    "language_info": {
      "name": "python"
    }
  },
  "cells": [
    {
      "cell_type": "markdown",
      "metadata": {
        "id": "view-in-github",
        "colab_type": "text"
      },
      "source": [
        "<a href=\"https://colab.research.google.com/github/Aniket658/GN22CDBDS001_2159919/blob/main/Exercise6.ipynb\" target=\"_parent\"><img src=\"https://colab.research.google.com/assets/colab-badge.svg\" alt=\"Open In Colab\"/></a>"
      ]
    },
    {
      "cell_type": "code",
      "execution_count": 17,
      "metadata": {
        "colab": {
          "base_uri": "https://localhost:8080/"
        },
        "id": "1SzKh-kfm3QU",
        "outputId": "c1e23f01-25fe-4555-c0b1-48a190b796c9"
      },
      "outputs": [
        {
          "output_type": "stream",
          "name": "stdout",
          "text": [
            "Enter a Base : 16\n",
            "0\n",
            "1\n",
            "2\n",
            "3\n",
            "4\n",
            "5\n",
            "6\n",
            "7\n",
            "8\n",
            "9\n",
            "A\n",
            "B\n",
            "C\n",
            "D\n",
            "E\n",
            "F\n",
            "10\n",
            "11\n",
            "12\n",
            "13\n",
            "14\n",
            "15\n",
            "16\n",
            "17\n",
            "18\n",
            "19\n",
            "1A\n",
            "1B\n",
            "1C\n",
            "1D\n",
            "1E\n",
            "1F\n",
            "20\n",
            "21\n",
            "22\n",
            "23\n",
            "24\n",
            "25\n",
            "26\n",
            "27\n",
            "28\n",
            "29\n",
            "2A\n",
            "2B\n",
            "2C\n",
            "2D\n",
            "2E\n",
            "2F\n",
            "30\n",
            "31\n"
          ]
        }
      ],
      "source": [
        "def helper(n, k):\n",
        "  ans = \"\"\n",
        "  while n != 0:\n",
        "    rem = n % k\n",
        "    if rem >=10 :\n",
        "      rem = chr(65 + rem - 10)\n",
        "    ans = ans + str(rem)\n",
        "    n = int(n/k)\n",
        "  if ans == \"\":\n",
        "    ans = \"0\"\n",
        "  return ans[::-1]\n",
        "\n",
        "n = int(input(\"Enter a Base : \"))\n",
        "for i in range(0, 50):\n",
        "  print(helper(i, n))"
      ]
    },
    {
      "cell_type": "code",
      "source": [
        ""
      ],
      "metadata": {
        "id": "Ytofpn10yzia"
      },
      "execution_count": null,
      "outputs": []
    }
  ]
}