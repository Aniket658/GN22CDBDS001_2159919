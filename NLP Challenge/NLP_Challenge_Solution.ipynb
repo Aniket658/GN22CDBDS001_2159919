{
  "nbformat": 4,
  "nbformat_minor": 0,
  "metadata": {
    "colab": {
      "name": "NLP_Challenge_Solution.ipynb",
      "provenance": [],
      "collapsed_sections": []
    },
    "kernelspec": {
      "name": "python3",
      "display_name": "Python 3"
    },
    "language_info": {
      "name": "python"
    }
  },
  "cells": [
    {
      "cell_type": "markdown",
      "source": [
        "**Taking File Input And Storing It As String**"
      ],
      "metadata": {
        "id": "fBQ67l9zGR4f"
      }
    },
    {
      "cell_type": "code",
      "execution_count": null,
      "metadata": {
        "colab": {
          "base_uri": "https://localhost:8080/"
        },
        "id": "WZnvVU05rIrC",
        "outputId": "fc81b5c7-8dfe-432a-9f3a-a86eeb829e26"
      },
      "outputs": [
        {
          "name": "stdout",
          "output_type": "stream",
          "text": [
            "Enter the name of File1 : data1.txt\n"
          ]
        }
      ],
      "source": [
        "filename = input(\"Enter the name of File1 : \")"
      ]
    },
    {
      "cell_type": "code",
      "source": [
        "f = open(filename, \"r\")\n",
        "text = f.read()"
      ],
      "metadata": {
        "id": "1bVQx3kLgRhU"
      },
      "execution_count": null,
      "outputs": []
    },
    {
      "cell_type": "code",
      "source": [
        "print(text)"
      ],
      "metadata": {
        "colab": {
          "base_uri": "https://localhost:8080/"
        },
        "id": "70lPaN_Lrilz",
        "outputId": "6abe361f-c685-4bae-e4e4-e3210f1b9913"
      },
      "execution_count": null,
      "outputs": [
        {
          "output_type": "stream",
          "name": "stdout",
          "text": [
            "$1000, ₹11.11, £155.1\n",
            "30/11/2001 11/11/11\n",
            "$1010, ₹10.11, £195.1\n",
            "\n",
            "12/30/2001 12/30/01\n",
            "4th, fifth, sixth, 1st, 2nd, nineteenth, fifth\n",
            "Aniket\n",
            "Anti, Ears, Easy, Hello, How,\n",
            "Owl , iron\n"
          ]
        }
      ]
    },
    {
      "cell_type": "markdown",
      "source": [
        "**Replacing New Line with a Space**"
      ],
      "metadata": {
        "id": "ciADjFa-Axvp"
      }
    },
    {
      "cell_type": "code",
      "source": [
        "def replace_newline(s): # Text of format 'My name is\\nAniket\\nJha' is converted to 'My name is Aniket Jha'.\n",
        "  s = s.replace('\\n',' ') \n",
        "  return s"
      ],
      "metadata": {
        "id": "k_yjeHvWsvj0"
      },
      "execution_count": null,
      "outputs": []
    },
    {
      "cell_type": "code",
      "source": [
        "text = replace_newline(text)\n",
        "print(text)"
      ],
      "metadata": {
        "colab": {
          "base_uri": "https://localhost:8080/"
        },
        "id": "mIRchuCV3sJT",
        "outputId": "51a6c020-ff1e-4b6a-9c6d-75dc5305d9cc"
      },
      "execution_count": null,
      "outputs": [
        {
          "output_type": "stream",
          "name": "stdout",
          "text": [
            "$1000, ₹11.11, £155.1 30/11/2001 11/11/11 $1010, ₹10.11, £195.1  12/30/2001 12/30/01 4th, fifth, sixth, 1st, 2nd, nineteenth, fifth Aniket Anti, Ears, Easy, Hello, How, Owl , iron\n"
          ]
        }
      ]
    },
    {
      "cell_type": "markdown",
      "source": [
        "**Removing Comma**"
      ],
      "metadata": {
        "id": "DmUccemLBRJ3"
      }
    },
    {
      "cell_type": "code",
      "source": [
        "def replace_comma(s): # Text of format 'My name, Aniket, Jha' is converted to 'My name is Aniket Jha'.\n",
        "  s = s.replace(',','')\n",
        "  return s"
      ],
      "metadata": {
        "id": "clqF10B_s6qM"
      },
      "execution_count": null,
      "outputs": []
    },
    {
      "cell_type": "code",
      "source": [
        "text = replace_comma(text)\n",
        "print(text)"
      ],
      "metadata": {
        "colab": {
          "base_uri": "https://localhost:8080/"
        },
        "id": "LevH57lO439k",
        "outputId": "671f7906-eb67-48a2-b2b4-782dac692fca"
      },
      "execution_count": null,
      "outputs": [
        {
          "output_type": "stream",
          "name": "stdout",
          "text": [
            "$1000 ₹11.11 £155.1 30/11/2001 11/11/11 $1010 ₹10.11 £195.1  12/30/2001 12/30/01 4th fifth sixth 1st 2nd nineteenth fifth Aniket Anti Ears Easy Hello How Owl  iron\n"
          ]
        }
      ]
    },
    {
      "cell_type": "markdown",
      "source": [
        "**Removing Fullstop**"
      ],
      "metadata": {
        "id": "gLpOwuVWBo3P"
      }
    },
    {
      "cell_type": "code",
      "source": [
        "def replace_fullstop(s): # Text of format 'My name. Aniket. Jha' is converted to 'My name is Aniket Jha'.\n",
        "  s = s.replace('.','')\n",
        "  return s"
      ],
      "metadata": {
        "id": "5j-Z1d9rItY0"
      },
      "execution_count": null,
      "outputs": []
    },
    {
      "cell_type": "code",
      "source": [
        "text = replace_fullstop(text)\n",
        "print(text)"
      ],
      "metadata": {
        "colab": {
          "base_uri": "https://localhost:8080/"
        },
        "id": "2--biD9-IyC3",
        "outputId": "fb26f4ed-d221-4197-dbb6-f7385fd92ec3"
      },
      "execution_count": null,
      "outputs": [
        {
          "output_type": "stream",
          "name": "stdout",
          "text": [
            "$1000 ₹1111 £1551 30/11/2001 11/11/11 $1010 ₹1011 £1951  12/30/2001 12/30/01 4th fifth sixth 1st 2nd nineteenth fifth Aniket Anti Ears Easy Hello How Owl  iron\n"
          ]
        }
      ]
    },
    {
      "cell_type": "code",
      "source": [
        "import re"
      ],
      "metadata": {
        "id": "-WgOMwK8taso"
      },
      "execution_count": null,
      "outputs": []
    },
    {
      "cell_type": "code",
      "source": [
        "def currency(s): # Looks for all string starting with any of these $, ₹, £ and followed by some digits(even fractions). \n",
        "  x = re.findall(r'[\\$₹£]\\d+\\.?\\d*', s) # '.' and digits followed by '.' are optional as number may or may not be fractional.\n",
        "  return x"
      ],
      "metadata": {
        "id": "CdtgQeTrhZJi"
      },
      "execution_count": null,
      "outputs": []
    },
    {
      "cell_type": "code",
      "source": [
        "x = currency(text)\n",
        "print(x)"
      ],
      "metadata": {
        "colab": {
          "base_uri": "https://localhost:8080/"
        },
        "id": "Uh5sg2Of5Rt1",
        "outputId": "24e52df5-bd9c-450e-aa05-33018bdfc904"
      },
      "execution_count": null,
      "outputs": [
        {
          "output_type": "stream",
          "name": "stdout",
          "text": [
            "['$1000', '₹1111', '£1551', '$1010', '₹1011', '£1951']\n"
          ]
        }
      ]
    },
    {
      "cell_type": "code",
      "source": [
        "def ddmmyyyy(s): # Looks for dates represented as dd/mm/yyyy\n",
        "  # Below conditions are put keeping in mind that day can't be 00 or greater than 31, also month can't be 00 or greater than \n",
        "  # And first digit of year must be 1 or 2\n",
        "  x = re.findall(r'\\b((0[1-9]|[12][0-9]|3[01])(/)(0[1-9]|1[012])(/)([1-2][0-9]{3}))\\b', s)\n",
        "  # \\b checks for word boundary i.e. above pattern should match for complete word not substring of word.\n",
        "  return x"
      ],
      "metadata": {
        "id": "A-delgChxRXQ"
      },
      "execution_count": null,
      "outputs": []
    },
    {
      "cell_type": "code",
      "source": [
        "x = ddmmyyyy(text)\n",
        "for val in x:\n",
        "  print(val[0])"
      ],
      "metadata": {
        "colab": {
          "base_uri": "https://localhost:8080/"
        },
        "id": "eiumg0kH6AqO",
        "outputId": "bf75278f-aab2-46ef-ca5f-1f61af47921b"
      },
      "execution_count": null,
      "outputs": [
        {
          "output_type": "stream",
          "name": "stdout",
          "text": [
            "30/11/2001\n"
          ]
        }
      ]
    },
    {
      "cell_type": "code",
      "source": [
        "def ddmmyy(s): # Looks for dates represented as dd/mm/yy\n",
        "  x = re.findall(r'\\b((0[1-9]|[12][0-9]|3[01])(/)(0[1-9]|1[012])(/)([0-9]{2}))\\b', s)\n",
        "  return x"
      ],
      "metadata": {
        "id": "v0FcOJM4ling"
      },
      "execution_count": null,
      "outputs": []
    },
    {
      "cell_type": "code",
      "source": [
        "x = ddmmyy(text)\n",
        "for val in x:\n",
        "  print(val[0])"
      ],
      "metadata": {
        "colab": {
          "base_uri": "https://localhost:8080/"
        },
        "id": "yUS1u7516W0v",
        "outputId": "5e26591e-10e7-41a3-a1a2-3132797b0e00"
      },
      "execution_count": null,
      "outputs": [
        {
          "output_type": "stream",
          "name": "stdout",
          "text": [
            "11/11/11\n"
          ]
        }
      ]
    },
    {
      "cell_type": "code",
      "source": [
        "def mmddyyyy(s): # Looks for dates represented as mm/dd/yyyy\n",
        "  x = re.findall(r'\\b((0[1-9]|1[012])(/)(0[1-9]|[12][0-9]|3[01])(/)([1-2][0-9]{3}))\\b', s)\n",
        "  # \\b checks for word boundary i.e. above pattern should match for complete word not substring of word.\n",
        "  return x"
      ],
      "metadata": {
        "id": "lbkkJIeOlitz"
      },
      "execution_count": null,
      "outputs": []
    },
    {
      "cell_type": "code",
      "source": [
        "x = mmddyyyy(text)\n",
        "for val in x:\n",
        "    print(val[0])"
      ],
      "metadata": {
        "colab": {
          "base_uri": "https://localhost:8080/"
        },
        "id": "8_dm8ahV6rb4",
        "outputId": "d81e1f82-5b90-4dee-8148-7d4de17644a0"
      },
      "execution_count": null,
      "outputs": [
        {
          "output_type": "stream",
          "name": "stdout",
          "text": [
            "12/30/2001\n"
          ]
        }
      ]
    },
    {
      "cell_type": "code",
      "source": [
        "def mmddyy(s): # Looks for dates represented as mm/dd/yy\n",
        "  x = re.findall(r'\\b((0[1-9]|1[012])(/)(0[1-9]|[12][0-9]|3[01])(/)([0-9]{2}))\\b', s)\n",
        "  # \\b checks for word boundary i.e. above pattern should match for complete word not substring of word.\n",
        "  return x"
      ],
      "metadata": {
        "id": "JAJYNP-zli1V"
      },
      "execution_count": null,
      "outputs": []
    },
    {
      "cell_type": "code",
      "source": [
        "x = mmddyy(text)\n",
        "for val in x:\n",
        "    print(val[0])"
      ],
      "metadata": {
        "colab": {
          "base_uri": "https://localhost:8080/"
        },
        "id": "4m_LqFtz7Fa0",
        "outputId": "02ed53f0-60a7-4687-f44f-4ea542f7e957"
      },
      "execution_count": null,
      "outputs": [
        {
          "output_type": "stream",
          "name": "stdout",
          "text": [
            "11/11/11\n",
            "12/30/01\n"
          ]
        }
      ]
    },
    {
      "cell_type": "code",
      "source": [
        "def order_number(s): # Orders (Ordinals) must start with one or more digit followed by either st, nd, rd or th.\n",
        "  # e.g 1st, 2nd, 3rd, 4th\n",
        "  x = re.findall(r'\\b(([1-9][0-9]*)(st|nd|rd|th))\\b',s)\n",
        "  # \\b checks for word boundary i.e. above pattern should match for complete word not substring of word.\n",
        "  return x"
      ],
      "metadata": {
        "id": "abfu-DDlzx_2"
      },
      "execution_count": null,
      "outputs": []
    },
    {
      "cell_type": "code",
      "source": [
        "x = order_number(text)\n",
        "for val in x:\n",
        "    print(val[0])"
      ],
      "metadata": {
        "colab": {
          "base_uri": "https://localhost:8080/"
        },
        "id": "BNabGlGN7bG2",
        "outputId": "aae5eb75-ec8c-458e-e455-2cdc3798ef96"
      },
      "execution_count": null,
      "outputs": [
        {
          "output_type": "stream",
          "name": "stdout",
          "text": [
            "4th\n",
            "1st\n",
            "2nd\n"
          ]
        }
      ]
    },
    {
      "cell_type": "code",
      "source": [
        "def order_text(s): # Orders (Ordinals) in alphabetical order e.g. first, second, fifth, twelveth, sixtieth, hundredth, etc.\n",
        "  # This is quite tricky as if we just check for strings ending with either 'th', 'rd', 'nd' or 'st' then word 'rest' will also match the pattern.\n",
        "  # Hence we need to check for initials letters as well. \n",
        "  # For e.g. for 'sixtieth' we can check that whether the string is starting with 'six' and ending with 'th'.\n",
        "  # Similarily 'sixtyseventh' will match for initials letters 'six' and 'th' at the end.\n",
        "  # Hence instead of checking for all orders we can check for initial few letters and either of 'th', 'nd', 'rd' or 'st' at end.\n",
        "\n",
        "  # re.findall(r'\\b((first|second|third)|(four[a-z]*|fif[a-z]*|six[a-z]*|seven[a-z]*|eight[a-z]*|nin[a-z]*\n",
        "  # |ten[a-z]*|eleven[a-z]*|twel[a-z]*|thirteen[a-z]*|twenty[a-z]*|thirty[a-z]*|one[a-z]*|two[a-z]*|\n",
        "  # three[a-z]*)(st|nd|rd|th))\\b', s, re.IGNORECASE)\n",
        "\n",
        "  x = re.findall(r'\\b((first|second|third)|(four[a-z]*|fif[a-z]*|six[a-z]*|seven[a-z]*|eight[a-z]*|nin[a-z]*|ten[a-z]*|eleven[a-z]*|twel[a-z]*|thirteen[a-z]*|twenty[a-z]*|thirty[a-z]*|one[a-z]*|two[a-z]*|three[a-z]*)(st|nd|rd|th))\\b', s, re.IGNORECASE)\n",
        "  # \\b checks for word boundary i.e. above pattern should match for complete word not substring of word.\n",
        "  # re.IGNORECASE is used case insensitive pattern matching\n",
        "  return x"
      ],
      "metadata": {
        "id": "HfwpKNMsmMyL"
      },
      "execution_count": null,
      "outputs": []
    },
    {
      "cell_type": "code",
      "source": [
        "x = order_text(text)\n",
        "for val in x:\n",
        "  print(val[0])"
      ],
      "metadata": {
        "colab": {
          "base_uri": "https://localhost:8080/"
        },
        "id": "Xws9XI4771_g",
        "outputId": "f1bdc083-9c2a-4404-d35a-cfedc94b15ca"
      },
      "execution_count": null,
      "outputs": [
        {
          "output_type": "stream",
          "name": "stdout",
          "text": [
            "fifth\n",
            "sixth\n",
            "nineteenth\n",
            "fifth\n"
          ]
        }
      ]
    },
    {
      "cell_type": "code",
      "source": [
        "def four_letter_word_starting_with_vowel(s): \n",
        "  # Starting with small or capital case vowels (a, e, i, o, u, A, E, I, O, U) followed by any 3 letters.\n",
        "  # {3} after [a-zA-Z] represents [a-zA-Z] should repeat 3 times.\n",
        "  return re.findall(r'\\b[aeiouAEIOU][a-zA-Z]{3}\\b', s)\n",
        "  # \\b checks for word boundary i.e. above pattern should match for complete word not substring of word."
      ],
      "metadata": {
        "id": "uwOBEAf57MJL"
      },
      "execution_count": null,
      "outputs": []
    },
    {
      "cell_type": "code",
      "source": [
        "print(four_letter_word_starting_with_vowel(text))"
      ],
      "metadata": {
        "colab": {
          "base_uri": "https://localhost:8080/"
        },
        "id": "zncpRIS_8M3B",
        "outputId": "1abdd6f7-f8e6-4ded-9575-23ac3097e002"
      },
      "execution_count": null,
      "outputs": [
        {
          "output_type": "stream",
          "name": "stdout",
          "text": [
            "['Anti', 'Ears', 'Easy', 'iron']\n"
          ]
        }
      ]
    }
  ]
}