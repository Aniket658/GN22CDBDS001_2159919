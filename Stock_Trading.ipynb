{
  "nbformat": 4,
  "nbformat_minor": 0,
  "metadata": {
    "colab": {
      "name": "Stock Trading.ipynb",
      "provenance": [],
      "collapsed_sections": [],
      "authorship_tag": "ABX9TyPFSrDk5q56zMXOk2zyon5a",
      "include_colab_link": true
    },
    "kernelspec": {
      "name": "python3",
      "display_name": "Python 3"
    },
    "language_info": {
      "name": "python"
    }
  },
  "cells": [
    {
      "cell_type": "markdown",
      "metadata": {
        "id": "view-in-github",
        "colab_type": "text"
      },
      "source": [
        "<a href=\"https://colab.research.google.com/github/Aniket658/GN22CDBDS001_2159919/blob/main/Stock_Trading.ipynb\" target=\"_parent\"><img src=\"https://colab.research.google.com/assets/colab-badge.svg\" alt=\"Open In Colab\"/></a>"
      ]
    },
    {
      "cell_type": "code",
      "execution_count": 13,
      "metadata": {
        "id": "tyvhVDN7Yd5i"
      },
      "outputs": [],
      "source": [
        "import pandas as pd\n",
        "import numpy as np"
      ]
    },
    {
      "cell_type": "code",
      "source": [
        "df = pd.read_csv(\"AAPL.csv\")"
      ],
      "metadata": {
        "id": "pp5mEP2QY0jp"
      },
      "execution_count": 3,
      "outputs": []
    },
    {
      "cell_type": "code",
      "source": [
        "df.head()"
      ],
      "metadata": {
        "colab": {
          "base_uri": "https://localhost:8080/",
          "height": 206
        },
        "id": "-EqD_7VhZHJN",
        "outputId": "9a6f2af7-ed69-438a-fdfe-6ee92645e5b2"
      },
      "execution_count": 4,
      "outputs": [
        {
          "output_type": "execute_result",
          "data": {
            "text/plain": [
              "         Date      Open      High       Low     Close  Adj Close     Volume\n",
              "0  2000-01-05  0.926339  0.987165  0.919643  0.928571   0.793945  778321600\n",
              "1  2000-01-06  0.947545  0.955357  0.848214  0.848214   0.725238  767972800\n",
              "2  2000-01-07  0.861607  0.901786  0.852679  0.888393   0.759592  460734400\n",
              "3  2000-01-10  0.910714  0.912946  0.845982  0.872768   0.746232  505064000\n",
              "4  2000-01-11  0.856585  0.887277  0.808036  0.828125   0.708062  441548800"
            ],
            "text/html": [
              "\n",
              "  <div id=\"df-4f6062dc-a42d-4bdd-9c43-f0a57200d404\">\n",
              "    <div class=\"colab-df-container\">\n",
              "      <div>\n",
              "<style scoped>\n",
              "    .dataframe tbody tr th:only-of-type {\n",
              "        vertical-align: middle;\n",
              "    }\n",
              "\n",
              "    .dataframe tbody tr th {\n",
              "        vertical-align: top;\n",
              "    }\n",
              "\n",
              "    .dataframe thead th {\n",
              "        text-align: right;\n",
              "    }\n",
              "</style>\n",
              "<table border=\"1\" class=\"dataframe\">\n",
              "  <thead>\n",
              "    <tr style=\"text-align: right;\">\n",
              "      <th></th>\n",
              "      <th>Date</th>\n",
              "      <th>Open</th>\n",
              "      <th>High</th>\n",
              "      <th>Low</th>\n",
              "      <th>Close</th>\n",
              "      <th>Adj Close</th>\n",
              "      <th>Volume</th>\n",
              "    </tr>\n",
              "  </thead>\n",
              "  <tbody>\n",
              "    <tr>\n",
              "      <th>0</th>\n",
              "      <td>2000-01-05</td>\n",
              "      <td>0.926339</td>\n",
              "      <td>0.987165</td>\n",
              "      <td>0.919643</td>\n",
              "      <td>0.928571</td>\n",
              "      <td>0.793945</td>\n",
              "      <td>778321600</td>\n",
              "    </tr>\n",
              "    <tr>\n",
              "      <th>1</th>\n",
              "      <td>2000-01-06</td>\n",
              "      <td>0.947545</td>\n",
              "      <td>0.955357</td>\n",
              "      <td>0.848214</td>\n",
              "      <td>0.848214</td>\n",
              "      <td>0.725238</td>\n",
              "      <td>767972800</td>\n",
              "    </tr>\n",
              "    <tr>\n",
              "      <th>2</th>\n",
              "      <td>2000-01-07</td>\n",
              "      <td>0.861607</td>\n",
              "      <td>0.901786</td>\n",
              "      <td>0.852679</td>\n",
              "      <td>0.888393</td>\n",
              "      <td>0.759592</td>\n",
              "      <td>460734400</td>\n",
              "    </tr>\n",
              "    <tr>\n",
              "      <th>3</th>\n",
              "      <td>2000-01-10</td>\n",
              "      <td>0.910714</td>\n",
              "      <td>0.912946</td>\n",
              "      <td>0.845982</td>\n",
              "      <td>0.872768</td>\n",
              "      <td>0.746232</td>\n",
              "      <td>505064000</td>\n",
              "    </tr>\n",
              "    <tr>\n",
              "      <th>4</th>\n",
              "      <td>2000-01-11</td>\n",
              "      <td>0.856585</td>\n",
              "      <td>0.887277</td>\n",
              "      <td>0.808036</td>\n",
              "      <td>0.828125</td>\n",
              "      <td>0.708062</td>\n",
              "      <td>441548800</td>\n",
              "    </tr>\n",
              "  </tbody>\n",
              "</table>\n",
              "</div>\n",
              "      <button class=\"colab-df-convert\" onclick=\"convertToInteractive('df-4f6062dc-a42d-4bdd-9c43-f0a57200d404')\"\n",
              "              title=\"Convert this dataframe to an interactive table.\"\n",
              "              style=\"display:none;\">\n",
              "        \n",
              "  <svg xmlns=\"http://www.w3.org/2000/svg\" height=\"24px\"viewBox=\"0 0 24 24\"\n",
              "       width=\"24px\">\n",
              "    <path d=\"M0 0h24v24H0V0z\" fill=\"none\"/>\n",
              "    <path d=\"M18.56 5.44l.94 2.06.94-2.06 2.06-.94-2.06-.94-.94-2.06-.94 2.06-2.06.94zm-11 1L8.5 8.5l.94-2.06 2.06-.94-2.06-.94L8.5 2.5l-.94 2.06-2.06.94zm10 10l.94 2.06.94-2.06 2.06-.94-2.06-.94-.94-2.06-.94 2.06-2.06.94z\"/><path d=\"M17.41 7.96l-1.37-1.37c-.4-.4-.92-.59-1.43-.59-.52 0-1.04.2-1.43.59L10.3 9.45l-7.72 7.72c-.78.78-.78 2.05 0 2.83L4 21.41c.39.39.9.59 1.41.59.51 0 1.02-.2 1.41-.59l7.78-7.78 2.81-2.81c.8-.78.8-2.07 0-2.86zM5.41 20L4 18.59l7.72-7.72 1.47 1.35L5.41 20z\"/>\n",
              "  </svg>\n",
              "      </button>\n",
              "      \n",
              "  <style>\n",
              "    .colab-df-container {\n",
              "      display:flex;\n",
              "      flex-wrap:wrap;\n",
              "      gap: 12px;\n",
              "    }\n",
              "\n",
              "    .colab-df-convert {\n",
              "      background-color: #E8F0FE;\n",
              "      border: none;\n",
              "      border-radius: 50%;\n",
              "      cursor: pointer;\n",
              "      display: none;\n",
              "      fill: #1967D2;\n",
              "      height: 32px;\n",
              "      padding: 0 0 0 0;\n",
              "      width: 32px;\n",
              "    }\n",
              "\n",
              "    .colab-df-convert:hover {\n",
              "      background-color: #E2EBFA;\n",
              "      box-shadow: 0px 1px 2px rgba(60, 64, 67, 0.3), 0px 1px 3px 1px rgba(60, 64, 67, 0.15);\n",
              "      fill: #174EA6;\n",
              "    }\n",
              "\n",
              "    [theme=dark] .colab-df-convert {\n",
              "      background-color: #3B4455;\n",
              "      fill: #D2E3FC;\n",
              "    }\n",
              "\n",
              "    [theme=dark] .colab-df-convert:hover {\n",
              "      background-color: #434B5C;\n",
              "      box-shadow: 0px 1px 3px 1px rgba(0, 0, 0, 0.15);\n",
              "      filter: drop-shadow(0px 1px 2px rgba(0, 0, 0, 0.3));\n",
              "      fill: #FFFFFF;\n",
              "    }\n",
              "  </style>\n",
              "\n",
              "      <script>\n",
              "        const buttonEl =\n",
              "          document.querySelector('#df-4f6062dc-a42d-4bdd-9c43-f0a57200d404 button.colab-df-convert');\n",
              "        buttonEl.style.display =\n",
              "          google.colab.kernel.accessAllowed ? 'block' : 'none';\n",
              "\n",
              "        async function convertToInteractive(key) {\n",
              "          const element = document.querySelector('#df-4f6062dc-a42d-4bdd-9c43-f0a57200d404');\n",
              "          const dataTable =\n",
              "            await google.colab.kernel.invokeFunction('convertToInteractive',\n",
              "                                                     [key], {});\n",
              "          if (!dataTable) return;\n",
              "\n",
              "          const docLinkHtml = 'Like what you see? Visit the ' +\n",
              "            '<a target=\"_blank\" href=https://colab.research.google.com/notebooks/data_table.ipynb>data table notebook</a>'\n",
              "            + ' to learn more about interactive tables.';\n",
              "          element.innerHTML = '';\n",
              "          dataTable['output_type'] = 'display_data';\n",
              "          await google.colab.output.renderOutput(dataTable, element);\n",
              "          const docLink = document.createElement('div');\n",
              "          docLink.innerHTML = docLinkHtml;\n",
              "          element.appendChild(docLink);\n",
              "        }\n",
              "      </script>\n",
              "    </div>\n",
              "  </div>\n",
              "  "
            ]
          },
          "metadata": {},
          "execution_count": 4
        }
      ]
    },
    {
      "cell_type": "code",
      "source": [
        "df1=df.reset_index()['Close']"
      ],
      "metadata": {
        "id": "j0s3g8IeZKVh"
      },
      "execution_count": 6,
      "outputs": []
    },
    {
      "cell_type": "code",
      "source": [
        "df1"
      ],
      "metadata": {
        "colab": {
          "base_uri": "https://localhost:8080/"
        },
        "id": "-5_uVBvCZQO8",
        "outputId": "53c4a0a6-4b34-4dc9-fa0f-c7e61654d740"
      },
      "execution_count": 7,
      "outputs": [
        {
          "output_type": "execute_result",
          "data": {
            "text/plain": [
              "0         0.928571\n",
              "1         0.848214\n",
              "2         0.888393\n",
              "3         0.872768\n",
              "4         0.828125\n",
              "           ...    \n",
              "5654    141.660004\n",
              "5655    137.440002\n",
              "5656    139.229996\n",
              "5657    136.720001\n",
              "5658    138.929993\n",
              "Name: Close, Length: 5659, dtype: float64"
            ]
          },
          "metadata": {},
          "execution_count": 7
        }
      ]
    },
    {
      "cell_type": "code",
      "source": [
        "import matplotlib.pyplot as plt\n",
        "f = plt.figure()\n",
        "f.set_figwidth(15)\n",
        "f.set_figheight(5)\n",
        "plt.plot(df1)"
      ],
      "metadata": {
        "colab": {
          "base_uri": "https://localhost:8080/",
          "height": 337
        },
        "id": "eq8p7iaSZT4S",
        "outputId": "0f6c4ee7-6598-4412-e62e-dd17e867f71f"
      },
      "execution_count": 11,
      "outputs": [
        {
          "output_type": "execute_result",
          "data": {
            "text/plain": [
              "[<matplotlib.lines.Line2D at 0x7f42f9dc5890>]"
            ]
          },
          "metadata": {},
          "execution_count": 11
        },
        {
          "output_type": "display_data",
          "data": {
            "text/plain": [
              "<Figure size 1080x360 with 1 Axes>"
            ],
            "image/png": "[encoded data removed]"
          },
          "metadata": {
            "needs_background": "light"
          }
        }
      ]
    },
    {
      "cell_type": "code",
      "source": [
        "from sklearn.preprocessing import MinMaxScaler\n",
        "scaler=MinMaxScaler(feature_range=(0,1))\n",
        "df1=scaler.fit_transform(np.array(df1).reshape(-1,1))"
      ],
      "metadata": {
        "id": "qrjB0GLbclKk"
      },
      "execution_count": 14,
      "outputs": []
    },
    {
      "cell_type": "code",
      "source": [
        "training_size=int(len(df1)*0.7)\n",
        "test_size=len(df1)-training_size\n",
        "train_data,test_data=df1[0:training_size,:],df1[training_size:len(df1),:1]"
      ],
      "metadata": {
        "id": "-NmrpA9UdWzG"
      },
      "execution_count": 15,
      "outputs": []
    },
    {
      "cell_type": "code",
      "source": [
        "training_size,test_size"
      ],
      "metadata": {
        "colab": {
          "base_uri": "https://localhost:8080/"
        },
        "id": "DqsTvcvMdag7",
        "outputId": "1a71a886-4c1a-44d3-f030-a182846d988d"
      },
      "execution_count": 16,
      "outputs": [
        {
          "output_type": "execute_result",
          "data": {
            "text/plain": [
              "(3961, 1698)"
            ]
          },
          "metadata": {},
          "execution_count": 16
        }
      ]
    },
    {
      "cell_type": "code",
      "source": [
        "import numpy\n",
        "# convert an array of values into a dataset matrix\n",
        "def create_dataset(dataset, time_step=1):\n",
        "\tdataX, dataY = [], []\n",
        "\tfor i in range(len(dataset)-time_step-1):\n",
        "\t\ta = dataset[i:(i+time_step), 0]   ###i=0, 0,1,2,3-----99   100 \n",
        "\t\tdataX.append(a)\n",
        "\t\tdataY.append(dataset[i + time_step, 0])\n",
        "\treturn numpy.array(dataX), numpy.array(dataY)"
      ],
      "metadata": {
        "id": "O4YWqV3Fdc9g"
      },
      "execution_count": 17,
      "outputs": []
    },
    {
      "cell_type": "code",
      "source": [
        "time_step = 100\n",
        "X_train, y_train = create_dataset(train_data, time_step)\n",
        "X_test, ytest = create_dataset(test_data, time_step)"
      ],
      "metadata": {
        "id": "D0UHLiK9dhA8"
      },
      "execution_count": 18,
      "outputs": []
    },
    {
      "cell_type": "code",
      "source": [
        "print(X_train.shape), print(y_train.shape)"
      ],
      "metadata": {
        "colab": {
          "base_uri": "https://localhost:8080/"
        },
        "id": "4ye5kZE4djIM",
        "outputId": "e16870c4-538f-486e-eb93-68a6cf6963fa"
      },
      "execution_count": 19,
      "outputs": [
        {
          "output_type": "stream",
          "name": "stdout",
          "text": [
            "(3860, 100)\n",
            "(3860,)\n"
          ]
        },
        {
          "output_type": "execute_result",
          "data": {
            "text/plain": [
              "(None, None)"
            ]
          },
          "metadata": {},
          "execution_count": 19
        }
      ]
    },
    {
      "cell_type": "code",
      "source": [
        "print(X_test.shape), print(ytest.shape)"
      ],
      "metadata": {
        "colab": {
          "base_uri": "https://localhost:8080/"
        },
        "id": "pGkpipK2dlpH",
        "outputId": "9820ee08-416d-4adf-97f6-c9090f624f3a"
      },
      "execution_count": 20,
      "outputs": [
        {
          "output_type": "stream",
          "name": "stdout",
          "text": [
            "(1597, 100)\n",
            "(1597,)\n"
          ]
        },
        {
          "output_type": "execute_result",
          "data": {
            "text/plain": [
              "(None, None)"
            ]
          },
          "metadata": {},
          "execution_count": 20
        }
      ]
    },
    {
      "cell_type": "code",
      "source": [
        "# reshape input to be [samples, time steps, features] which is required for LSTM\n",
        "X_train =X_train.reshape(X_train.shape[0],X_train.shape[1] , 1)\n",
        "X_test = X_test.reshape(X_test.shape[0],X_test.shape[1] , 1)"
      ],
      "metadata": {
        "id": "3zb4Vp5kdnj8"
      },
      "execution_count": 22,
      "outputs": []
    },
    {
      "cell_type": "code",
      "source": [
        "from tensorflow.keras.models import Sequential\n",
        "from tensorflow.keras.layers import Dense\n",
        "from tensorflow.keras.layers import LSTM"
      ],
      "metadata": {
        "id": "1NBPhmpkdp97"
      },
      "execution_count": 24,
      "outputs": []
    },
    {
      "cell_type": "code",
      "source": [
        "model=Sequential()\n",
        "model.add(LSTM(50,return_sequences=True,input_shape=(100,1)))\n",
        "model.add(LSTM(50,return_sequences=True))\n",
        "model.add(LSTM(50))\n",
        "model.add(Dense(1))\n",
        "model.compile(loss='mean_squared_error',optimizer='adam')"
      ],
      "metadata": {
        "id": "dLH448qFdtGr"
      },
      "execution_count": 25,
      "outputs": []
    },
    {
      "cell_type": "code",
      "source": [
        "model.summary()"
      ],
      "metadata": {
        "colab": {
          "base_uri": "https://localhost:8080/"
        },
        "id": "lLewQKWudz7k",
        "outputId": "b24f74d5-ac74-4dc0-f559-1df08dd9de1f"
      },
      "execution_count": 26,
      "outputs": [
        {
          "output_type": "stream",
          "name": "stdout",
          "text": [
            "Model: \"sequential\"\n",
            "_________________________________________________________________\n",
            " Layer (type)                Output Shape              Param #   \n",
            "=================================================================\n",
            " lstm (LSTM)                 (None, 100, 50)           10400     \n",
            "                                                                 \n",
            " lstm_1 (LSTM)               (None, 100, 50)           20200     \n",
            "                                                                 \n",
            " lstm_2 (LSTM)               (None, 50)                20200     \n",
            "                                                                 \n",
            " dense (Dense)               (None, 1)                 51        \n",
            "                                                                 \n",
            "=================================================================\n",
            "Total params: 50,851\n",
            "Trainable params: 50,851\n",
            "Non-trainable params: 0\n",
            "_________________________________________________________________\n"
          ]
        }
      ]
    },
    {
      "cell_type": "code",
      "source": [
        "model.fit(X_train,y_train,validation_data=(X_test,ytest),epochs=100,batch_size=64,verbose=1)"
      ],
      "metadata": {
        "colab": {
          "base_uri": "https://localhost:8080/"
        },
        "id": "XA2S69Vid1ww",
        "outputId": "9536698f-6011-4fbc-c462-10d2137a2f35"
      },
      "execution_count": 27,
      "outputs": [
        {
          "output_type": "stream",
          "name": "stdout",
          "text": [
            "Epoch 1/100\n",
            "61/61 [==============================] - 20s 221ms/step - loss: 2.6508e-04 - val_loss: 0.0041\n",
            "Epoch 2/100\n",
            "61/61 [==============================] - 11s 174ms/step - loss: 1.1639e-05 - val_loss: 0.0041\n",
            "Epoch 3/100\n",
            "61/61 [==============================] - 11s 177ms/step - loss: 1.1328e-05 - val_loss: 0.0063\n",
            "Epoch 4/100\n",
            "61/61 [==============================] - 11s 173ms/step - loss: 1.0566e-05 - val_loss: 0.0050\n",
            "Epoch 5/100\n",
            "61/61 [==============================] - 11s 175ms/step - loss: 1.0898e-05 - val_loss: 0.0067\n",
            "Epoch 6/100\n",
            "61/61 [==============================] - 11s 179ms/step - loss: 1.0573e-05 - val_loss: 0.0050\n",
            "Epoch 7/100\n",
            "61/61 [==============================] - 11s 176ms/step - loss: 1.0460e-05 - val_loss: 0.0044\n",
            "Epoch 8/100\n",
            "61/61 [==============================] - 11s 185ms/step - loss: 1.0559e-05 - val_loss: 0.0038\n",
            "Epoch 9/100\n",
            "61/61 [==============================] - 11s 176ms/step - loss: 9.4005e-06 - val_loss: 0.0037\n",
            "Epoch 10/100\n",
            "61/61 [==============================] - 11s 173ms/step - loss: 9.7171e-06 - val_loss: 0.0059\n",
            "Epoch 11/100\n",
            "61/61 [==============================] - 11s 176ms/step - loss: 1.1275e-05 - val_loss: 0.0022\n",
            "Epoch 12/100\n",
            "61/61 [==============================] - 11s 173ms/step - loss: 1.1874e-05 - val_loss: 0.0039\n",
            "Epoch 13/100\n",
            "61/61 [==============================] - 11s 176ms/step - loss: 9.1655e-06 - val_loss: 0.0044\n",
            "Epoch 14/100\n",
            "61/61 [==============================] - 11s 175ms/step - loss: 9.5730e-06 - val_loss: 0.0035\n",
            "Epoch 15/100\n",
            "61/61 [==============================] - 11s 175ms/step - loss: 7.4523e-06 - val_loss: 0.0031\n",
            "Epoch 16/100\n",
            "61/61 [==============================] - 11s 175ms/step - loss: 8.0029e-06 - val_loss: 0.0031\n",
            "Epoch 17/100\n",
            "61/61 [==============================] - 11s 178ms/step - loss: 8.5388e-06 - val_loss: 0.0042\n",
            "Epoch 18/100\n",
            "61/61 [==============================] - 11s 173ms/step - loss: 7.0079e-06 - val_loss: 0.0038\n",
            "Epoch 19/100\n",
            "61/61 [==============================] - 11s 175ms/step - loss: 7.0349e-06 - val_loss: 0.0033\n",
            "Epoch 20/100\n",
            "61/61 [==============================] - 11s 177ms/step - loss: 7.5093e-06 - val_loss: 0.0026\n",
            "Epoch 21/100\n",
            "61/61 [==============================] - 11s 177ms/step - loss: 6.4315e-06 - val_loss: 0.0025\n",
            "Epoch 22/100\n",
            "61/61 [==============================] - 11s 179ms/step - loss: 8.5707e-06 - val_loss: 0.0013\n",
            "Epoch 23/100\n",
            "61/61 [==============================] - 11s 174ms/step - loss: 7.4991e-06 - val_loss: 0.0028\n",
            "Epoch 24/100\n",
            "61/61 [==============================] - 11s 176ms/step - loss: 7.0556e-06 - val_loss: 0.0016\n",
            "Epoch 25/100\n",
            "61/61 [==============================] - 11s 178ms/step - loss: 7.5592e-06 - val_loss: 0.0023\n",
            "Epoch 26/100\n",
            "61/61 [==============================] - 11s 178ms/step - loss: 6.5847e-06 - val_loss: 0.0032\n",
            "Epoch 27/100\n",
            "61/61 [==============================] - 11s 175ms/step - loss: 7.5284e-06 - val_loss: 0.0020\n",
            "Epoch 28/100\n",
            "61/61 [==============================] - 11s 180ms/step - loss: 6.5729e-06 - val_loss: 0.0020\n",
            "Epoch 29/100\n",
            "61/61 [==============================] - 11s 177ms/step - loss: 6.2909e-06 - val_loss: 0.0018\n",
            "Epoch 30/100\n",
            "61/61 [==============================] - 11s 176ms/step - loss: 5.5311e-06 - val_loss: 0.0016\n",
            "Epoch 31/100\n",
            "61/61 [==============================] - 11s 174ms/step - loss: 6.4408e-06 - val_loss: 0.0015\n",
            "Epoch 32/100\n",
            "61/61 [==============================] - 11s 175ms/step - loss: 7.2988e-06 - val_loss: 0.0011\n",
            "Epoch 33/100\n",
            "61/61 [==============================] - 11s 175ms/step - loss: 6.1271e-06 - val_loss: 0.0018\n",
            "Epoch 34/100\n",
            "61/61 [==============================] - 11s 175ms/step - loss: 6.9219e-06 - val_loss: 0.0019\n",
            "Epoch 35/100\n",
            "61/61 [==============================] - 11s 177ms/step - loss: 6.0486e-06 - val_loss: 0.0018\n",
            "Epoch 36/100\n",
            "61/61 [==============================] - 11s 176ms/step - loss: 4.9849e-06 - val_loss: 0.0023\n",
            "Epoch 37/100\n",
            "61/61 [==============================] - 11s 174ms/step - loss: 6.2197e-06 - val_loss: 0.0018\n",
            "Epoch 38/100\n",
            "61/61 [==============================] - 11s 174ms/step - loss: 4.7917e-06 - val_loss: 0.0011\n",
            "Epoch 39/100\n",
            "61/61 [==============================] - 11s 177ms/step - loss: 5.3649e-06 - val_loss: 0.0017\n",
            "Epoch 40/100\n",
            "61/61 [==============================] - 12s 190ms/step - loss: 7.2597e-06 - val_loss: 9.9352e-04\n",
            "Epoch 41/100\n",
            "61/61 [==============================] - 11s 177ms/step - loss: 6.6506e-06 - val_loss: 0.0015\n",
            "Epoch 42/100\n",
            "61/61 [==============================] - 11s 175ms/step - loss: 4.5043e-06 - val_loss: 0.0019\n",
            "Epoch 43/100\n",
            "61/61 [==============================] - 11s 176ms/step - loss: 4.6610e-06 - val_loss: 0.0022\n",
            "Epoch 44/100\n",
            "61/61 [==============================] - 11s 175ms/step - loss: 4.2481e-06 - val_loss: 0.0015\n",
            "Epoch 45/100\n",
            "61/61 [==============================] - 11s 177ms/step - loss: 4.4679e-06 - val_loss: 0.0019\n",
            "Epoch 46/100\n",
            "61/61 [==============================] - 11s 180ms/step - loss: 4.6567e-06 - val_loss: 9.6765e-04\n",
            "Epoch 47/100\n",
            "61/61 [==============================] - 11s 176ms/step - loss: 5.6649e-06 - val_loss: 0.0011\n",
            "Epoch 48/100\n",
            "61/61 [==============================] - 11s 177ms/step - loss: 4.6859e-06 - val_loss: 8.4051e-04\n",
            "Epoch 49/100\n",
            "61/61 [==============================] - 11s 177ms/step - loss: 4.0416e-06 - val_loss: 0.0011\n",
            "Epoch 50/100\n",
            "61/61 [==============================] - 11s 178ms/step - loss: 4.3449e-06 - val_loss: 0.0015\n",
            "Epoch 51/100\n",
            "61/61 [==============================] - 11s 179ms/step - loss: 4.0474e-06 - val_loss: 0.0013\n",
            "Epoch 52/100\n",
            "61/61 [==============================] - 11s 179ms/step - loss: 3.5649e-06 - val_loss: 0.0018\n",
            "Epoch 53/100\n",
            "61/61 [==============================] - 11s 177ms/step - loss: 3.9928e-06 - val_loss: 0.0012\n",
            "Epoch 54/100\n",
            "61/61 [==============================] - 11s 177ms/step - loss: 3.7120e-06 - val_loss: 0.0011\n",
            "Epoch 55/100\n",
            "61/61 [==============================] - 11s 174ms/step - loss: 3.3974e-06 - val_loss: 8.5632e-04\n",
            "Epoch 56/100\n",
            "61/61 [==============================] - 11s 176ms/step - loss: 3.5577e-06 - val_loss: 0.0012\n",
            "Epoch 57/100\n",
            "61/61 [==============================] - 11s 175ms/step - loss: 3.4615e-06 - val_loss: 9.1342e-04\n",
            "Epoch 58/100\n",
            "61/61 [==============================] - 11s 173ms/step - loss: 3.5064e-06 - val_loss: 0.0010\n",
            "Epoch 59/100\n",
            "61/61 [==============================] - 11s 176ms/step - loss: 3.6486e-06 - val_loss: 8.6769e-04\n",
            "Epoch 60/100\n",
            "61/61 [==============================] - 11s 176ms/step - loss: 3.1591e-06 - val_loss: 0.0010\n",
            "Epoch 61/100\n",
            "61/61 [==============================] - 11s 175ms/step - loss: 3.1376e-06 - val_loss: 5.8783e-04\n",
            "Epoch 62/100\n",
            "61/61 [==============================] - 11s 177ms/step - loss: 3.9827e-06 - val_loss: 0.0013\n",
            "Epoch 63/100\n",
            "61/61 [==============================] - 11s 176ms/step - loss: 3.5090e-06 - val_loss: 0.0012\n",
            "Epoch 64/100\n",
            "61/61 [==============================] - 11s 176ms/step - loss: 3.1875e-06 - val_loss: 6.7490e-04\n",
            "Epoch 65/100\n",
            "61/61 [==============================] - 11s 174ms/step - loss: 3.3114e-06 - val_loss: 0.0015\n",
            "Epoch 66/100\n",
            "61/61 [==============================] - 11s 174ms/step - loss: 4.3630e-06 - val_loss: 7.1074e-04\n",
            "Epoch 67/100\n",
            "61/61 [==============================] - 11s 174ms/step - loss: 3.2020e-06 - val_loss: 4.0763e-04\n",
            "Epoch 68/100\n",
            "61/61 [==============================] - 11s 174ms/step - loss: 3.2146e-06 - val_loss: 0.0014\n",
            "Epoch 69/100\n",
            "61/61 [==============================] - 11s 179ms/step - loss: 2.8834e-06 - val_loss: 9.7704e-04\n",
            "Epoch 70/100\n",
            "61/61 [==============================] - 11s 184ms/step - loss: 2.9284e-06 - val_loss: 0.0013\n",
            "Epoch 71/100\n",
            "61/61 [==============================] - 11s 174ms/step - loss: 2.9919e-06 - val_loss: 6.2561e-04\n",
            "Epoch 72/100\n",
            "61/61 [==============================] - 11s 174ms/step - loss: 3.2636e-06 - val_loss: 6.1084e-04\n",
            "Epoch 73/100\n",
            "61/61 [==============================] - 11s 179ms/step - loss: 3.0159e-06 - val_loss: 9.8562e-04\n",
            "Epoch 74/100\n",
            "61/61 [==============================] - 11s 176ms/step - loss: 2.9306e-06 - val_loss: 8.9108e-04\n",
            "Epoch 75/100\n",
            "61/61 [==============================] - 11s 184ms/step - loss: 3.4066e-06 - val_loss: 8.0692e-04\n",
            "Epoch 76/100\n",
            "61/61 [==============================] - 11s 175ms/step - loss: 2.9168e-06 - val_loss: 6.4156e-04\n",
            "Epoch 77/100\n",
            "61/61 [==============================] - 11s 175ms/step - loss: 3.6357e-06 - val_loss: 7.9008e-04\n",
            "Epoch 78/100\n",
            "61/61 [==============================] - 11s 177ms/step - loss: 2.4950e-06 - val_loss: 8.0094e-04\n",
            "Epoch 79/100\n",
            "61/61 [==============================] - 11s 176ms/step - loss: 2.5316e-06 - val_loss: 6.5550e-04\n",
            "Epoch 80/100\n",
            "61/61 [==============================] - 11s 178ms/step - loss: 2.7597e-06 - val_loss: 9.0791e-04\n",
            "Epoch 81/100\n",
            "61/61 [==============================] - 11s 175ms/step - loss: 3.8399e-06 - val_loss: 5.1329e-04\n",
            "Epoch 82/100\n",
            "61/61 [==============================] - 11s 176ms/step - loss: 2.4935e-06 - val_loss: 4.8298e-04\n",
            "Epoch 83/100\n",
            "61/61 [==============================] - 11s 174ms/step - loss: 2.3848e-06 - val_loss: 4.9826e-04\n",
            "Epoch 84/100\n",
            "61/61 [==============================] - 11s 175ms/step - loss: 2.9917e-06 - val_loss: 9.3015e-04\n",
            "Epoch 85/100\n",
            "61/61 [==============================] - 11s 178ms/step - loss: 2.5328e-06 - val_loss: 6.2579e-04\n",
            "Epoch 86/100\n",
            "61/61 [==============================] - 11s 177ms/step - loss: 2.2381e-06 - val_loss: 0.0010\n",
            "Epoch 87/100\n",
            "61/61 [==============================] - 11s 177ms/step - loss: 2.5937e-06 - val_loss: 8.5479e-04\n",
            "Epoch 88/100\n",
            "61/61 [==============================] - 11s 175ms/step - loss: 2.1807e-06 - val_loss: 8.7572e-04\n",
            "Epoch 89/100\n",
            "61/61 [==============================] - 11s 175ms/step - loss: 2.6744e-06 - val_loss: 7.9929e-04\n",
            "Epoch 90/100\n",
            "61/61 [==============================] - 12s 196ms/step - loss: 2.4089e-06 - val_loss: 5.1441e-04\n",
            "Epoch 91/100\n",
            "61/61 [==============================] - 11s 178ms/step - loss: 2.3396e-06 - val_loss: 9.6974e-04\n",
            "Epoch 92/100\n",
            "61/61 [==============================] - 11s 173ms/step - loss: 2.9982e-06 - val_loss: 8.7064e-04\n",
            "Epoch 93/100\n",
            "61/61 [==============================] - 11s 173ms/step - loss: 2.1411e-06 - val_loss: 5.9731e-04\n",
            "Epoch 94/100\n",
            "61/61 [==============================] - 11s 177ms/step - loss: 3.0428e-06 - val_loss: 9.0800e-04\n",
            "Epoch 95/100\n",
            "61/61 [==============================] - 11s 173ms/step - loss: 2.2195e-06 - val_loss: 9.7734e-04\n",
            "Epoch 96/100\n",
            "61/61 [==============================] - 11s 178ms/step - loss: 2.3115e-06 - val_loss: 6.5773e-04\n",
            "Epoch 97/100\n",
            "61/61 [==============================] - 11s 175ms/step - loss: 2.0479e-06 - val_loss: 6.2216e-04\n",
            "Epoch 98/100\n",
            "61/61 [==============================] - 10s 172ms/step - loss: 2.1204e-06 - val_loss: 5.7616e-04\n",
            "Epoch 99/100\n",
            "61/61 [==============================] - 11s 178ms/step - loss: 2.4648e-06 - val_loss: 4.2489e-04\n",
            "Epoch 100/100\n",
            "61/61 [==============================] - 11s 176ms/step - loss: 2.6319e-06 - val_loss: 5.8992e-04\n"
          ]
        },
        {
          "output_type": "execute_result",
          "data": {
            "text/plain": [
              "<keras.callbacks.History at 0x7f427e96d190>"
            ]
          },
          "metadata": {},
          "execution_count": 27
        }
      ]
    },
    {
      "cell_type": "code",
      "source": [
        "import tensorflow as tf"
      ],
      "metadata": {
        "id": "xZJVmutId4Y2"
      },
      "execution_count": 28,
      "outputs": []
    },
    {
      "cell_type": "code",
      "source": [
        "train_predict=model.predict(X_train)\n",
        "test_predict=model.predict(X_test)"
      ],
      "metadata": {
        "id": "E-iVikDPd667"
      },
      "execution_count": 29,
      "outputs": []
    },
    {
      "cell_type": "code",
      "source": [
        "train_predict=scaler.inverse_transform(train_predict)\n",
        "test_predict=scaler.inverse_transform(test_predict)"
      ],
      "metadata": {
        "id": "uqMwqezmiFXH"
      },
      "execution_count": 30,
      "outputs": []
    },
    {
      "cell_type": "code",
      "source": [
        "import math\n",
        "from sklearn.metrics import mean_squared_error\n",
        "math.sqrt(mean_squared_error(y_train,train_predict))"
      ],
      "metadata": {
        "colab": {
          "base_uri": "https://localhost:8080/"
        },
        "id": "bb7gsItmiI4q",
        "outputId": "e3d1914e-e8f2-4875-b33c-efe2c27c261e"
      },
      "execution_count": 31,
      "outputs": [
        {
          "output_type": "execute_result",
          "data": {
            "text/plain": [
              "12.353832973658577"
            ]
          },
          "metadata": {},
          "execution_count": 31
        }
      ]
    },
    {
      "cell_type": "code",
      "source": [
        "math.sqrt(mean_squared_error(ytest,test_predict))"
      ],
      "metadata": {
        "colab": {
          "base_uri": "https://localhost:8080/"
        },
        "id": "tJ4et8GriLE3",
        "outputId": "2cdd7c17-db1b-4fb9-f09e-046fa0ff383b"
      },
      "execution_count": 32,
      "outputs": [
        {
          "output_type": "execute_result",
          "data": {
            "text/plain": [
              "84.32624546920412"
            ]
          },
          "metadata": {},
          "execution_count": 32
        }
      ]
    },
    {
      "cell_type": "code",
      "source": [
        "look_back=100\n",
        "trainPredictPlot = numpy.empty_like(df1)\n",
        "trainPredictPlot[:, :] = np.nan\n",
        "trainPredictPlot[look_back:len(train_predict)+look_back, :] = train_predict\n",
        "# shift test predictions for plotting\n",
        "testPredictPlot = numpy.empty_like(df1)\n",
        "testPredictPlot[:, :] = numpy.nan\n",
        "testPredictPlot[len(train_predict)+(look_back*2)+1:len(df1)-1, :] = test_predict\n",
        "# plot baseline and predictions\n",
        "f = plt.figure()\n",
        "f.set_figwidth(15)\n",
        "f.set_figheight(5)\n",
        "plt.plot(scaler.inverse_transform(df1))\n",
        "plt.plot(trainPredictPlot)\n",
        "plt.plot(testPredictPlot)\n",
        "plt.show()"
      ],
      "metadata": {
        "colab": {
          "base_uri": "https://localhost:8080/",
          "height": 320
        },
        "id": "XxNdo9xgiQ0a",
        "outputId": "d64050fe-b558-44f2-8046-44581ef45e1f"
      },
      "execution_count": 33,
      "outputs": [
        {
          "output_type": "display_data",
          "data": {
            "text/plain": [
              "<Figure size 1080x360 with 1 Axes>"
            ],
            "image/png": "[encoded data removed]"
          },
          "metadata": {
            "needs_background": "light"
          }
        }
      ]
    },
    {
      "cell_type": "code",
      "source": [
        "len(test_data)"
      ],
      "metadata": {
        "colab": {
          "base_uri": "https://localhost:8080/"
        },
        "id": "YEYAJbvyib7o",
        "outputId": "b398fd13-1317-4f7f-b468-70a66224b236"
      },
      "execution_count": 48,
      "outputs": [
        {
          "output_type": "execute_result",
          "data": {
            "text/plain": [
              "1698"
            ]
          },
          "metadata": {},
          "execution_count": 48
        }
      ]
    },
    {
      "cell_type": "code",
      "source": [
        "x_input=test_data[1598:].reshape(1,-1)\n",
        "x_input.shape"
      ],
      "metadata": {
        "colab": {
          "base_uri": "https://localhost:8080/"
        },
        "id": "QX0BXCc4iiA6",
        "outputId": "f5c6fc18-ac54-41fb-c89f-ff28e42f410a"
      },
      "execution_count": 49,
      "outputs": [
        {
          "output_type": "execute_result",
          "data": {
            "text/plain": [
              "(1, 100)"
            ]
          },
          "metadata": {},
          "execution_count": 49
        }
      ]
    },
    {
      "cell_type": "code",
      "source": [
        "temp_input=list(x_input)\n",
        "temp_input=temp_input[0].tolist()"
      ],
      "metadata": {
        "id": "deaFJM7AimJV"
      },
      "execution_count": 50,
      "outputs": []
    },
    {
      "cell_type": "code",
      "source": [
        "from numpy import array\n",
        "\n",
        "lst_output=[]\n",
        "n_steps=100\n",
        "i=0\n",
        "while(i<=30):\n",
        "    \n",
        "    if(len(temp_input)>100):\n",
        "        #print(temp_input)\n",
        "        x_input=np.array(temp_input[1:])\n",
        "        x_input=x_input.reshape(1,-1)\n",
        "        x_input = x_input.reshape((1, n_steps, 1))\n",
        "        #print(x_input)\n",
        "        yhat = model.predict(x_input, verbose=0)\n",
        "        temp_input.extend(yhat[0].tolist())\n",
        "        temp_input=temp_input[1:]\n",
        "        #print(temp_input)\n",
        "        lst_output.extend(yhat.tolist())\n",
        "        i=i+1\n",
        "    else:\n",
        "        x_input = x_input.reshape((1, n_steps,1))\n",
        "        yhat = model.predict(x_input, verbose=0)\n",
        "        temp_input.extend(yhat[0].tolist())\n",
        "        lst_output.extend(yhat.tolist())\n",
        "        i=i+1\n",
        "    \n",
        "\n",
        "print(lst_output)"
      ],
      "metadata": {
        "colab": {
          "base_uri": "https://localhost:8080/"
        },
        "id": "lxWFh1bNiopw",
        "outputId": "ed650d79-efcd-4601-ee3c-38afb36f8eb6"
      },
      "execution_count": 51,
      "outputs": [
        {
          "output_type": "stream",
          "name": "stdout",
          "text": [
            "[[0.7232027649879456], [0.7061358690261841], [0.6845778226852417], [0.6640338897705078], [0.6453052759170532], [0.6284269690513611], [0.6132151484489441], [0.5993462800979614], [0.586461067199707], [0.5742528438568115], [0.5625109672546387], [0.5511273145675659], [0.5400758385658264], [0.5293839573860168], [0.5191040635108948], [0.5092894434928894], [0.4999810457229614], [0.49120017886161804], [0.48294785618782043], [0.4752084016799927], [0.4679551124572754], [0.46115514636039734], [0.45477497577667236], [0.4487825334072113], [0.4431491196155548], [0.4378502368927002], [0.43286463618278503], [0.42817386984825134], [0.4237610399723053], [0.41961050033569336], [0.4157072603702545]]\n"
          ]
        }
      ]
    },
    {
      "cell_type": "code",
      "source": [
        "day_new=np.arange(1,101)\n",
        "day_pred=np.arange(101,132)"
      ],
      "metadata": {
        "id": "RvLccmWbi7t7"
      },
      "execution_count": 52,
      "outputs": []
    },
    {
      "cell_type": "code",
      "source": [
        "len(df1)"
      ],
      "metadata": {
        "colab": {
          "base_uri": "https://localhost:8080/"
        },
        "id": "7QKaoBsUjEl9",
        "outputId": "a61d290e-8f0c-4081-8ef1-1dcebf821204"
      },
      "execution_count": 53,
      "outputs": [
        {
          "output_type": "execute_result",
          "data": {
            "text/plain": [
              "5659"
            ]
          },
          "metadata": {},
          "execution_count": 53
        }
      ]
    },
    {
      "cell_type": "code",
      "source": [
        ""
      ],
      "metadata": {
        "id": "7viFWpasjJvs"
      },
      "execution_count": 75,
      "outputs": []
    },
    {
      "cell_type": "code",
      "source": [
        "\n",
        "\n",
        "f = plt.figure()\n",
        "f.set_figwidth(15)\n",
        "f.set_figheight(5)\n",
        "plt.plot(np.arange(1,52), test_predict[1400:1451])"
      ],
      "metadata": {
        "colab": {
          "base_uri": "https://localhost:8080/",
          "height": 337
        },
        "id": "M3NWm96Mmw2C",
        "outputId": "eb413a14-9a07-4377-fd11-ac815045c349"
      },
      "execution_count": 67,
      "outputs": [
        {
          "output_type": "execute_result",
          "data": {
            "text/plain": [
              "[<matplotlib.lines.Line2D at 0x7f427ae8ef90>]"
            ]
          },
          "metadata": {},
          "execution_count": 67
        },
        {
          "output_type": "display_data",
          "data": {
            "text/plain": [
              "<Figure size 1080x360 with 1 Axes>"
            ],
            "image/png": "[encoded data removed]"
          },
          "metadata": {
            "needs_background": "light"
          }
        }
      ]
    },
    {
      "cell_type": "code",
      "source": [
        "# best buying and selling days\n",
        "\n",
        "# This function finds the buy sell\n",
        "# schedule for maximum profit\n",
        "\n",
        "def stockBuySell(price, n, profit):\n",
        "  \n",
        "  # Prices must be given for at least two days\n",
        "  if (n == 1):\n",
        "    return\n",
        "  \n",
        "  # Traverse through given price array\n",
        "  i = 0\n",
        "  while (i < (n - 1)):\n",
        "    \n",
        "    # Find Local Minima\n",
        "    # Note that the limit is (n-2) as we are\n",
        "    # comparing present element to the next element\n",
        "    while ((i < (n - 1)) and\n",
        "        (price[i + 1] <= price[i])):\n",
        "      i += 1\n",
        "    \n",
        "    # If we reached the end, break\n",
        "    # as no further solution possible\n",
        "    if (i == n - 1):\n",
        "      break\n",
        "    \n",
        "    # Store the index of minima\n",
        "    buy = i\n",
        "    i += 1\n",
        "    \n",
        "    # Find Local Maxima\n",
        "    # Note that the limit is (n-1) as we are\n",
        "    # comparing to previous element\n",
        "    while ((i < n) and (price[i] >= price[i - 1])):\n",
        "      i += 1\n",
        "      \n",
        "    # Store the index of maxima\n",
        "    sell = i - 1\n",
        "\n",
        "    profit += (price[sell] - price[buy])\n",
        "    \n",
        "    print(\"Buy on day: \",buy,\"\\t\\t\",\n",
        "        \"Sell on day: \",sell, \"\\tProfit: \",(price[sell] - price[buy])[0])\n",
        "    \n",
        "# Driver code\n",
        "\n",
        "# Stock prices on consecutive days\n",
        "price = test_predict[1400:1451]\n",
        "n = len(price)\n",
        "\n",
        "# Function call\n",
        "stockBuySell(price, n, 0)\n"
      ],
      "metadata": {
        "colab": {
          "base_uri": "https://localhost:8080/"
        },
        "id": "D5rZTpKxl1qq",
        "outputId": "9d524a65-9554-4a8d-9f59-4fec55abcaeb"
      },
      "execution_count": 75,
      "outputs": [
        {
          "output_type": "stream",
          "name": "stdout",
          "text": [
            "Buy on day:  2 \t\t Sell on day:  5 \tProfit:  3.4715576\n",
            "Buy on day:  9 \t\t Sell on day:  10 \tProfit:  0.48687744\n",
            "Buy on day:  11 \t\t Sell on day:  15 \tProfit:  2.4191895\n",
            "Buy on day:  18 \t\t Sell on day:  24 \tProfit:  7.406555\n",
            "Buy on day:  26 \t\t Sell on day:  29 \tProfit:  2.2879639\n",
            "Buy on day:  32 \t\t Sell on day:  35 \tProfit:  1.4929962\n",
            "Buy on day:  39 \t\t Sell on day:  48 \tProfit:  11.562912\n",
            "Buy on day:  49 \t\t Sell on day:  50 \tProfit:  0.10922241\n"
          ]
        }
      ]
    },
    {
      "cell_type": "code",
      "source": [
        "print(price)"
      ],
      "metadata": {
        "colab": {
          "base_uri": "https://localhost:8080/"
        },
        "id": "5bhEHLdqpHg4",
        "outputId": "b2fadc3e-00dd-473e-d72a-598936a2f17a"
      },
      "execution_count": 73,
      "outputs": [
        {
          "output_type": "stream",
          "name": "stdout",
          "text": [
            "[[140.01256]\n",
            " [137.3249 ]\n",
            " [136.25189]\n",
            " [137.57892]\n",
            " [139.13068]\n",
            " [139.72345]\n",
            " [138.8474 ]\n",
            " [136.28111]\n",
            " [135.37816]\n",
            " [134.82082]\n",
            " [135.3077 ]\n",
            " [133.892  ]\n",
            " [133.91989]\n",
            " [134.8352 ]\n",
            " [136.03285]\n",
            " [136.31119]\n",
            " [136.10556]\n",
            " [135.22414]\n",
            " [134.40404]\n",
            " [135.67026]\n",
            " [137.28   ]\n",
            " [138.83382]\n",
            " [140.556  ]\n",
            " [141.52121]\n",
            " [141.8106 ]\n",
            " [141.37833]\n",
            " [141.03647]\n",
            " [141.3375 ]\n",
            " [141.41742]\n",
            " [143.32443]\n",
            " [143.13968]\n",
            " [142.03302]\n",
            " [141.97229]\n",
            " [142.99551]\n",
            " [143.3619 ]\n",
            " [143.46529]\n",
            " [143.0136 ]\n",
            " [142.87747]\n",
            " [141.41023]\n",
            " [140.45876]\n",
            " [141.39064]\n",
            " [142.21593]\n",
            " [142.95961]\n",
            " [144.48448]\n",
            " [147.44263]\n",
            " [150.23033]\n",
            " [151.48529]\n",
            " [151.80634]\n",
            " [152.02167]\n",
            " [149.62424]\n",
            " [149.73346]]\n"
          ]
        }
      ]
    },
    {
      "cell_type": "code",
      "source": [
        ""
      ],
      "metadata": {
        "id": "Y5PEyj2_qSdC"
      },
      "execution_count": 75,
      "outputs": []
    },
    {
      "cell_type": "code",
      "source": [
        ""
      ],
      "metadata": {
        "id": "b_ig9Z1rrGjC"
      },
      "execution_count": null,
      "outputs": []
    },
    {
      "cell_type": "code",
      "source": [
        ""
      ],
      "metadata": {
        "id": "yc5O2N2zrGm7"
      },
      "execution_count": null,
      "outputs": []
    },
    {
      "cell_type": "code",
      "source": [
        ""
      ],
      "metadata": {
        "id": "ludwC7f3rGqP"
      },
      "execution_count": null,
      "outputs": []
    },
    {
      "cell_type": "code",
      "source": [
        ""
      ],
      "metadata": {
        "id": "TdJ9b0vKrGtl"
      },
      "execution_count": null,
      "outputs": []
    },
    {
      "cell_type": "code",
      "source": [
        ""
      ],
      "metadata": {
        "id": "wKiFQ-94rGwn"
      },
      "execution_count": null,
      "outputs": []
    },
    {
      "cell_type": "code",
      "source": [
        ""
      ],
      "metadata": {
        "id": "RYB_x3jlrG0A"
      },
      "execution_count": null,
      "outputs": []
    },
    {
      "cell_type": "code",
      "source": [
        ""
      ],
      "metadata": {
        "id": "nhw6CeZkrG3x"
      },
      "execution_count": null,
      "outputs": []
    },
    {
      "cell_type": "code",
      "source": [
        ""
      ],
      "metadata": {
        "id": "aqT4iBRGrG7P"
      },
      "execution_count": null,
      "outputs": []
    },
    {
      "cell_type": "code",
      "source": [
        ""
      ],
      "metadata": {
        "id": "pO436WMBrG-p"
      },
      "execution_count": null,
      "outputs": []
    },
    {
      "cell_type": "code",
      "source": [
        ""
      ],
      "metadata": {
        "id": "A_JGjGD1rHCh"
      },
      "execution_count": null,
      "outputs": []
    },
    {
      "cell_type": "code",
      "source": [
        "actual_data = scaler.inverse_transform(df1[5559:])\n",
        "predicted_data = scaler.inverse_transform(lst_output)\n",
        "\n",
        "f = plt.figure()\n",
        "f.set_figwidth(15)\n",
        "f.set_figheight(5)\n",
        "plt.plot(day_new, actual_data)\n",
        "plt.plot(day_pred, predicted_data)"
      ],
      "metadata": {
        "colab": {
          "base_uri": "https://localhost:8080/",
          "height": 337
        },
        "id": "UAdUd7BNrHHI",
        "outputId": "d8c26a0a-fc4a-4675-e198-d4be08b137bb"
      },
      "execution_count": 76,
      "outputs": [
        {
          "output_type": "execute_result",
          "data": {
            "text/plain": [
              "[<matplotlib.lines.Line2D at 0x7f427ae7d450>]"
            ]
          },
          "metadata": {},
          "execution_count": 76
        },
        {
          "output_type": "display_data",
          "data": {
            "text/plain": [
              "<Figure size 1080x360 with 1 Axes>"
            ],
            "image/png": "[encoded data removed]"
          },
          "metadata": {
            "needs_background": "light"
          }
        }
      ]
    },
    {
      "cell_type": "code",
      "source": [
        ""
      ],
      "metadata": {
        "id": "AMUiwHQIrH3D"
      },
      "execution_count": null,
      "outputs": []
    }
  ]
}